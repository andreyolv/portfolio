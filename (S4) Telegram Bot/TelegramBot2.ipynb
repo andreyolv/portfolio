{
 "cells": [
  {
   "cell_type": "code",
   "execution_count": 1,
   "id": "c0305051",
   "metadata": {},
   "outputs": [],
   "source": [
    "# pip install telepot"
   ]
  },
  {
   "cell_type": "code",
   "execution_count": 2,
   "id": "71a74c19",
   "metadata": {},
   "outputs": [],
   "source": [
    "import telepot\n",
    "\n",
    "token = '1827160513:AAGZg1DLTY5kpAKSG1PHSY6oMVCnBHrEAmY'"
   ]
  },
  {
   "cell_type": "code",
   "execution_count": 3,
   "id": "eb2d7db4",
   "metadata": {},
   "outputs": [],
   "source": [
    "bot = telepot.Bot(token=token)"
   ]
  },
  {
   "cell_type": "code",
   "execution_count": 4,
   "id": "108c402a",
   "metadata": {},
   "outputs": [
    {
     "name": "stdout",
     "output_type": "stream",
     "text": [
      "[{'update_id': 877979690, 'message': {'message_id': 5, 'from': {'id': 1675567088, 'is_bot': False, 'first_name': 'Andrey', 'language_code': 'pt-br'}, 'chat': {'id': 1675567088, 'first_name': 'Andrey', 'type': 'private'}, 'date': 1625677683, 'text': 'alou cuzao'}}]\n"
     ]
    }
   ],
   "source": [
    "print(bot.getUpdates())"
   ]
  },
  {
   "cell_type": "code",
   "execution_count": 5,
   "id": "9c5267e5",
   "metadata": {},
   "outputs": [
    {
     "data": {
      "text/plain": [
       "{'message_id': 7,\n",
       " 'from': {'id': 1827160513,\n",
       "  'is_bot': True,\n",
       "  'first_name': 'DeployAndrey',\n",
       "  'username': 'andreyoliv_bot'},\n",
       " 'chat': {'id': 1675567088, 'first_name': 'Andrey', 'type': 'private'},\n",
       " 'date': 1625678709,\n",
       " 'text': 'Bom dia Andrey, você é muito lindo d+++++'}"
      ]
     },
     "execution_count": 5,
     "metadata": {},
     "output_type": "execute_result"
    }
   ],
   "source": [
    "bot.sendMessage(1675567088, 'Bom dia Andrey, você é muito lindo d+++++')"
   ]
  },
  {
   "cell_type": "code",
   "execution_count": 6,
   "id": "2a48d48b",
   "metadata": {},
   "outputs": [
    {
     "data": {
      "text/plain": [
       "{'id': 1827160513,\n",
       " 'is_bot': True,\n",
       " 'first_name': 'DeployAndrey',\n",
       " 'username': 'andreyoliv_bot',\n",
       " 'can_join_groups': True,\n",
       " 'can_read_all_group_messages': False,\n",
       " 'supports_inline_queries': False}"
      ]
     },
     "execution_count": 6,
     "metadata": {},
     "output_type": "execute_result"
    }
   ],
   "source": [
    "bot.getMe()"
   ]
  },
  {
   "cell_type": "code",
   "execution_count": 23,
   "id": "d3f5d8c1",
   "metadata": {},
   "outputs": [],
   "source": [
    "idBot = 1827160513\n",
    "idAndrey = 1675567088"
   ]
  },
  {
   "cell_type": "code",
   "execution_count": 19,
   "id": "49c2de5f",
   "metadata": {},
   "outputs": [
    {
     "data": {
      "text/plain": [
       "{'message_id': 8,\n",
       " 'from': {'id': 1827160513,\n",
       "  'is_bot': True,\n",
       "  'first_name': 'DeployAndrey',\n",
       "  'username': 'andreyoliv_bot'},\n",
       " 'chat': {'id': 1675567088, 'first_name': 'Andrey', 'type': 'private'},\n",
       " 'date': 1625680677,\n",
       " 'photo': [{'file_id': 'AgACAgEAAxkDAAMIYOXrJcMC8EQSCQUTTwU8n5AisHwAAkepMRvvFTFHPfBE25OOH2oBAAMCAANzAAMgBA',\n",
       "   'file_unique_id': 'AQADR6kxG-8VMUd4',\n",
       "   'file_size': 1486,\n",
       "   'width': 72,\n",
       "   'height': 90},\n",
       "  {'file_id': 'AgACAgEAAxkDAAMIYOXrJcMC8EQSCQUTTwU8n5AisHwAAkepMRvvFTFHPfBE25OOH2oBAAMCAANtAAMgBA',\n",
       "   'file_unique_id': 'AQADR6kxG-8VMUdy',\n",
       "   'file_size': 19763,\n",
       "   'width': 256,\n",
       "   'height': 320},\n",
       "  {'file_id': 'AgACAgEAAxkDAAMIYOXrJcMC8EQSCQUTTwU8n5AisHwAAkepMRvvFTFHPfBE25OOH2oBAAMCAAN4AAMgBA',\n",
       "   'file_unique_id': 'AQADR6kxG-8VMUd9',\n",
       "   'file_size': 94539,\n",
       "   'width': 640,\n",
       "   'height': 800},\n",
       "  {'file_id': 'AgACAgEAAxkDAAMIYOXrJcMC8EQSCQUTTwU8n5AisHwAAkepMRvvFTFHPfBE25OOH2oBAAMCAAN5AAMgBA',\n",
       "   'file_unique_id': 'AQADR6kxG-8VMUd-',\n",
       "   'file_size': 121597,\n",
       "   'width': 900,\n",
       "   'height': 1125}]}"
      ]
     },
     "execution_count": 19,
     "metadata": {},
     "output_type": "execute_result"
    }
   ],
   "source": [
    "path = r'C:\\Users\\Andrey\\Google Drive\\Data Science\\Projetos\\Telegram\\fotoeu.jpg'\n",
    "\n",
    "bot.sendPhoto(1675567088, photo=open(path, 'rb'))"
   ]
  },
  {
   "cell_type": "code",
   "execution_count": 34,
   "id": "b257cffa",
   "metadata": {},
   "outputs": [
    {
     "data": {
      "text/plain": [
       "'\\nbot.sendLocation(1675567088, -30.1566, -80.8512)\\n\\nbot.getChatAdministrators(idBot)\\n\\nbot.setChatTitle(idBot, \"ChatBot Teste do Andrey\")\\n\\nbot.setChatDescription(chat_id, description=None)\\n\\nbot.setChatPhoto(idBot, photo=open(path, \\'rb\\'))\\n\\nbot.editMessageText(msg_identifier, text)\\n\\nbot.deleteMessage(msg_identifier)\\n'"
      ]
     },
     "execution_count": 34,
     "metadata": {},
     "output_type": "execute_result"
    }
   ],
   "source": [
    "\"\"\"\n",
    "bot.sendLocation(1675567088, -30.1566, -80.8512)\n",
    "\n",
    "bot.getChatAdministrators(idBot)\n",
    "\n",
    "bot.setChatTitle(idBot, \"ChatBot Teste do Andrey\")\n",
    "\n",
    "bot.setChatDescription(chat_id, description=None)\n",
    "\n",
    "bot.setChatPhoto(idBot, photo=open(path, 'rb'))\n",
    "\n",
    "bot.editMessageText(msg_identifier, text)\n",
    "\n",
    "bot.deleteMessage(msg_identifier)\n",
    "\"\"\""
   ]
  },
  {
   "cell_type": "code",
   "execution_count": 36,
   "id": "3a3c7691",
   "metadata": {},
   "outputs": [
    {
     "ename": "NameError",
     "evalue": "name 'telebot' is not defined",
     "output_type": "error",
     "traceback": [
      "\u001b[1;31m---------------------------------------------------------------------------\u001b[0m",
      "\u001b[1;31mNameError\u001b[0m                                 Traceback (most recent call last)",
      "\u001b[1;32m<ipython-input-36-b2fd0986861e>\u001b[0m in \u001b[0;36m<module>\u001b[1;34m\u001b[0m\n\u001b[1;32m----> 1\u001b[1;33m \u001b[0mbot\u001b[0m \u001b[1;33m=\u001b[0m \u001b[0mtelebot\u001b[0m\u001b[1;33m.\u001b[0m\u001b[0mTelebot\u001b[0m\u001b[1;33m(\u001b[0m\u001b[0mtoken\u001b[0m\u001b[1;33m)\u001b[0m\u001b[1;33m\u001b[0m\u001b[1;33m\u001b[0m\u001b[0m\n\u001b[0m\u001b[0;32m      2\u001b[0m \u001b[1;33m\u001b[0m\u001b[0m\n\u001b[0;32m      3\u001b[0m \u001b[1;33m@\u001b[0m\u001b[0mbot\u001b[0m\u001b[1;33m.\u001b[0m\u001b[0mmessege_handler\u001b[0m\u001b[1;33m(\u001b[0m\u001b[0mcommands\u001b[0m\u001b[1;33m=\u001b[0m\u001b[1;33m[\u001b[0m\u001b[1;34m\"oi\"\u001b[0m\u001b[1;33m]\u001b[0m\u001b[1;33m)\u001b[0m\u001b[1;33m\u001b[0m\u001b[1;33m\u001b[0m\u001b[0m\n\u001b[0;32m      4\u001b[0m \u001b[1;32mdef\u001b[0m \u001b[0mfuncao_oi\u001b[0m\u001b[1;33m(\u001b[0m\u001b[0msession\u001b[0m\u001b[1;33m)\u001b[0m\u001b[1;33m:\u001b[0m\u001b[1;33m\u001b[0m\u001b[1;33m\u001b[0m\u001b[0m\n\u001b[0;32m      5\u001b[0m     \u001b[0mprint\u001b[0m\u001b[1;33m(\u001b[0m\u001b[0msession\u001b[0m\u001b[1;33m)\u001b[0m\u001b[1;33m\u001b[0m\u001b[1;33m\u001b[0m\u001b[0m\n",
      "\u001b[1;31mNameError\u001b[0m: name 'telebot' is not defined"
     ]
    }
   ],
   "source": [
    "bot = telebot.Telebot(token)\n",
    "\n",
    "@bot.messege_handler(commands=[\"oi\"])\n",
    "def funcao_oi(session):\n",
    "    print(session)\n",
    "    bot.reply_to(session, \"Oi lindo\")"
   ]
  },
  {
   "cell_type": "code",
   "execution_count": null,
   "id": "889e7e18",
   "metadata": {},
   "outputs": [],
   "source": []
  }
 ],
 "metadata": {
  "kernelspec": {
   "display_name": "Python 3",
   "language": "python",
   "name": "python3"
  },
  "language_info": {
   "codemirror_mode": {
    "name": "ipython",
    "version": 3
   },
   "file_extension": ".py",
   "mimetype": "text/x-python",
   "name": "python",
   "nbconvert_exporter": "python",
   "pygments_lexer": "ipython3",
   "version": "3.8.8"
  }
 },
 "nbformat": 4,
 "nbformat_minor": 5
}
