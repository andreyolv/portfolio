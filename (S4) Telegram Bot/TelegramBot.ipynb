{
 "cells": [
  {
   "cell_type": "code",
   "execution_count": 1,
   "id": "c0305051",
   "metadata": {},
   "outputs": [],
   "source": [
    "# pip install python_telegram_bot"
   ]
  },
  {
   "cell_type": "markdown",
   "id": "48f66b6a",
   "metadata": {},
   "source": [
    "Use this token to access the HTTP API:\n",
    "1827160513:AAGZg1DLTY5kpAKSG1PHSY6oMVCnBHrEAmY"
   ]
  },
  {
   "cell_type": "code",
   "execution_count": 2,
   "id": "4c5bd19c",
   "metadata": {},
   "outputs": [],
   "source": [
    "import json\n",
    "from telegram import Bot, Update\n",
    "from telegram.ext import CommandHandler, Dispatcher, Filters, MessageHandler\n",
    "\n",
    "TELEGRAM_TOKEN = \"1827160513:AAGZg1DLTY5kpAKSG1PHSY6oMVCnBHrEAmY\""
   ]
  },
  {
   "cell_type": "code",
   "execution_count": 3,
   "id": "6628e1ab",
   "metadata": {},
   "outputs": [],
   "source": [
    "def start(update, context):\n",
    "    context.bot.send_message(chat_id=update.effective_chat.id,\n",
    "                             text=\"Tudo certo! Bot funcionando!\")"
   ]
  },
  {
   "cell_type": "code",
   "execution_count": 4,
   "id": "f3fbab40",
   "metadata": {},
   "outputs": [],
   "source": [
    "def echo(update, context):\n",
    "     context.bot.send_message(chat_id=update.effective_chat.id,\n",
    "                              text=text)"
   ]
  },
  {
   "cell_type": "code",
   "execution_count": 5,
   "id": "d195cb08",
   "metadata": {},
   "outputs": [],
   "source": [
    "def unknown(update, context):\n",
    "    context.bot.send_message(chat_id=update.effective_chat.id, \n",
    "                             text=\"Não sei o que fazer com esse comando.\")"
   ]
  },
  {
   "cell_type": "code",
   "execution_count": 7,
   "id": "cfff21eb",
   "metadata": {},
   "outputs": [],
   "source": [
    "bot = Bot(token=TELEGRAM_TOKEN)\n",
    "\n",
    "dispatcher = Dispatcher(bot, None, use_context=True)\n",
    "dispatcher.add_handler(CommandHandler(\"start\", start))\n",
    "dispatcher.add_handler(MessageHandler(Filters.text & (~Filters.command), echo))\n",
    "dispatcher.add_handler(MessageHandler(Filters.command, unknown))"
   ]
  },
  {
   "cell_type": "code",
   "execution_count": null,
   "id": "71a74c19",
   "metadata": {},
   "outputs": [],
   "source": []
  }
 ],
 "metadata": {
  "kernelspec": {
   "display_name": "Python 3",
   "language": "python",
   "name": "python3"
  },
  "language_info": {
   "codemirror_mode": {
    "name": "ipython",
    "version": 3
   },
   "file_extension": ".py",
   "mimetype": "text/x-python",
   "name": "python",
   "nbconvert_exporter": "python",
   "pygments_lexer": "ipython3",
   "version": "3.8.8"
  }
 },
 "nbformat": 4,
 "nbformat_minor": 5
}
