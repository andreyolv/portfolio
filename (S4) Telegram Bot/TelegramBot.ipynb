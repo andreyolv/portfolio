{
 "cells": [
  {
   "cell_type": "code",
   "execution_count": 1,
   "id": "c0305051",
   "metadata": {},
   "outputs": [],
   "source": [
    "# pip install pyTelegramBotAPI"
   ]
  },
  {
   "cell_type": "code",
   "execution_count": 2,
   "id": "71a74c19",
   "metadata": {
    "scrolled": true
   },
   "outputs": [],
   "source": [
    "import telebot\n",
    "\n",
    "token = 'xxx'\n",
    "chat_id = xxx # ID do meu Telegram"
   ]
  },
  {
   "cell_type": "code",
   "execution_count": 3,
   "id": "eb2d7db4",
   "metadata": {},
   "outputs": [],
   "source": [
    "bot = telebot.TeleBot(token)"
   ]
  },
  {
   "cell_type": "code",
   "execution_count": 4,
   "id": "dcc3196a",
   "metadata": {},
   "outputs": [],
   "source": [
    "texto_inicial = \"\"\"Seja Bem Vindo ao Bot do Andrey \\n\n",
    "Digite as seguintes opções para realizar seus comandos: \\n\n",
    "/ligar - Ligar Bot\n",
    "/desligar - Desligar Bot\n",
    "/lindo - Vê foto de um cara lindo\"\"\"\n",
    "\n",
    "@bot.message_handler(commands=['start', 'help'])\n",
    "def send_welcome(msg):\n",
    "    bot.reply_to(msg, texto_inicial)"
   ]
  },
  {
   "cell_type": "code",
   "execution_count": 5,
   "id": "10a3dc17",
   "metadata": {},
   "outputs": [],
   "source": [
    "@bot.message_handler(commands=[\"ligar\"])\n",
    "def funcao_ligar(msg):\n",
    "    print(msg)\n",
    "    bot.reply_to(msg, \"O Bot foi ligado\")"
   ]
  },
  {
   "cell_type": "code",
   "execution_count": 6,
   "id": "31b33622",
   "metadata": {},
   "outputs": [],
   "source": [
    "@bot.message_handler(commands=[\"desligar\"])\n",
    "def funcao_desligar(msg):\n",
    "    print(msg)\n",
    "    bot.reply_to(msg, \"O Bot foi desligado\")"
   ]
  },
  {
   "cell_type": "code",
   "execution_count": 7,
   "id": "7c525934",
   "metadata": {},
   "outputs": [],
   "source": [
    "@bot.message_handler(commands=[\"lindo\"])\n",
    "def funcao_lindo(msg):\n",
    "    print(msg)\n",
    "    path = r'C:\\Users\\Andrey\\Google Drive\\Data Science\\Projetos\\Telegram\\fotoeu.jpg'\n",
    "    photo = open(path, 'rb')\n",
    "    bot.send_photo(chat_id, photo)\n",
    "    bot.reply_to(msg, \"Que cara mais lindo, não é mesmo?\")"
   ]
  },
  {
   "cell_type": "code",
   "execution_count": 8,
   "id": "3e1f41b0",
   "metadata": {},
   "outputs": [],
   "source": [
    "# user = bot.get_me()\n",
    "# print(user)"
   ]
  },
  {
   "cell_type": "code",
   "execution_count": 9,
   "id": "2fbd9927",
   "metadata": {},
   "outputs": [],
   "source": [
    "# text = \"Teste de envio de mensagem\"\n",
    "# bot.send_message(chat_id, text)"
   ]
  },
  {
   "cell_type": "code",
   "execution_count": null,
   "id": "0bc9b8d0",
   "metadata": {},
   "outputs": [
    {
     "name": "stdout",
     "output_type": "stream",
     "text": [
      "{'content_type': 'text', 'id': 45, 'message_id': 45, 'from_user': {'id': 1675567088, 'is_bot': False, 'first_name': 'Andrey', 'username': None, 'last_name': None, 'language_code': 'pt-br', 'can_join_groups': None, 'can_read_all_group_messages': None, 'supports_inline_queries': None}, 'date': 1625691318, 'chat': {'id': 1675567088, 'type': 'private', 'title': None, 'username': None, 'first_name': 'Andrey', 'last_name': None, 'photo': None, 'bio': None, 'description': None, 'invite_link': None, 'pinned_message': None, 'permissions': None, 'slow_mode_delay': None, 'message_auto_delete_time': None, 'sticker_set_name': None, 'can_set_sticker_set': None, 'linked_chat_id': None, 'location': None}, 'forward_from': None, 'forward_from_chat': None, 'forward_from_message_id': None, 'forward_signature': None, 'forward_sender_name': None, 'forward_date': None, 'reply_to_message': None, 'via_bot': None, 'edit_date': None, 'media_group_id': None, 'author_signature': None, 'text': '/ligar', 'entities': [<telebot.types.MessageEntity object at 0x000001AE33F40B80>], 'caption_entities': None, 'audio': None, 'document': None, 'photo': None, 'sticker': None, 'video': None, 'video_note': None, 'voice': None, 'caption': None, 'contact': None, 'location': None, 'venue': None, 'animation': None, 'dice': None, 'new_chat_member': None, 'new_chat_members': None, 'left_chat_member': None, 'new_chat_title': None, 'new_chat_photo': None, 'delete_chat_photo': None, 'group_chat_created': None, 'supergroup_chat_created': None, 'channel_chat_created': None, 'migrate_to_chat_id': None, 'migrate_from_chat_id': None, 'pinned_message': None, 'invoice': None, 'successful_payment': None, 'connected_website': None, 'reply_markup': None, 'json': {'message_id': 45, 'from': {'id': 1675567088, 'is_bot': False, 'first_name': 'Andrey', 'language_code': 'pt-br'}, 'chat': {'id': 1675567088, 'first_name': 'Andrey', 'type': 'private'}, 'date': 1625691318, 'text': '/ligar', 'entities': [{'offset': 0, 'length': 6, 'type': 'bot_command'}]}}\n",
      "{'content_type': 'text', 'id': 47, 'message_id': 47, 'from_user': {'id': 1675567088, 'is_bot': False, 'first_name': 'Andrey', 'username': None, 'last_name': None, 'language_code': 'pt-br', 'can_join_groups': None, 'can_read_all_group_messages': None, 'supports_inline_queries': None}, 'date': 1625691322, 'chat': {'id': 1675567088, 'type': 'private', 'title': None, 'username': None, 'first_name': 'Andrey', 'last_name': None, 'photo': None, 'bio': None, 'description': None, 'invite_link': None, 'pinned_message': None, 'permissions': None, 'slow_mode_delay': None, 'message_auto_delete_time': None, 'sticker_set_name': None, 'can_set_sticker_set': None, 'linked_chat_id': None, 'location': None}, 'forward_from': None, 'forward_from_chat': None, 'forward_from_message_id': None, 'forward_signature': None, 'forward_sender_name': None, 'forward_date': None, 'reply_to_message': None, 'via_bot': None, 'edit_date': None, 'media_group_id': None, 'author_signature': None, 'text': '/desligar', 'entities': [<telebot.types.MessageEntity object at 0x000001AE33F409A0>], 'caption_entities': None, 'audio': None, 'document': None, 'photo': None, 'sticker': None, 'video': None, 'video_note': None, 'voice': None, 'caption': None, 'contact': None, 'location': None, 'venue': None, 'animation': None, 'dice': None, 'new_chat_member': None, 'new_chat_members': None, 'left_chat_member': None, 'new_chat_title': None, 'new_chat_photo': None, 'delete_chat_photo': None, 'group_chat_created': None, 'supergroup_chat_created': None, 'channel_chat_created': None, 'migrate_to_chat_id': None, 'migrate_from_chat_id': None, 'pinned_message': None, 'invoice': None, 'successful_payment': None, 'connected_website': None, 'reply_markup': None, 'json': {'message_id': 47, 'from': {'id': 1675567088, 'is_bot': False, 'first_name': 'Andrey', 'language_code': 'pt-br'}, 'chat': {'id': 1675567088, 'first_name': 'Andrey', 'type': 'private'}, 'date': 1625691322, 'text': '/desligar', 'entities': [{'offset': 0, 'length': 9, 'type': 'bot_command'}]}}\n",
      "{'content_type': 'text', 'id': 49, 'message_id': 49, 'from_user': {'id': 1675567088, 'is_bot': False, 'first_name': 'Andrey', 'username': None, 'last_name': None, 'language_code': 'pt-br', 'can_join_groups': None, 'can_read_all_group_messages': None, 'supports_inline_queries': None}, 'date': 1625691325, 'chat': {'id': 1675567088, 'type': 'private', 'title': None, 'username': None, 'first_name': 'Andrey', 'last_name': None, 'photo': None, 'bio': None, 'description': None, 'invite_link': None, 'pinned_message': None, 'permissions': None, 'slow_mode_delay': None, 'message_auto_delete_time': None, 'sticker_set_name': None, 'can_set_sticker_set': None, 'linked_chat_id': None, 'location': None}, 'forward_from': None, 'forward_from_chat': None, 'forward_from_message_id': None, 'forward_signature': None, 'forward_sender_name': None, 'forward_date': None, 'reply_to_message': None, 'via_bot': None, 'edit_date': None, 'media_group_id': None, 'author_signature': None, 'text': '/lindo', 'entities': [<telebot.types.MessageEntity object at 0x000001AE33F40AF0>], 'caption_entities': None, 'audio': None, 'document': None, 'photo': None, 'sticker': None, 'video': None, 'video_note': None, 'voice': None, 'caption': None, 'contact': None, 'location': None, 'venue': None, 'animation': None, 'dice': None, 'new_chat_member': None, 'new_chat_members': None, 'left_chat_member': None, 'new_chat_title': None, 'new_chat_photo': None, 'delete_chat_photo': None, 'group_chat_created': None, 'supergroup_chat_created': None, 'channel_chat_created': None, 'migrate_to_chat_id': None, 'migrate_from_chat_id': None, 'pinned_message': None, 'invoice': None, 'successful_payment': None, 'connected_website': None, 'reply_markup': None, 'json': {'message_id': 49, 'from': {'id': 1675567088, 'is_bot': False, 'first_name': 'Andrey', 'language_code': 'pt-br'}, 'chat': {'id': 1675567088, 'first_name': 'Andrey', 'type': 'private'}, 'date': 1625691325, 'text': '/lindo', 'entities': [{'offset': 0, 'length': 6, 'type': 'bot_command'}]}}\n",
      "{'content_type': 'text', 'id': 69, 'message_id': 69, 'from_user': {'id': 1675567088, 'is_bot': False, 'first_name': 'Andrey', 'username': None, 'last_name': None, 'language_code': 'pt-br', 'can_join_groups': None, 'can_read_all_group_messages': None, 'supports_inline_queries': None}, 'date': 1625691447, 'chat': {'id': 1675567088, 'type': 'private', 'title': None, 'username': None, 'first_name': 'Andrey', 'last_name': None, 'photo': None, 'bio': None, 'description': None, 'invite_link': None, 'pinned_message': None, 'permissions': None, 'slow_mode_delay': None, 'message_auto_delete_time': None, 'sticker_set_name': None, 'can_set_sticker_set': None, 'linked_chat_id': None, 'location': None}, 'forward_from': None, 'forward_from_chat': None, 'forward_from_message_id': None, 'forward_signature': None, 'forward_sender_name': None, 'forward_date': None, 'reply_to_message': None, 'via_bot': None, 'edit_date': None, 'media_group_id': None, 'author_signature': None, 'text': '/ligar', 'entities': [<telebot.types.MessageEntity object at 0x000001AE33F40A00>], 'caption_entities': None, 'audio': None, 'document': None, 'photo': None, 'sticker': None, 'video': None, 'video_note': None, 'voice': None, 'caption': None, 'contact': None, 'location': None, 'venue': None, 'animation': None, 'dice': None, 'new_chat_member': None, 'new_chat_members': None, 'left_chat_member': None, 'new_chat_title': None, 'new_chat_photo': None, 'delete_chat_photo': None, 'group_chat_created': None, 'supergroup_chat_created': None, 'channel_chat_created': None, 'migrate_to_chat_id': None, 'migrate_from_chat_id': None, 'pinned_message': None, 'invoice': None, 'successful_payment': None, 'connected_website': None, 'reply_markup': None, 'json': {'message_id': 69, 'from': {'id': 1675567088, 'is_bot': False, 'first_name': 'Andrey', 'language_code': 'pt-br'}, 'chat': {'id': 1675567088, 'first_name': 'Andrey', 'type': 'private'}, 'date': 1625691447, 'text': '/ligar', 'entities': [{'offset': 0, 'length': 6, 'type': 'bot_command'}]}}\n",
      "{'content_type': 'text', 'id': 71, 'message_id': 71, 'from_user': {'id': 1675567088, 'is_bot': False, 'first_name': 'Andrey', 'username': None, 'last_name': None, 'language_code': 'pt-br', 'can_join_groups': None, 'can_read_all_group_messages': None, 'supports_inline_queries': None}, 'date': 1625691465, 'chat': {'id': 1675567088, 'type': 'private', 'title': None, 'username': None, 'first_name': 'Andrey', 'last_name': None, 'photo': None, 'bio': None, 'description': None, 'invite_link': None, 'pinned_message': None, 'permissions': None, 'slow_mode_delay': None, 'message_auto_delete_time': None, 'sticker_set_name': None, 'can_set_sticker_set': None, 'linked_chat_id': None, 'location': None}, 'forward_from': None, 'forward_from_chat': None, 'forward_from_message_id': None, 'forward_signature': None, 'forward_sender_name': None, 'forward_date': None, 'reply_to_message': None, 'via_bot': None, 'edit_date': None, 'media_group_id': None, 'author_signature': None, 'text': '/desligar', 'entities': [<telebot.types.MessageEntity object at 0x000001AE33F40BB0>], 'caption_entities': None, 'audio': None, 'document': None, 'photo': None, 'sticker': None, 'video': None, 'video_note': None, 'voice': None, 'caption': None, 'contact': None, 'location': None, 'venue': None, 'animation': None, 'dice': None, 'new_chat_member': None, 'new_chat_members': None, 'left_chat_member': None, 'new_chat_title': None, 'new_chat_photo': None, 'delete_chat_photo': None, 'group_chat_created': None, 'supergroup_chat_created': None, 'channel_chat_created': None, 'migrate_to_chat_id': None, 'migrate_from_chat_id': None, 'pinned_message': None, 'invoice': None, 'successful_payment': None, 'connected_website': None, 'reply_markup': None, 'json': {'message_id': 71, 'from': {'id': 1675567088, 'is_bot': False, 'first_name': 'Andrey', 'language_code': 'pt-br'}, 'chat': {'id': 1675567088, 'first_name': 'Andrey', 'type': 'private'}, 'date': 1625691465, 'text': '/desligar', 'entities': [{'offset': 0, 'length': 9, 'type': 'bot_command'}]}}\n"
     ]
    },
    {
     "name": "stdout",
     "output_type": "stream",
     "text": [
      "{'content_type': 'text', 'id': 73, 'message_id': 73, 'from_user': {'id': 1675567088, 'is_bot': False, 'first_name': 'Andrey', 'username': None, 'last_name': None, 'language_code': 'pt-br', 'can_join_groups': None, 'can_read_all_group_messages': None, 'supports_inline_queries': None}, 'date': 1625691476, 'chat': {'id': 1675567088, 'type': 'private', 'title': None, 'username': None, 'first_name': 'Andrey', 'last_name': None, 'photo': None, 'bio': None, 'description': None, 'invite_link': None, 'pinned_message': None, 'permissions': None, 'slow_mode_delay': None, 'message_auto_delete_time': None, 'sticker_set_name': None, 'can_set_sticker_set': None, 'linked_chat_id': None, 'location': None}, 'forward_from': None, 'forward_from_chat': None, 'forward_from_message_id': None, 'forward_signature': None, 'forward_sender_name': None, 'forward_date': None, 'reply_to_message': None, 'via_bot': None, 'edit_date': None, 'media_group_id': None, 'author_signature': None, 'text': '/lindo', 'entities': [<telebot.types.MessageEntity object at 0x000001AE33F40B80>], 'caption_entities': None, 'audio': None, 'document': None, 'photo': None, 'sticker': None, 'video': None, 'video_note': None, 'voice': None, 'caption': None, 'contact': None, 'location': None, 'venue': None, 'animation': None, 'dice': None, 'new_chat_member': None, 'new_chat_members': None, 'left_chat_member': None, 'new_chat_title': None, 'new_chat_photo': None, 'delete_chat_photo': None, 'group_chat_created': None, 'supergroup_chat_created': None, 'channel_chat_created': None, 'migrate_to_chat_id': None, 'migrate_from_chat_id': None, 'pinned_message': None, 'invoice': None, 'successful_payment': None, 'connected_website': None, 'reply_markup': None, 'json': {'message_id': 73, 'from': {'id': 1675567088, 'is_bot': False, 'first_name': 'Andrey', 'language_code': 'pt-br'}, 'chat': {'id': 1675567088, 'first_name': 'Andrey', 'type': 'private'}, 'date': 1625691476, 'text': '/lindo', 'entities': [{'offset': 0, 'length': 6, 'type': 'bot_command'}]}}\n"
     ]
    }
   ],
   "source": [
    "bot.polling()"
   ]
  }
 ],
 "metadata": {
  "kernelspec": {
   "display_name": "Python 3",
   "language": "python",
   "name": "python3"
  },
  "language_info": {
   "codemirror_mode": {
    "name": "ipython",
    "version": 3
   },
   "file_extension": ".py",
   "mimetype": "text/x-python",
   "name": "python",
   "nbconvert_exporter": "python",
   "pygments_lexer": "ipython3",
   "version": "3.8.8"
  }
 },
 "nbformat": 4,
 "nbformat_minor": 5
}
