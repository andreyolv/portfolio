{
 "cells": [
  {
   "cell_type": "code",
   "execution_count": 24,
   "id": "bafa5404",
   "metadata": {},
   "outputs": [],
   "source": [
    "import os, os.path\n",
    "\n",
    "path_file = '/home/andreolv/airflow/dags/'"
   ]
  },
  {
   "cell_type": "code",
   "execution_count": 25,
   "id": "da9eb474",
   "metadata": {},
   "outputs": [],
   "source": [
    "def delete_temp_files():\n",
    "    lista_arquivos = os.listdir(path_file+'temp_data/')\n",
    "    for i in lista_arquivos:\n",
    "        os.remove(path_file+'temp_data/'+i)"
   ]
  }
 ],
 "metadata": {
  "kernelspec": {
   "display_name": "Python 3 (ipykernel)",
   "language": "python",
   "name": "python3"
  },
  "language_info": {
   "codemirror_mode": {
    "name": "ipython",
    "version": 3
   },
   "file_extension": ".py",
   "mimetype": "text/x-python",
   "name": "python",
   "nbconvert_exporter": "python",
   "pygments_lexer": "ipython3",
   "version": "3.9.7"
  }
 },
 "nbformat": 4,
 "nbformat_minor": 5
}
