{
 "cells": [
  {
   "cell_type": "markdown",
   "id": "57bc9c51",
   "metadata": {},
   "source": [
    "Importando as bibliotecas"
   ]
  },
  {
   "cell_type": "code",
   "execution_count": 12,
   "id": "afe6a013",
   "metadata": {},
   "outputs": [],
   "source": [
    "import pandas as pd\n",
    "from selenium.webdriver import Firefox\n",
    "from selenium.webdriver.common.keys import Keys\n",
    "from selenium.webdriver.common.action_chains import ActionChains\n",
    "from selenium.webdriver.support.ui import WebDriverWait"
   ]
  },
  {
   "cell_type": "markdown",
   "id": "0e3e139e",
   "metadata": {},
   "source": [
    "Definindo as variáveis"
   ]
  },
  {
   "cell_type": "code",
   "execution_count": 13,
   "id": "9f818bb4",
   "metadata": {},
   "outputs": [],
   "source": [
    "df = pd.read_excel(\"CREA-MS.xlsx\", sheet_name=0, nrows=20)"
   ]
  },
  {
   "cell_type": "code",
   "execution_count": 14,
   "id": "3cb2d00a",
   "metadata": {},
   "outputs": [],
   "source": [
    "df = df.drop(columns=['A','B', 'RT'], axis=1)"
   ]
  },
  {
   "cell_type": "code",
   "execution_count": 15,
   "id": "58a17813",
   "metadata": {},
   "outputs": [],
   "source": [
    "df2 = df[df['Situação'] == 'ATIVA']"
   ]
  },
  {
   "cell_type": "code",
   "execution_count": 16,
   "id": "d5aad9e5",
   "metadata": {},
   "outputs": [
    {
     "data": {
      "text/plain": [
       "(16, 3)"
      ]
     },
     "execution_count": 16,
     "metadata": {},
     "output_type": "execute_result"
    }
   ],
   "source": [
    "df2.shape"
   ]
  },
  {
   "cell_type": "code",
   "execution_count": 17,
   "id": "c7f8b10a",
   "metadata": {},
   "outputs": [
    {
     "data": {
      "text/html": [
       "<div>\n",
       "<style scoped>\n",
       "    .dataframe tbody tr th:only-of-type {\n",
       "        vertical-align: middle;\n",
       "    }\n",
       "\n",
       "    .dataframe tbody tr th {\n",
       "        vertical-align: top;\n",
       "    }\n",
       "\n",
       "    .dataframe thead th {\n",
       "        text-align: right;\n",
       "    }\n",
       "</style>\n",
       "<table border=\"1\" class=\"dataframe\">\n",
       "  <thead>\n",
       "    <tr style=\"text-align: right;\">\n",
       "      <th></th>\n",
       "      <th>Empresa</th>\n",
       "      <th>Registro</th>\n",
       "      <th>Situação</th>\n",
       "    </tr>\n",
       "  </thead>\n",
       "  <tbody>\n",
       "    <tr>\n",
       "      <th>0</th>\n",
       "      <td>A7 AVIAÇÃO AGRÍCOLA</td>\n",
       "      <td>MS374</td>\n",
       "      <td>ATIVA</td>\n",
       "    </tr>\n",
       "    <tr>\n",
       "      <th>1</th>\n",
       "      <td>IMAGETECH TECNOLOGIA EM INFORMÁTICA LTDA</td>\n",
       "      <td>MS7507</td>\n",
       "      <td>ATIVA</td>\n",
       "    </tr>\n",
       "    <tr>\n",
       "      <th>2</th>\n",
       "      <td>03 IRMÃOS PRESTADORA DE SERVIÇOS</td>\n",
       "      <td>MS18358</td>\n",
       "      <td>ATIVA</td>\n",
       "    </tr>\n",
       "    <tr>\n",
       "      <th>3</th>\n",
       "      <td>1 PRA 2 ARQUITETURA E ENGENHARIA</td>\n",
       "      <td>MS19107</td>\n",
       "      <td>ATIVA</td>\n",
       "    </tr>\n",
       "    <tr>\n",
       "      <th>5</th>\n",
       "      <td>1A SERVICE</td>\n",
       "      <td>MS20561</td>\n",
       "      <td>ATIVA</td>\n",
       "    </tr>\n",
       "  </tbody>\n",
       "</table>\n",
       "</div>"
      ],
      "text/plain": [
       "                                    Empresa Registro Situação\n",
       "0                       A7 AVIAÇÃO AGRÍCOLA    MS374    ATIVA\n",
       "1  IMAGETECH TECNOLOGIA EM INFORMÁTICA LTDA   MS7507    ATIVA\n",
       "2          03 IRMÃOS PRESTADORA DE SERVIÇOS  MS18358    ATIVA\n",
       "3          1 PRA 2 ARQUITETURA E ENGENHARIA  MS19107    ATIVA\n",
       "5                                1A SERVICE  MS20561    ATIVA"
      ]
     },
     "execution_count": 17,
     "metadata": {},
     "output_type": "execute_result"
    }
   ],
   "source": [
    "df2.head()"
   ]
  },
  {
   "cell_type": "code",
   "execution_count": 18,
   "id": "22983571",
   "metadata": {},
   "outputs": [],
   "source": [
    "url = 'http://cnpj.info/'\n",
    "\n",
    "busca = 'A7 AVIACAO AGRICOLA'\n",
    "\n",
    "cnpj = []\n",
    "nome = []\n",
    "fantasia = []\n",
    "estado = []\n",
    "limite_requisicoes = 0"
   ]
  },
  {
   "cell_type": "markdown",
   "id": "f9e72269",
   "metadata": {},
   "source": [
    "Inicializando o navegador Firefox"
   ]
  },
  {
   "cell_type": "code",
   "execution_count": 19,
   "id": "fa0061a9",
   "metadata": {},
   "outputs": [],
   "source": [
    "browser = Firefox()\n",
    "browser.get(url)"
   ]
  },
  {
   "cell_type": "markdown",
   "id": "ae62e985",
   "metadata": {},
   "source": [
    "Insere nome da empresa no navegador, e faz a busca no site, retornando página nova\n",
    "\n",
    "EXEMPLO DE CÓDIGO HTML A SER BUSCADO E EXTRAÍDO\n",
    "\n",
    "<div class=hdr itemscope itemtype=\"http://schema.org/WebSite\">\n",
    "<meta itemprop=\"url\" content=\"http://cnpj.info/\">\n",
    "<form method=post action=\"/busca\" itemprop=\"potentialAction\" itemscope itemtype=\"http://schema.org/SearchAction\">\n",
    "<meta itemprop=\"target\" content=\"http://cnpj.info/{q}\">\n",
    "<h3>Pesquisa: <input type=text name=q placeholder=\"Nome ou CNPJ ou telefone\" size=30 itemprop=\"query-input\" required> <input type=submit value=\"Buscar\" title=\"Search/Lookup\"></h3></form>\n",
    "</div>"
   ]
  },
  {
   "cell_type": "code",
   "execution_count": 20,
   "id": "3a262e4a",
   "metadata": {},
   "outputs": [
    {
     "data": {
      "text/plain": [
       "'17'"
      ]
     },
     "execution_count": 20,
     "metadata": {},
     "output_type": "execute_result"
    }
   ],
   "source": [
    "divclass = browser.find_element_by_class_name('hdr')\n",
    "element = divclass.find_element_by_tag_name('h3')\n",
    "insert = element.find_element_by_name('q')\n",
    "click = element.find_element_by_xpath(\"//input[@title='Search/Lookup']\")\n",
    "\n",
    "# Insere o texto com o nome da empresa na caixa de busca do navegador\n",
    "insert.send_keys(busca)\n",
    "\n",
    "# Clica no botão Buscar, outra opção é teclar enter no campo de busca = insert.send_keys(Keys.RETURN)\n",
    "click.click()\n",
    "\n",
    "# Atualiza o browser para a pagina atual, a pagina nova carregada após a busca\n",
    "browser.current_window_handle"
   ]
  },
  {
   "cell_type": "markdown",
   "id": "2788c672",
   "metadata": {},
   "source": [
    "Espera pela lista de empresas buscadas carregar na página\n",
    "Após espera anterior, carrega as empresas encontradas em cada <li> numa lista"
   ]
  },
  {
   "cell_type": "code",
   "execution_count": 10,
   "id": "e04470f4",
   "metadata": {},
   "outputs": [
    {
     "name": "stdout",
     "output_type": "stream",
     "text": [
      "Tentando encontrar lista carregada\n"
     ]
    }
   ],
   "source": [
    "def esperar_lista(browser):\n",
    "    elements = browser.find_elements_by_tag_name('li')\n",
    "    print(\"Tentando encontrar lista carregada\")\n",
    "    return bool(elements)\n",
    "\n",
    "wdw = WebDriverWait(browser, 10)\n",
    "wdw.until(esperar_lista, \"Não carregou nenhuma lista\")\n",
    "list = browser.find_elements_by_tag_name('li')"
   ]
  },
  {
   "cell_type": "markdown",
   "id": "265385c8",
   "metadata": {},
   "source": [
    "Verifica se a pagina carregana não é página de erro de excesso de requisições\n"
   ]
  },
  {
   "cell_type": "code",
   "execution_count": 21,
   "id": "40efdead",
   "metadata": {},
   "outputs": [
    {
     "name": "stdout",
     "output_type": "stream",
     "text": [
      "Too many requests per address per day... try to access this site later.\n"
     ]
    },
    {
     "ename": "SyntaxError",
     "evalue": "'return' outside function (<ipython-input-21-cc3810afb226>, line 6)",
     "output_type": "error",
     "traceback": [
      "\u001b[1;36m  File \u001b[1;32m\"<ipython-input-21-cc3810afb226>\"\u001b[1;36m, line \u001b[1;32m6\u001b[0m\n\u001b[1;33m    return 5\u001b[0m\n\u001b[1;37m    ^\u001b[0m\n\u001b[1;31mSyntaxError\u001b[0m\u001b[1;31m:\u001b[0m 'return' outside function\n"
     ]
    }
   ],
   "source": [
    "text_site = 'Too many requests per address per day... try to access this site later.'\n",
    "text_many = browser.find_element_by_tag_name('h1')\n",
    "print(text_many.text)\n",
    "if text_many.text == text_site:\n",
    "    print(\"Muitas requisições feitas hoje, bora mudar o IP do proxy\")\n",
    "    return 5"
   ]
  },
  {
   "cell_type": "markdown",
   "id": "81eacd06",
   "metadata": {},
   "source": [
    "Imprime os elementos de cada <li> extraida"
   ]
  },
  {
   "cell_type": "code",
   "execution_count": 12,
   "id": "733f6310",
   "metadata": {},
   "outputs": [
    {
     "name": "stdout",
     "output_type": "stream",
     "text": [
      "CNPJ: 03.154.507/0003-50 | 03154507000350 [ FILIAL ] - BAIXADA desde 2004-01-23\n",
      "Nome: A7 Aviacao Agricola Eireli\n",
      "Fantasia nome: Teruel Aviacao Agricola LTDA\n",
      "Localização: Zona Rural, Campo Novo do Parecis - MT\n",
      "\n",
      "CNPJ: 03.154.507/0005-11 | 03154507000511 [ FILIAL ] - BAIXADA desde 2018-07-30\n",
      "Nome: A7 Aviacao Agricola Eireli\n",
      "Fantasia nome: Teruel Luft Aviacao Agricola\n",
      "Localização: Centro, Sao Gabriel do Oeste - MS\n",
      "\n",
      "CNPJ: 03.154.507/0006-00 | 03154507000600 [ FILIAL ] - ATIVA desde 2015-07-23\n",
      "Nome: A7 Aviacao Agricola Eireli\n",
      "Fantasia nome: Teruel Luft Aviacao Agricola\n",
      "Localização: Zona Rural, Campo Grande - MS\n",
      "\n",
      "CNPJ: 03.154.507/0001-98 | 03154507000198 [ MATRIZ ] - ATIVA desde 2005-11-03\n",
      "Nome: A7 Aviacao Agricola Eireli\n",
      "Fantasia nome: A7 Aviacao Agricola\n",
      "Localização: Centro, Chapadao do Sul - MS\n",
      "\n",
      "CNPJ: 03.154.507/0002-79 | 03154507000279 [ FILIAL ] - BAIXADA desde 1995-07-04\n",
      "Nome: A7 Aviacao Agricola Eireli\n",
      "Localização: Sao Gabriel Dooeste, Camapua - MS\n",
      "\n",
      "CNPJ: 03.154.507/0004-30 | 03154507000430 [ FILIAL ] - BAIXADA desde 2015-07-23\n",
      "Nome: A7 Aviacao Agricola Eireli\n",
      "Fantasia nome: Agroatel LTDA\n",
      "Localização: Centro, Sonora - MS\n",
      "\n"
     ]
    }
   ],
   "source": [
    "i = 0\n",
    "while i < len(list):\n",
    "    print(list[i].text +'\\n')\n",
    "    i = i+1"
   ]
  },
  {
   "cell_type": "markdown",
   "id": "e33f385e",
   "metadata": {},
   "source": [
    "Extrai os valores CNPJ, Nome e Fantasia de cada <li> encontrado e adicionam a listas\n",
    "\n",
    "CÓDIGO HTML A SER BUSCADO E EXTRAÍDO\n",
    "\n",
    "<ul><li>CNPJ: <a href=/27316450000144>27.316.450/0001-44</a> | 27316450000144 [&nbsp;MATRIZ&nbsp;] - ATIVA&nbsp;desde&nbsp;2017-03-16<br>Nome: <a href=/Deniel-Willian-P-de-Castro-03-Irmaos-Prestadora-de-Servicos>Deniel Willian P de Castro</a><br>Fantasia nome: <a href=/Deniel-Willian-P-de-Castro-03-Irmaos-Prestadora-de-Servicos>03 Irmaos Prestadora de Servicos</a><br>Localização: Zona de Expansao Urbana, Terenos&nbsp;-&nbsp;MS\n",
    "<li>CNPJ: <a href=/11040568000152>11.040.568/0001-52</a> | 11040568000152 [&nbsp;MATRIZ&nbsp;] - INAPTA&nbsp;desde&nbsp;2021-02-23<br>Nome: <a href=/J-Lomas-de-Souza-2-Irmaos-Prestadora-de-Servicos>J Lomas de Souza</a><br>Fantasia nome: <a href=/J-Lomas-de-Souza-2-Irmaos-Prestadora-de-Servicos>2 Irmaos Prestadora de Servicos</a><br>Localização: Mauazinho, Manaus&nbsp;-&nbsp;AM\n",
    "<li>CNPJ: <a href=/27516078000110>27.516.078/0001-10</a> | 27516078000110 [&nbsp;MATRIZ&nbsp;] - INAPTA&nbsp;desde&nbsp;2021-02-23<br>Nome: <a href=/Claudio-Rodrigues-dos-Santos-Prestadora-de-Servicos-03-Irmaos>Claudio Rodrigues dos Santos</a><br>Fantasia nome: <a href=/Claudio-Rodrigues-dos-Santos-Prestadora-de-Servicos-03-Irmaos>Prestadora de Servicos 03 Irmaos</a><br>Localização: Centro, Porto Grande&nbsp;-&nbsp;AP\n",
    "</ul>"
   ]
  },
  {
   "cell_type": "code",
   "execution_count": null,
   "id": "bdd92a7b",
   "metadata": {},
   "outputs": [],
   "source": []
  },
  {
   "cell_type": "code",
   "execution_count": 13,
   "id": "3d6363f3",
   "metadata": {},
   "outputs": [
    {
     "data": {
      "text/plain": [
       "[<selenium.webdriver.firefox.webelement.FirefoxWebElement (session=\"e58e128b-e1d7-48ec-b0d6-60bf4efe2db7\", element=\"b7ef3609-65ff-459c-a179-b3444740bf48\")>,\n",
       " <selenium.webdriver.firefox.webelement.FirefoxWebElement (session=\"e58e128b-e1d7-48ec-b0d6-60bf4efe2db7\", element=\"99d92a92-7152-4075-92ed-589f9de7159d\")>,\n",
       " <selenium.webdriver.firefox.webelement.FirefoxWebElement (session=\"e58e128b-e1d7-48ec-b0d6-60bf4efe2db7\", element=\"e9fe4aac-b4df-4c16-af51-b2590f63121d\")>]"
      ]
     },
     "execution_count": 13,
     "metadata": {},
     "output_type": "execute_result"
    }
   ],
   "source": [
    "inside = list[0].find_elements_by_tag_name('a')\n",
    "inside"
   ]
  },
  {
   "cell_type": "code",
   "execution_count": 30,
   "id": "e0dbca9a",
   "metadata": {},
   "outputs": [
    {
     "data": {
      "text/plain": [
       "'Teruel Aviacao Agricola LTDA'"
      ]
     },
     "execution_count": 30,
     "metadata": {},
     "output_type": "execute_result"
    }
   ],
   "source": [
    "inside[2].text"
   ]
  },
  {
   "cell_type": "code",
   "execution_count": null,
   "id": "0230b91b",
   "metadata": {},
   "outputs": [],
   "source": []
  },
  {
   "cell_type": "code",
   "execution_count": 14,
   "id": "58b4f58f",
   "metadata": {},
   "outputs": [],
   "source": [
    "i = 0\n",
    "while i < len(list):\n",
    "    inside = list[i].find_elements_by_tag_name('a')\n",
    "    \n",
    "    try:\n",
    "        cnpj.append(inside[0].text)\n",
    "    except IndexError:\n",
    "        cnpj.append('NaN')\n",
    "\n",
    "    try:\n",
    "        nome.append(inside[1].text)\n",
    "    except IndexError:\n",
    "        nome.append('NaN')    \n",
    "    \n",
    "    try:\n",
    "        fantasia.append(inside[2].text)\n",
    "    except IndexError:\n",
    "        fantasia.append('NaN')\n",
    "    \n",
    "    # Extrai o Estado do país contído no texto\n",
    "    list2 = list[i].text\n",
    "    list3 = list2.splitlines()\n",
    "    trash, loc = list3[-1].split(':')\n",
    "    cidade, state = loc.split('-')\n",
    "    state = state.strip()\n",
    "    estado.append(state)\n",
    "    \n",
    "    i = i+1"
   ]
  },
  {
   "cell_type": "code",
   "execution_count": 15,
   "id": "9b887a75",
   "metadata": {},
   "outputs": [
    {
     "name": "stdout",
     "output_type": "stream",
     "text": [
      "['03.154.507/0003-50', '03.154.507/0005-11', '03.154.507/0006-00', '03.154.507/0001-98', '03.154.507/0002-79', '03.154.507/0004-30']\n",
      "['A7 Aviacao Agricola Eireli', 'A7 Aviacao Agricola Eireli', 'A7 Aviacao Agricola Eireli', 'A7 Aviacao Agricola Eireli', 'A7 Aviacao Agricola Eireli', 'A7 Aviacao Agricola Eireli']\n",
      "['Teruel Aviacao Agricola LTDA', 'Teruel Luft Aviacao Agricola', 'Teruel Luft Aviacao Agricola', 'A7 Aviacao Agricola', 'NaN', 'Agroatel LTDA']\n",
      "['MT', 'MS', 'MS', 'MS', 'MS', 'MS']\n"
     ]
    }
   ],
   "source": [
    "print(cnpj)\n",
    "print(nome)\n",
    "print(fantasia)\n",
    "print(estado)"
   ]
  },
  {
   "cell_type": "code",
   "execution_count": 16,
   "id": "8bb3d5b6",
   "metadata": {},
   "outputs": [
    {
     "data": {
      "text/plain": [
       "6"
      ]
     },
     "execution_count": 16,
     "metadata": {},
     "output_type": "execute_result"
    }
   ],
   "source": [
    "# len(cnpj)\n",
    "# len(nome)\n",
    "# len(fantasia)\n",
    "len(estado)"
   ]
  },
  {
   "cell_type": "markdown",
   "id": "a0958b4a",
   "metadata": {},
   "source": [
    "Convertes as listas extraídas no formato dataframe para melhor manipulação dos dados"
   ]
  },
  {
   "cell_type": "code",
   "execution_count": 17,
   "id": "78d0e05b",
   "metadata": {},
   "outputs": [],
   "source": [
    "dicio = {\"CNPJ\":cnpj, \"Nome\":nome, \"Fantasia\": fantasia, \"Estado\": estado}"
   ]
  },
  {
   "cell_type": "code",
   "execution_count": 18,
   "id": "6eb3701b",
   "metadata": {},
   "outputs": [
    {
     "data": {
      "text/html": [
       "<div>\n",
       "<style scoped>\n",
       "    .dataframe tbody tr th:only-of-type {\n",
       "        vertical-align: middle;\n",
       "    }\n",
       "\n",
       "    .dataframe tbody tr th {\n",
       "        vertical-align: top;\n",
       "    }\n",
       "\n",
       "    .dataframe thead th {\n",
       "        text-align: right;\n",
       "    }\n",
       "</style>\n",
       "<table border=\"1\" class=\"dataframe\">\n",
       "  <thead>\n",
       "    <tr style=\"text-align: right;\">\n",
       "      <th></th>\n",
       "      <th>CNPJ</th>\n",
       "      <th>Nome</th>\n",
       "      <th>Fantasia</th>\n",
       "      <th>Estado</th>\n",
       "    </tr>\n",
       "  </thead>\n",
       "  <tbody>\n",
       "    <tr>\n",
       "      <th>0</th>\n",
       "      <td>03.154.507/0003-50</td>\n",
       "      <td>A7 Aviacao Agricola Eireli</td>\n",
       "      <td>Teruel Aviacao Agricola LTDA</td>\n",
       "      <td>MT</td>\n",
       "    </tr>\n",
       "    <tr>\n",
       "      <th>1</th>\n",
       "      <td>03.154.507/0005-11</td>\n",
       "      <td>A7 Aviacao Agricola Eireli</td>\n",
       "      <td>Teruel Luft Aviacao Agricola</td>\n",
       "      <td>MS</td>\n",
       "    </tr>\n",
       "    <tr>\n",
       "      <th>2</th>\n",
       "      <td>03.154.507/0006-00</td>\n",
       "      <td>A7 Aviacao Agricola Eireli</td>\n",
       "      <td>Teruel Luft Aviacao Agricola</td>\n",
       "      <td>MS</td>\n",
       "    </tr>\n",
       "    <tr>\n",
       "      <th>3</th>\n",
       "      <td>03.154.507/0001-98</td>\n",
       "      <td>A7 Aviacao Agricola Eireli</td>\n",
       "      <td>A7 Aviacao Agricola</td>\n",
       "      <td>MS</td>\n",
       "    </tr>\n",
       "    <tr>\n",
       "      <th>4</th>\n",
       "      <td>03.154.507/0002-79</td>\n",
       "      <td>A7 Aviacao Agricola Eireli</td>\n",
       "      <td>NaN</td>\n",
       "      <td>MS</td>\n",
       "    </tr>\n",
       "  </tbody>\n",
       "</table>\n",
       "</div>"
      ],
      "text/plain": [
       "                 CNPJ                        Nome  \\\n",
       "0  03.154.507/0003-50  A7 Aviacao Agricola Eireli   \n",
       "1  03.154.507/0005-11  A7 Aviacao Agricola Eireli   \n",
       "2  03.154.507/0006-00  A7 Aviacao Agricola Eireli   \n",
       "3  03.154.507/0001-98  A7 Aviacao Agricola Eireli   \n",
       "4  03.154.507/0002-79  A7 Aviacao Agricola Eireli   \n",
       "\n",
       "                       Fantasia Estado  \n",
       "0  Teruel Aviacao Agricola LTDA     MT  \n",
       "1  Teruel Luft Aviacao Agricola     MS  \n",
       "2  Teruel Luft Aviacao Agricola     MS  \n",
       "3           A7 Aviacao Agricola     MS  \n",
       "4                           NaN     MS  "
      ]
     },
     "execution_count": 18,
     "metadata": {},
     "output_type": "execute_result"
    }
   ],
   "source": [
    "df= pd.DataFrame(dicio)\n",
    "df.head()"
   ]
  },
  {
   "cell_type": "code",
   "execution_count": 19,
   "id": "25dc178b",
   "metadata": {},
   "outputs": [
    {
     "data": {
      "text/plain": [
       "(6, 4)"
      ]
     },
     "execution_count": 19,
     "metadata": {},
     "output_type": "execute_result"
    }
   ],
   "source": [
    "df.shape"
   ]
  },
  {
   "cell_type": "code",
   "execution_count": 46,
   "id": "d7da85bd",
   "metadata": {},
   "outputs": [],
   "source": [
    "dfnew = df[df['Estado'] == 'PR']"
   ]
  },
  {
   "cell_type": "code",
   "execution_count": 47,
   "id": "49117068",
   "metadata": {},
   "outputs": [
    {
     "data": {
      "text/html": [
       "<div>\n",
       "<style scoped>\n",
       "    .dataframe tbody tr th:only-of-type {\n",
       "        vertical-align: middle;\n",
       "    }\n",
       "\n",
       "    .dataframe tbody tr th {\n",
       "        vertical-align: top;\n",
       "    }\n",
       "\n",
       "    .dataframe thead th {\n",
       "        text-align: right;\n",
       "    }\n",
       "</style>\n",
       "<table border=\"1\" class=\"dataframe\">\n",
       "  <thead>\n",
       "    <tr style=\"text-align: right;\">\n",
       "      <th></th>\n",
       "      <th>CNPJ</th>\n",
       "      <th>Nome</th>\n",
       "      <th>Fantasia</th>\n",
       "      <th>Estado</th>\n",
       "    </tr>\n",
       "  </thead>\n",
       "  <tbody>\n",
       "  </tbody>\n",
       "</table>\n",
       "</div>"
      ],
      "text/plain": [
       "Empty DataFrame\n",
       "Columns: [CNPJ, Nome, Fantasia, Estado]\n",
       "Index: []"
      ]
     },
     "execution_count": 47,
     "metadata": {},
     "output_type": "execute_result"
    }
   ],
   "source": [
    "dfnew.head()"
   ]
  },
  {
   "cell_type": "code",
   "execution_count": 48,
   "id": "5d29598b",
   "metadata": {},
   "outputs": [
    {
     "data": {
      "text/plain": [
       "0"
      ]
     },
     "execution_count": 48,
     "metadata": {},
     "output_type": "execute_result"
    }
   ],
   "source": [
    "len(dfnew)"
   ]
  },
  {
   "cell_type": "code",
   "execution_count": 22,
   "id": "988800ce",
   "metadata": {},
   "outputs": [],
   "source": [
    "listacnpj = dfnew.iloc[0]['CNPJ']"
   ]
  },
  {
   "cell_type": "code",
   "execution_count": 23,
   "id": "8935830f",
   "metadata": {},
   "outputs": [
    {
     "data": {
      "text/plain": [
       "'03.154.507/0005-11'"
      ]
     },
     "execution_count": 23,
     "metadata": {},
     "output_type": "execute_result"
    }
   ],
   "source": [
    "listacnpj"
   ]
  },
  {
   "cell_type": "code",
   "execution_count": 24,
   "id": "12984af9",
   "metadata": {},
   "outputs": [
    {
     "data": {
      "text/plain": [
       "str"
      ]
     },
     "execution_count": 24,
     "metadata": {},
     "output_type": "execute_result"
    }
   ],
   "source": [
    "type(listacnpj)"
   ]
  },
  {
   "cell_type": "code",
   "execution_count": 35,
   "id": "e139e389",
   "metadata": {},
   "outputs": [
    {
     "data": {
      "text/plain": [
       "'AP'"
      ]
     },
     "execution_count": 35,
     "metadata": {},
     "output_type": "execute_result"
    }
   ],
   "source": [
    "abc = 'Localização: Centro, Porto Grande - AP'\n",
    "abc[-2:]"
   ]
  },
  {
   "cell_type": "code",
   "execution_count": 38,
   "id": "7c21b809",
   "metadata": {},
   "outputs": [],
   "source": [
    "caralho = \"\"\"CNPJ: 03.154.507/0005-11 | 03154507000511 [ FILIAL ] - BAIXADA desde 2018-07-30\n",
    "Nome: A7 Aviacao Agricola Eireli\n",
    "Fantasia nome: Teruel Luft Aviacao Agricola\n",
    "Localização: Centro, Sao Gabriel do Oeste - MS\"\"\""
   ]
  },
  {
   "cell_type": "code",
   "execution_count": 40,
   "id": "9f64073e",
   "metadata": {},
   "outputs": [
    {
     "data": {
      "text/plain": [
       "['CNPJ: 03.154.507/0005-11 | 03154507000511 [ FILIAL ] - BAIXADA desde 2018-07-30',\n",
       " 'Nome: A7 Aviacao Agricola Eireli',\n",
       " 'Fantasia nome: Teruel Luft Aviacao Agricola',\n",
       " 'Localização: Centro, Sao Gabriel do Oeste - MS']"
      ]
     },
     "execution_count": 40,
     "metadata": {},
     "output_type": "execute_result"
    }
   ],
   "source": [
    "list3 = caralho.splitlines()\n",
    "list3"
   ]
  },
  {
   "cell_type": "code",
   "execution_count": 45,
   "id": "188cb64d",
   "metadata": {},
   "outputs": [
    {
     "data": {
      "text/plain": [
       "'MS'"
      ]
     },
     "execution_count": 45,
     "metadata": {},
     "output_type": "execute_result"
    }
   ],
   "source": [
    "state = list3[-1][-2:]\n",
    "state"
   ]
  },
  {
   "cell_type": "code",
   "execution_count": 44,
   "id": "9cfd1f7d",
   "metadata": {},
   "outputs": [],
   "source": [
    "state = state.strip()"
   ]
  },
  {
   "cell_type": "code",
   "execution_count": 11,
   "id": "1afb524f",
   "metadata": {},
   "outputs": [
    {
     "name": "stdout",
     "output_type": "stream",
     "text": [
      "0\n",
      "Li dentro\n"
     ]
    }
   ],
   "source": [
    "def funcao():\n",
    "    return 5\n",
    "\n",
    "for i in range(10):\n",
    "    print(i)\n",
    "    \n",
    "    if funcao() == 5:\n",
    "        print(\"Li dentro\")\n",
    "        break\n"
   ]
  },
  {
   "cell_type": "code",
   "execution_count": null,
   "id": "a369242e",
   "metadata": {},
   "outputs": [],
   "source": []
  }
 ],
 "metadata": {
  "kernelspec": {
   "display_name": "Python 3",
   "language": "python",
   "name": "python3"
  },
  "language_info": {
   "codemirror_mode": {
    "name": "ipython",
    "version": 3
   },
   "file_extension": ".py",
   "mimetype": "text/x-python",
   "name": "python",
   "nbconvert_exporter": "python",
   "pygments_lexer": "ipython3",
   "version": "3.8.8"
  }
 },
 "nbformat": 4,
 "nbformat_minor": 5
}
