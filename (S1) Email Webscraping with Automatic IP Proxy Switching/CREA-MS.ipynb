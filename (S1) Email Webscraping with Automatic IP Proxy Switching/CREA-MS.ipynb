{
 "cells": [
  {
   "cell_type": "code",
   "execution_count": 1,
   "id": "b648fdd2",
   "metadata": {},
   "outputs": [],
   "source": [
    "import requests\n",
    "import pandas as pd\n",
    "from bs4 import BeautifulSoup as bs"
   ]
  },
  {
   "cell_type": "code",
   "execution_count": 2,
   "id": "d2b7e06f",
   "metadata": {},
   "outputs": [],
   "source": [
    "df = pd.read_excel(\"CREA-MS.xlsx\", sheet_name=0)"
   ]
  },
  {
   "cell_type": "code",
   "execution_count": 3,
   "id": "f2ef98c6",
   "metadata": {},
   "outputs": [
    {
     "data": {
      "text/html": [
       "<div>\n",
       "<style scoped>\n",
       "    .dataframe tbody tr th:only-of-type {\n",
       "        vertical-align: middle;\n",
       "    }\n",
       "\n",
       "    .dataframe tbody tr th {\n",
       "        vertical-align: top;\n",
       "    }\n",
       "\n",
       "    .dataframe thead th {\n",
       "        text-align: right;\n",
       "    }\n",
       "</style>\n",
       "<table border=\"1\" class=\"dataframe\">\n",
       "  <thead>\n",
       "    <tr style=\"text-align: right;\">\n",
       "      <th></th>\n",
       "      <th>Empresa</th>\n",
       "      <th>Registro</th>\n",
       "      <th>A</th>\n",
       "      <th>B</th>\n",
       "      <th>Situação</th>\n",
       "      <th>RT</th>\n",
       "    </tr>\n",
       "  </thead>\n",
       "  <tbody>\n",
       "    <tr>\n",
       "      <th>0</th>\n",
       "      <td>A7 AVIAÇÃO AGRÍCOLA</td>\n",
       "      <td>MS374</td>\n",
       "      <td>NaN</td>\n",
       "      <td>NaN</td>\n",
       "      <td>ATIVA</td>\n",
       "      <td>Responsáveis Técnicos</td>\n",
       "    </tr>\n",
       "    <tr>\n",
       "      <th>1</th>\n",
       "      <td>IMAGETECH TECNOLOGIA EM INFORMÁTICA LTDA</td>\n",
       "      <td>MS7507</td>\n",
       "      <td>NaN</td>\n",
       "      <td>NaN</td>\n",
       "      <td>ATIVA</td>\n",
       "      <td>Responsáveis Técnicos</td>\n",
       "    </tr>\n",
       "    <tr>\n",
       "      <th>2</th>\n",
       "      <td>03 IRMÃOS PRESTADORA DE SERVIÇOS</td>\n",
       "      <td>MS18358</td>\n",
       "      <td>NaN</td>\n",
       "      <td>NaN</td>\n",
       "      <td>ATIVA</td>\n",
       "      <td>Responsáveis Técnicos</td>\n",
       "    </tr>\n",
       "    <tr>\n",
       "      <th>3</th>\n",
       "      <td>1 PRA 2 ARQUITETURA E ENGENHARIA</td>\n",
       "      <td>MS19107</td>\n",
       "      <td>NaN</td>\n",
       "      <td>NaN</td>\n",
       "      <td>ATIVA</td>\n",
       "      <td>Responsáveis Técnicos</td>\n",
       "    </tr>\n",
       "    <tr>\n",
       "      <th>4</th>\n",
       "      <td>12M CONSTRUTORA E SERVIÇOS EIRELI ME</td>\n",
       "      <td>MS9908</td>\n",
       "      <td>NaN</td>\n",
       "      <td>NaN</td>\n",
       "      <td>INATIVA</td>\n",
       "      <td>Entrar em contato com o CREA-MS pelo telefone ...</td>\n",
       "    </tr>\n",
       "    <tr>\n",
       "      <th>5</th>\n",
       "      <td>1A SERVICE</td>\n",
       "      <td>MS20561</td>\n",
       "      <td>NaN</td>\n",
       "      <td>NaN</td>\n",
       "      <td>ATIVA</td>\n",
       "      <td>Responsáveis Técnicos</td>\n",
       "    </tr>\n",
       "    <tr>\n",
       "      <th>6</th>\n",
       "      <td>2 A AVIAÇÃO AGRICOLA</td>\n",
       "      <td>MS18912</td>\n",
       "      <td>NaN</td>\n",
       "      <td>NaN</td>\n",
       "      <td>ATIVA</td>\n",
       "      <td>Responsáveis Técnicos</td>\n",
       "    </tr>\n",
       "    <tr>\n",
       "      <th>7</th>\n",
       "      <td>2.0 ENGENHARIA</td>\n",
       "      <td>MS19816</td>\n",
       "      <td>NaN</td>\n",
       "      <td>NaN</td>\n",
       "      <td>ATIVA</td>\n",
       "      <td>Responsáveis Técnicos</td>\n",
       "    </tr>\n",
       "    <tr>\n",
       "      <th>8</th>\n",
       "      <td>2A TRANSPORTE E SERVIÇO LTDA EPP</td>\n",
       "      <td>MS7913</td>\n",
       "      <td>NaN</td>\n",
       "      <td>NaN</td>\n",
       "      <td>INATIVA</td>\n",
       "      <td>Entrar em contato com o CREA-MS pelo telefone ...</td>\n",
       "    </tr>\n",
       "    <tr>\n",
       "      <th>9</th>\n",
       "      <td>2J INCORPORACAO E EMPRENDIMENTOS IMOBILIARIOS ...</td>\n",
       "      <td>MS18939</td>\n",
       "      <td>NaN</td>\n",
       "      <td>NaN</td>\n",
       "      <td>ATIVA</td>\n",
       "      <td>Responsáveis Técnicos</td>\n",
       "    </tr>\n",
       "  </tbody>\n",
       "</table>\n",
       "</div>"
      ],
      "text/plain": [
       "                                             Empresa Registro    A    B  \\\n",
       "0                                A7 AVIAÇÃO AGRÍCOLA    MS374  NaN  NaN   \n",
       "1           IMAGETECH TECNOLOGIA EM INFORMÁTICA LTDA   MS7507  NaN  NaN   \n",
       "2                   03 IRMÃOS PRESTADORA DE SERVIÇOS  MS18358  NaN  NaN   \n",
       "3                   1 PRA 2 ARQUITETURA E ENGENHARIA  MS19107  NaN  NaN   \n",
       "4               12M CONSTRUTORA E SERVIÇOS EIRELI ME   MS9908  NaN  NaN   \n",
       "5                                         1A SERVICE  MS20561  NaN  NaN   \n",
       "6                               2 A AVIAÇÃO AGRICOLA  MS18912  NaN  NaN   \n",
       "7                                     2.0 ENGENHARIA  MS19816  NaN  NaN   \n",
       "8                   2A TRANSPORTE E SERVIÇO LTDA EPP   MS7913  NaN  NaN   \n",
       "9  2J INCORPORACAO E EMPRENDIMENTOS IMOBILIARIOS ...  MS18939  NaN  NaN   \n",
       "\n",
       "  Situação                                                 RT  \n",
       "0    ATIVA                              Responsáveis Técnicos  \n",
       "1    ATIVA                              Responsáveis Técnicos  \n",
       "2    ATIVA                              Responsáveis Técnicos  \n",
       "3    ATIVA                              Responsáveis Técnicos  \n",
       "4  INATIVA  Entrar em contato com o CREA-MS pelo telefone ...  \n",
       "5    ATIVA                              Responsáveis Técnicos  \n",
       "6    ATIVA                              Responsáveis Técnicos  \n",
       "7    ATIVA                              Responsáveis Técnicos  \n",
       "8  INATIVA  Entrar em contato com o CREA-MS pelo telefone ...  \n",
       "9    ATIVA                              Responsáveis Técnicos  "
      ]
     },
     "execution_count": 3,
     "metadata": {},
     "output_type": "execute_result"
    }
   ],
   "source": [
    "df.head(10)"
   ]
  },
  {
   "cell_type": "code",
   "execution_count": 4,
   "id": "1f887748",
   "metadata": {},
   "outputs": [],
   "source": [
    "df = df.drop(columns=['A','B', 'RT'], axis=1)"
   ]
  },
  {
   "cell_type": "code",
   "execution_count": 5,
   "id": "10e655ca",
   "metadata": {},
   "outputs": [
    {
     "data": {
      "text/html": [
       "<div>\n",
       "<style scoped>\n",
       "    .dataframe tbody tr th:only-of-type {\n",
       "        vertical-align: middle;\n",
       "    }\n",
       "\n",
       "    .dataframe tbody tr th {\n",
       "        vertical-align: top;\n",
       "    }\n",
       "\n",
       "    .dataframe thead th {\n",
       "        text-align: right;\n",
       "    }\n",
       "</style>\n",
       "<table border=\"1\" class=\"dataframe\">\n",
       "  <thead>\n",
       "    <tr style=\"text-align: right;\">\n",
       "      <th></th>\n",
       "      <th>Empresa</th>\n",
       "      <th>Registro</th>\n",
       "      <th>Situação</th>\n",
       "    </tr>\n",
       "  </thead>\n",
       "  <tbody>\n",
       "    <tr>\n",
       "      <th>0</th>\n",
       "      <td>A7 AVIAÇÃO AGRÍCOLA</td>\n",
       "      <td>MS374</td>\n",
       "      <td>ATIVA</td>\n",
       "    </tr>\n",
       "    <tr>\n",
       "      <th>1</th>\n",
       "      <td>IMAGETECH TECNOLOGIA EM INFORMÁTICA LTDA</td>\n",
       "      <td>MS7507</td>\n",
       "      <td>ATIVA</td>\n",
       "    </tr>\n",
       "    <tr>\n",
       "      <th>2</th>\n",
       "      <td>03 IRMÃOS PRESTADORA DE SERVIÇOS</td>\n",
       "      <td>MS18358</td>\n",
       "      <td>ATIVA</td>\n",
       "    </tr>\n",
       "    <tr>\n",
       "      <th>3</th>\n",
       "      <td>1 PRA 2 ARQUITETURA E ENGENHARIA</td>\n",
       "      <td>MS19107</td>\n",
       "      <td>ATIVA</td>\n",
       "    </tr>\n",
       "    <tr>\n",
       "      <th>4</th>\n",
       "      <td>12M CONSTRUTORA E SERVIÇOS EIRELI ME</td>\n",
       "      <td>MS9908</td>\n",
       "      <td>INATIVA</td>\n",
       "    </tr>\n",
       "    <tr>\n",
       "      <th>5</th>\n",
       "      <td>1A SERVICE</td>\n",
       "      <td>MS20561</td>\n",
       "      <td>ATIVA</td>\n",
       "    </tr>\n",
       "    <tr>\n",
       "      <th>6</th>\n",
       "      <td>2 A AVIAÇÃO AGRICOLA</td>\n",
       "      <td>MS18912</td>\n",
       "      <td>ATIVA</td>\n",
       "    </tr>\n",
       "    <tr>\n",
       "      <th>7</th>\n",
       "      <td>2.0 ENGENHARIA</td>\n",
       "      <td>MS19816</td>\n",
       "      <td>ATIVA</td>\n",
       "    </tr>\n",
       "    <tr>\n",
       "      <th>8</th>\n",
       "      <td>2A TRANSPORTE E SERVIÇO LTDA EPP</td>\n",
       "      <td>MS7913</td>\n",
       "      <td>INATIVA</td>\n",
       "    </tr>\n",
       "    <tr>\n",
       "      <th>9</th>\n",
       "      <td>2J INCORPORACAO E EMPRENDIMENTOS IMOBILIARIOS ...</td>\n",
       "      <td>MS18939</td>\n",
       "      <td>ATIVA</td>\n",
       "    </tr>\n",
       "  </tbody>\n",
       "</table>\n",
       "</div>"
      ],
      "text/plain": [
       "                                             Empresa Registro Situação\n",
       "0                                A7 AVIAÇÃO AGRÍCOLA    MS374    ATIVA\n",
       "1           IMAGETECH TECNOLOGIA EM INFORMÁTICA LTDA   MS7507    ATIVA\n",
       "2                   03 IRMÃOS PRESTADORA DE SERVIÇOS  MS18358    ATIVA\n",
       "3                   1 PRA 2 ARQUITETURA E ENGENHARIA  MS19107    ATIVA\n",
       "4               12M CONSTRUTORA E SERVIÇOS EIRELI ME   MS9908  INATIVA\n",
       "5                                         1A SERVICE  MS20561    ATIVA\n",
       "6                               2 A AVIAÇÃO AGRICOLA  MS18912    ATIVA\n",
       "7                                     2.0 ENGENHARIA  MS19816    ATIVA\n",
       "8                   2A TRANSPORTE E SERVIÇO LTDA EPP   MS7913  INATIVA\n",
       "9  2J INCORPORACAO E EMPRENDIMENTOS IMOBILIARIOS ...  MS18939    ATIVA"
      ]
     },
     "execution_count": 5,
     "metadata": {},
     "output_type": "execute_result"
    }
   ],
   "source": [
    "df.head(10)"
   ]
  },
  {
   "cell_type": "code",
   "execution_count": 6,
   "id": "193e992d",
   "metadata": {},
   "outputs": [
    {
     "data": {
      "text/plain": [
       "(1000, 3)"
      ]
     },
     "execution_count": 6,
     "metadata": {},
     "output_type": "execute_result"
    }
   ],
   "source": [
    "df.shape"
   ]
  },
  {
   "cell_type": "markdown",
   "id": "c03adef9",
   "metadata": {},
   "source": [
    "Essa porra não ta funcionando não caralho"
   ]
  },
  {
   "cell_type": "code",
   "execution_count": 7,
   "id": "dbe55e6f",
   "metadata": {},
   "outputs": [],
   "source": [
    "cond = df['Situação'] == 'ATIVA'\n",
    "df2 = df[cond]"
   ]
  },
  {
   "cell_type": "code",
   "execution_count": 8,
   "id": "591ad0d6",
   "metadata": {},
   "outputs": [
    {
     "data": {
      "text/plain": [
       "(660, 3)"
      ]
     },
     "execution_count": 8,
     "metadata": {},
     "output_type": "execute_result"
    }
   ],
   "source": [
    "df2.shape"
   ]
  },
  {
   "cell_type": "code",
   "execution_count": 9,
   "id": "2ad830d6",
   "metadata": {},
   "outputs": [
    {
     "data": {
      "text/html": [
       "<div>\n",
       "<style scoped>\n",
       "    .dataframe tbody tr th:only-of-type {\n",
       "        vertical-align: middle;\n",
       "    }\n",
       "\n",
       "    .dataframe tbody tr th {\n",
       "        vertical-align: top;\n",
       "    }\n",
       "\n",
       "    .dataframe thead th {\n",
       "        text-align: right;\n",
       "    }\n",
       "</style>\n",
       "<table border=\"1\" class=\"dataframe\">\n",
       "  <thead>\n",
       "    <tr style=\"text-align: right;\">\n",
       "      <th></th>\n",
       "      <th>Empresa</th>\n",
       "      <th>Registro</th>\n",
       "      <th>Situação</th>\n",
       "    </tr>\n",
       "  </thead>\n",
       "  <tbody>\n",
       "    <tr>\n",
       "      <th>0</th>\n",
       "      <td>A7 AVIAÇÃO AGRÍCOLA</td>\n",
       "      <td>MS374</td>\n",
       "      <td>ATIVA</td>\n",
       "    </tr>\n",
       "    <tr>\n",
       "      <th>1</th>\n",
       "      <td>IMAGETECH TECNOLOGIA EM INFORMÁTICA LTDA</td>\n",
       "      <td>MS7507</td>\n",
       "      <td>ATIVA</td>\n",
       "    </tr>\n",
       "    <tr>\n",
       "      <th>2</th>\n",
       "      <td>03 IRMÃOS PRESTADORA DE SERVIÇOS</td>\n",
       "      <td>MS18358</td>\n",
       "      <td>ATIVA</td>\n",
       "    </tr>\n",
       "    <tr>\n",
       "      <th>3</th>\n",
       "      <td>1 PRA 2 ARQUITETURA E ENGENHARIA</td>\n",
       "      <td>MS19107</td>\n",
       "      <td>ATIVA</td>\n",
       "    </tr>\n",
       "    <tr>\n",
       "      <th>5</th>\n",
       "      <td>1A SERVICE</td>\n",
       "      <td>MS20561</td>\n",
       "      <td>ATIVA</td>\n",
       "    </tr>\n",
       "  </tbody>\n",
       "</table>\n",
       "</div>"
      ],
      "text/plain": [
       "                                    Empresa Registro Situação\n",
       "0                       A7 AVIAÇÃO AGRÍCOLA    MS374    ATIVA\n",
       "1  IMAGETECH TECNOLOGIA EM INFORMÁTICA LTDA   MS7507    ATIVA\n",
       "2          03 IRMÃOS PRESTADORA DE SERVIÇOS  MS18358    ATIVA\n",
       "3          1 PRA 2 ARQUITETURA E ENGENHARIA  MS19107    ATIVA\n",
       "5                                1A SERVICE  MS20561    ATIVA"
      ]
     },
     "execution_count": 9,
     "metadata": {},
     "output_type": "execute_result"
    }
   ],
   "source": [
    "df2.head()"
   ]
  },
  {
   "cell_type": "markdown",
   "id": "4672356e",
   "metadata": {},
   "source": [
    "No site http://cnpj.info/ conseguimos buscar pelo nome e trás o CNPJ"
   ]
  },
  {
   "cell_type": "code",
   "execution_count": 10,
   "id": "c17c3db3",
   "metadata": {},
   "outputs": [],
   "source": [
    "busca = '03 IRMAOS PRESTADORA DE SERVICOS'"
   ]
  },
  {
   "cell_type": "code",
   "execution_count": 11,
   "id": "e31d3ab8",
   "metadata": {},
   "outputs": [
    {
     "ename": "WebDriverException",
     "evalue": "Message: 'geckodriver' executable needs to be in PATH. \n",
     "output_type": "error",
     "traceback": [
      "\u001b[1;31m---------------------------------------------------------------------------\u001b[0m",
      "\u001b[1;31mFileNotFoundError\u001b[0m                         Traceback (most recent call last)",
      "\u001b[1;32m~\\anaconda3\\lib\\site-packages\\selenium\\webdriver\\common\\service.py\u001b[0m in \u001b[0;36mstart\u001b[1;34m(self)\u001b[0m\n\u001b[0;32m     71\u001b[0m             \u001b[0mcmd\u001b[0m\u001b[1;33m.\u001b[0m\u001b[0mextend\u001b[0m\u001b[1;33m(\u001b[0m\u001b[0mself\u001b[0m\u001b[1;33m.\u001b[0m\u001b[0mcommand_line_args\u001b[0m\u001b[1;33m(\u001b[0m\u001b[1;33m)\u001b[0m\u001b[1;33m)\u001b[0m\u001b[1;33m\u001b[0m\u001b[1;33m\u001b[0m\u001b[0m\n\u001b[1;32m---> 72\u001b[1;33m             self.process = subprocess.Popen(cmd, env=self.env,\n\u001b[0m\u001b[0;32m     73\u001b[0m                                             \u001b[0mclose_fds\u001b[0m\u001b[1;33m=\u001b[0m\u001b[0mplatform\u001b[0m\u001b[1;33m.\u001b[0m\u001b[0msystem\u001b[0m\u001b[1;33m(\u001b[0m\u001b[1;33m)\u001b[0m \u001b[1;33m!=\u001b[0m \u001b[1;34m'Windows'\u001b[0m\u001b[1;33m,\u001b[0m\u001b[1;33m\u001b[0m\u001b[1;33m\u001b[0m\u001b[0m\n",
      "\u001b[1;32m~\\anaconda3\\lib\\subprocess.py\u001b[0m in \u001b[0;36m__init__\u001b[1;34m(self, args, bufsize, executable, stdin, stdout, stderr, preexec_fn, close_fds, shell, cwd, env, universal_newlines, startupinfo, creationflags, restore_signals, start_new_session, pass_fds, encoding, errors, text)\u001b[0m\n\u001b[0;32m    857\u001b[0m \u001b[1;33m\u001b[0m\u001b[0m\n\u001b[1;32m--> 858\u001b[1;33m             self._execute_child(args, executable, preexec_fn, close_fds,\n\u001b[0m\u001b[0;32m    859\u001b[0m                                 \u001b[0mpass_fds\u001b[0m\u001b[1;33m,\u001b[0m \u001b[0mcwd\u001b[0m\u001b[1;33m,\u001b[0m \u001b[0menv\u001b[0m\u001b[1;33m,\u001b[0m\u001b[1;33m\u001b[0m\u001b[1;33m\u001b[0m\u001b[0m\n",
      "\u001b[1;32m~\\anaconda3\\lib\\subprocess.py\u001b[0m in \u001b[0;36m_execute_child\u001b[1;34m(self, args, executable, preexec_fn, close_fds, pass_fds, cwd, env, startupinfo, creationflags, shell, p2cread, p2cwrite, c2pread, c2pwrite, errread, errwrite, unused_restore_signals, unused_start_new_session)\u001b[0m\n\u001b[0;32m   1310\u001b[0m             \u001b[1;32mtry\u001b[0m\u001b[1;33m:\u001b[0m\u001b[1;33m\u001b[0m\u001b[1;33m\u001b[0m\u001b[0m\n\u001b[1;32m-> 1311\u001b[1;33m                 hp, ht, pid, tid = _winapi.CreateProcess(executable, args,\n\u001b[0m\u001b[0;32m   1312\u001b[0m                                          \u001b[1;31m# no special security\u001b[0m\u001b[1;33m\u001b[0m\u001b[1;33m\u001b[0m\u001b[1;33m\u001b[0m\u001b[0m\n",
      "\u001b[1;31mFileNotFoundError\u001b[0m: [WinError 2] O sistema não pode encontrar o arquivo especificado",
      "\nDuring handling of the above exception, another exception occurred:\n",
      "\u001b[1;31mWebDriverException\u001b[0m                        Traceback (most recent call last)",
      "\u001b[1;32m<ipython-input-11-5d8ef09b9a66>\u001b[0m in \u001b[0;36m<module>\u001b[1;34m\u001b[0m\n\u001b[0;32m      4\u001b[0m \u001b[0murl\u001b[0m \u001b[1;33m=\u001b[0m \u001b[1;34m'http://cnpj.info/'\u001b[0m\u001b[1;33m\u001b[0m\u001b[1;33m\u001b[0m\u001b[0m\n\u001b[0;32m      5\u001b[0m \u001b[1;33m\u001b[0m\u001b[0m\n\u001b[1;32m----> 6\u001b[1;33m \u001b[0mdriver\u001b[0m \u001b[1;33m=\u001b[0m \u001b[0mwebdriver\u001b[0m\u001b[1;33m.\u001b[0m\u001b[0mFirefox\u001b[0m\u001b[1;33m(\u001b[0m\u001b[1;33m)\u001b[0m\u001b[1;33m\u001b[0m\u001b[1;33m\u001b[0m\u001b[0m\n\u001b[0m\u001b[0;32m      7\u001b[0m \u001b[0mdriver\u001b[0m\u001b[1;33m.\u001b[0m\u001b[0mget\u001b[0m\u001b[1;33m(\u001b[0m\u001b[0murl\u001b[0m\u001b[1;33m)\u001b[0m\u001b[1;33m\u001b[0m\u001b[1;33m\u001b[0m\u001b[0m\n",
      "\u001b[1;32m~\\anaconda3\\lib\\site-packages\\selenium\\webdriver\\firefox\\webdriver.py\u001b[0m in \u001b[0;36m__init__\u001b[1;34m(self, firefox_profile, firefox_binary, timeout, capabilities, proxy, executable_path, options, service_log_path, firefox_options, service_args, desired_capabilities, log_path, keep_alive)\u001b[0m\n\u001b[0;32m    162\u001b[0m                 \u001b[0mservice_args\u001b[0m\u001b[1;33m=\u001b[0m\u001b[0mservice_args\u001b[0m\u001b[1;33m,\u001b[0m\u001b[1;33m\u001b[0m\u001b[1;33m\u001b[0m\u001b[0m\n\u001b[0;32m    163\u001b[0m                 log_path=service_log_path)\n\u001b[1;32m--> 164\u001b[1;33m             \u001b[0mself\u001b[0m\u001b[1;33m.\u001b[0m\u001b[0mservice\u001b[0m\u001b[1;33m.\u001b[0m\u001b[0mstart\u001b[0m\u001b[1;33m(\u001b[0m\u001b[1;33m)\u001b[0m\u001b[1;33m\u001b[0m\u001b[1;33m\u001b[0m\u001b[0m\n\u001b[0m\u001b[0;32m    165\u001b[0m \u001b[1;33m\u001b[0m\u001b[0m\n\u001b[0;32m    166\u001b[0m             \u001b[0mcapabilities\u001b[0m\u001b[1;33m.\u001b[0m\u001b[0mupdate\u001b[0m\u001b[1;33m(\u001b[0m\u001b[0moptions\u001b[0m\u001b[1;33m.\u001b[0m\u001b[0mto_capabilities\u001b[0m\u001b[1;33m(\u001b[0m\u001b[1;33m)\u001b[0m\u001b[1;33m)\u001b[0m\u001b[1;33m\u001b[0m\u001b[1;33m\u001b[0m\u001b[0m\n",
      "\u001b[1;32m~\\anaconda3\\lib\\site-packages\\selenium\\webdriver\\common\\service.py\u001b[0m in \u001b[0;36mstart\u001b[1;34m(self)\u001b[0m\n\u001b[0;32m     79\u001b[0m         \u001b[1;32mexcept\u001b[0m \u001b[0mOSError\u001b[0m \u001b[1;32mas\u001b[0m \u001b[0merr\u001b[0m\u001b[1;33m:\u001b[0m\u001b[1;33m\u001b[0m\u001b[1;33m\u001b[0m\u001b[0m\n\u001b[0;32m     80\u001b[0m             \u001b[1;32mif\u001b[0m \u001b[0merr\u001b[0m\u001b[1;33m.\u001b[0m\u001b[0merrno\u001b[0m \u001b[1;33m==\u001b[0m \u001b[0merrno\u001b[0m\u001b[1;33m.\u001b[0m\u001b[0mENOENT\u001b[0m\u001b[1;33m:\u001b[0m\u001b[1;33m\u001b[0m\u001b[1;33m\u001b[0m\u001b[0m\n\u001b[1;32m---> 81\u001b[1;33m                 raise WebDriverException(\n\u001b[0m\u001b[0;32m     82\u001b[0m                     \"'%s' executable needs to be in PATH. %s\" % (\n\u001b[0;32m     83\u001b[0m                         os.path.basename(self.path), self.start_error_message)\n",
      "\u001b[1;31mWebDriverException\u001b[0m: Message: 'geckodriver' executable needs to be in PATH. \n"
     ]
    }
   ],
   "source": [
    "from selenium import webdriver\n",
    "from selenium.webdriver.common.keys import Keys\n",
    "\n",
    "url = 'http://cnpj.info/'\n",
    "\n",
    "driver = webdriver.Firefox()\n",
    "driver.get(url)"
   ]
  },
  {
   "cell_type": "code",
   "execution_count": null,
   "id": "c9949c7c",
   "metadata": {},
   "outputs": [],
   "source": []
  }
 ],
 "metadata": {
  "kernelspec": {
   "display_name": "Python 3",
   "language": "python",
   "name": "python3"
  },
  "language_info": {
   "codemirror_mode": {
    "name": "ipython",
    "version": 3
   },
   "file_extension": ".py",
   "mimetype": "text/x-python",
   "name": "python",
   "nbconvert_exporter": "python",
   "pygments_lexer": "ipython3",
   "version": "3.8.8"
  }
 },
 "nbformat": 4,
 "nbformat_minor": 5
}
