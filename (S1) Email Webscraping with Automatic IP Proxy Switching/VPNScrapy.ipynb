{
 "cells": [
  {
   "cell_type": "code",
   "execution_count": 294,
   "id": "4f90f4fe",
   "metadata": {},
   "outputs": [],
   "source": [
    "import requests\n",
    "import re\n",
    "import pandas as pd\n",
    "import random\n",
    "from bs4 import BeautifulSoup as bs"
   ]
  },
  {
   "cell_type": "code",
   "execution_count": 240,
   "id": "f014ca32",
   "metadata": {},
   "outputs": [],
   "source": [
    "response = requests.get('https://free-proxy-list.net')"
   ]
  },
  {
   "cell_type": "code",
   "execution_count": 241,
   "id": "bb849d7e",
   "metadata": {},
   "outputs": [],
   "source": [
    "content = response.content\n",
    "site = bs(content, 'html.parser')\n",
    "#print(site.prettify())"
   ]
  },
  {
   "cell_type": "code",
   "execution_count": 242,
   "id": "a92a7235",
   "metadata": {},
   "outputs": [],
   "source": [
    "peneira1 = site.find('table', attrs={'class':'table table-striped table-bordered'})  \n",
    "#print(peneira1.prettify())"
   ]
  },
  {
   "cell_type": "code",
   "execution_count": 243,
   "id": "6e424a06",
   "metadata": {},
   "outputs": [],
   "source": [
    "table = pd.read_html(peneira1.prettify())"
   ]
  },
  {
   "cell_type": "code",
   "execution_count": 244,
   "id": "c4503db1",
   "metadata": {},
   "outputs": [
    {
     "data": {
      "text/plain": [
       "list"
      ]
     },
     "execution_count": 244,
     "metadata": {},
     "output_type": "execute_result"
    }
   ],
   "source": [
    "type(table)"
   ]
  },
  {
   "cell_type": "code",
   "execution_count": 245,
   "id": "26231a6e",
   "metadata": {},
   "outputs": [
    {
     "data": {
      "text/html": [
       "<div>\n",
       "<style scoped>\n",
       "    .dataframe tbody tr th:only-of-type {\n",
       "        vertical-align: middle;\n",
       "    }\n",
       "\n",
       "    .dataframe tbody tr th {\n",
       "        vertical-align: top;\n",
       "    }\n",
       "\n",
       "    .dataframe thead th {\n",
       "        text-align: right;\n",
       "    }\n",
       "</style>\n",
       "<table border=\"1\" class=\"dataframe\">\n",
       "  <thead>\n",
       "    <tr style=\"text-align: right;\">\n",
       "      <th></th>\n",
       "      <th>IP Address</th>\n",
       "      <th>Port</th>\n",
       "      <th>Code</th>\n",
       "      <th>Country</th>\n",
       "      <th>Anonymity</th>\n",
       "      <th>Google</th>\n",
       "      <th>Https</th>\n",
       "      <th>Last Checked</th>\n",
       "    </tr>\n",
       "  </thead>\n",
       "  <tbody>\n",
       "    <tr>\n",
       "      <th>0</th>\n",
       "      <td>216.75.113.182</td>\n",
       "      <td>39602.0</td>\n",
       "      <td>US</td>\n",
       "      <td>United States</td>\n",
       "      <td>elite proxy</td>\n",
       "      <td>no</td>\n",
       "      <td>no</td>\n",
       "      <td>2 minutes ago</td>\n",
       "    </tr>\n",
       "    <tr>\n",
       "      <th>1</th>\n",
       "      <td>176.9.233.90</td>\n",
       "      <td>8080.0</td>\n",
       "      <td>DE</td>\n",
       "      <td>Germany</td>\n",
       "      <td>elite proxy</td>\n",
       "      <td>no</td>\n",
       "      <td>no</td>\n",
       "      <td>2 minutes ago</td>\n",
       "    </tr>\n",
       "    <tr>\n",
       "      <th>2</th>\n",
       "      <td>221.125.138.189</td>\n",
       "      <td>8380.0</td>\n",
       "      <td>HK</td>\n",
       "      <td>Hong Kong</td>\n",
       "      <td>anonymous</td>\n",
       "      <td>no</td>\n",
       "      <td>no</td>\n",
       "      <td>2 minutes ago</td>\n",
       "    </tr>\n",
       "    <tr>\n",
       "      <th>3</th>\n",
       "      <td>186.233.96.246</td>\n",
       "      <td>23500.0</td>\n",
       "      <td>BR</td>\n",
       "      <td>Brazil</td>\n",
       "      <td>elite proxy</td>\n",
       "      <td>no</td>\n",
       "      <td>no</td>\n",
       "      <td>2 minutes ago</td>\n",
       "    </tr>\n",
       "    <tr>\n",
       "      <th>4</th>\n",
       "      <td>8.210.157.49</td>\n",
       "      <td>17309.0</td>\n",
       "      <td>HK</td>\n",
       "      <td>Hong Kong</td>\n",
       "      <td>anonymous</td>\n",
       "      <td>no</td>\n",
       "      <td>yes</td>\n",
       "      <td>2 minutes ago</td>\n",
       "    </tr>\n",
       "    <tr>\n",
       "      <th>...</th>\n",
       "      <td>...</td>\n",
       "      <td>...</td>\n",
       "      <td>...</td>\n",
       "      <td>...</td>\n",
       "      <td>...</td>\n",
       "      <td>...</td>\n",
       "      <td>...</td>\n",
       "      <td>...</td>\n",
       "    </tr>\n",
       "    <tr>\n",
       "      <th>296</th>\n",
       "      <td>91.142.174.224</td>\n",
       "      <td>41576.0</td>\n",
       "      <td>UA</td>\n",
       "      <td>Ukraine</td>\n",
       "      <td>elite proxy</td>\n",
       "      <td>no</td>\n",
       "      <td>yes</td>\n",
       "      <td>21 minutes ago</td>\n",
       "    </tr>\n",
       "    <tr>\n",
       "      <th>297</th>\n",
       "      <td>160.238.227.153</td>\n",
       "      <td>30222.0</td>\n",
       "      <td>BR</td>\n",
       "      <td>Brazil</td>\n",
       "      <td>elite proxy</td>\n",
       "      <td>no</td>\n",
       "      <td>no</td>\n",
       "      <td>21 minutes ago</td>\n",
       "    </tr>\n",
       "    <tr>\n",
       "      <th>298</th>\n",
       "      <td>137.74.112.21</td>\n",
       "      <td>80.0</td>\n",
       "      <td>FR</td>\n",
       "      <td>France</td>\n",
       "      <td>elite proxy</td>\n",
       "      <td>no</td>\n",
       "      <td>no</td>\n",
       "      <td>21 minutes ago</td>\n",
       "    </tr>\n",
       "    <tr>\n",
       "      <th>299</th>\n",
       "      <td>134.19.254.2</td>\n",
       "      <td>21231.0</td>\n",
       "      <td>GE</td>\n",
       "      <td>Georgia</td>\n",
       "      <td>elite proxy</td>\n",
       "      <td>no</td>\n",
       "      <td>yes</td>\n",
       "      <td>22 minutes ago</td>\n",
       "    </tr>\n",
       "    <tr>\n",
       "      <th>300</th>\n",
       "      <td>NaN</td>\n",
       "      <td>NaN</td>\n",
       "      <td>NaN</td>\n",
       "      <td>NaN</td>\n",
       "      <td>NaN</td>\n",
       "      <td>NaN</td>\n",
       "      <td>NaN</td>\n",
       "      <td>NaN</td>\n",
       "    </tr>\n",
       "  </tbody>\n",
       "</table>\n",
       "<p>301 rows × 8 columns</p>\n",
       "</div>"
      ],
      "text/plain": [
       "          IP Address     Port Code        Country    Anonymity Google Https  \\\n",
       "0     216.75.113.182  39602.0   US  United States  elite proxy     no    no   \n",
       "1       176.9.233.90   8080.0   DE        Germany  elite proxy     no    no   \n",
       "2    221.125.138.189   8380.0   HK      Hong Kong    anonymous     no    no   \n",
       "3     186.233.96.246  23500.0   BR         Brazil  elite proxy     no    no   \n",
       "4       8.210.157.49  17309.0   HK      Hong Kong    anonymous     no   yes   \n",
       "..               ...      ...  ...            ...          ...    ...   ...   \n",
       "296   91.142.174.224  41576.0   UA        Ukraine  elite proxy     no   yes   \n",
       "297  160.238.227.153  30222.0   BR         Brazil  elite proxy     no    no   \n",
       "298    137.74.112.21     80.0   FR         France  elite proxy     no    no   \n",
       "299     134.19.254.2  21231.0   GE        Georgia  elite proxy     no   yes   \n",
       "300              NaN      NaN  NaN            NaN          NaN    NaN   NaN   \n",
       "\n",
       "       Last Checked  \n",
       "0     2 minutes ago  \n",
       "1     2 minutes ago  \n",
       "2     2 minutes ago  \n",
       "3     2 minutes ago  \n",
       "4     2 minutes ago  \n",
       "..              ...  \n",
       "296  21 minutes ago  \n",
       "297  21 minutes ago  \n",
       "298  21 minutes ago  \n",
       "299  22 minutes ago  \n",
       "300             NaN  \n",
       "\n",
       "[301 rows x 8 columns]"
      ]
     },
     "execution_count": 245,
     "metadata": {},
     "output_type": "execute_result"
    }
   ],
   "source": [
    "table[0]"
   ]
  },
  {
   "cell_type": "code",
   "execution_count": 246,
   "id": "dd47bdd2",
   "metadata": {},
   "outputs": [
    {
     "data": {
      "text/plain": [
       "<bound method DataFrame.info of           IP Address     Port Code        Country    Anonymity Google Https  \\\n",
       "0     216.75.113.182  39602.0   US  United States  elite proxy     no    no   \n",
       "1       176.9.233.90   8080.0   DE        Germany  elite proxy     no    no   \n",
       "2    221.125.138.189   8380.0   HK      Hong Kong    anonymous     no    no   \n",
       "3     186.233.96.246  23500.0   BR         Brazil  elite proxy     no    no   \n",
       "4       8.210.157.49  17309.0   HK      Hong Kong    anonymous     no   yes   \n",
       "..               ...      ...  ...            ...          ...    ...   ...   \n",
       "296   91.142.174.224  41576.0   UA        Ukraine  elite proxy     no   yes   \n",
       "297  160.238.227.153  30222.0   BR         Brazil  elite proxy     no    no   \n",
       "298    137.74.112.21     80.0   FR         France  elite proxy     no    no   \n",
       "299     134.19.254.2  21231.0   GE        Georgia  elite proxy     no   yes   \n",
       "300              NaN      NaN  NaN            NaN          NaN    NaN   NaN   \n",
       "\n",
       "       Last Checked  \n",
       "0     2 minutes ago  \n",
       "1     2 minutes ago  \n",
       "2     2 minutes ago  \n",
       "3     2 minutes ago  \n",
       "4     2 minutes ago  \n",
       "..              ...  \n",
       "296  21 minutes ago  \n",
       "297  21 minutes ago  \n",
       "298  21 minutes ago  \n",
       "299  22 minutes ago  \n",
       "300             NaN  \n",
       "\n",
       "[301 rows x 8 columns]>"
      ]
     },
     "execution_count": 246,
     "metadata": {},
     "output_type": "execute_result"
    }
   ],
   "source": [
    "table[0].info"
   ]
  },
  {
   "cell_type": "code",
   "execution_count": 247,
   "id": "2dc610b3",
   "metadata": {},
   "outputs": [],
   "source": [
    "table1 = pd.DataFrame(table[0])"
   ]
  },
  {
   "cell_type": "code",
   "execution_count": 248,
   "id": "4f714d67",
   "metadata": {},
   "outputs": [
    {
     "data": {
      "text/html": [
       "<div>\n",
       "<style scoped>\n",
       "    .dataframe tbody tr th:only-of-type {\n",
       "        vertical-align: middle;\n",
       "    }\n",
       "\n",
       "    .dataframe tbody tr th {\n",
       "        vertical-align: top;\n",
       "    }\n",
       "\n",
       "    .dataframe thead th {\n",
       "        text-align: right;\n",
       "    }\n",
       "</style>\n",
       "<table border=\"1\" class=\"dataframe\">\n",
       "  <thead>\n",
       "    <tr style=\"text-align: right;\">\n",
       "      <th></th>\n",
       "      <th>IP Address</th>\n",
       "      <th>Port</th>\n",
       "      <th>Code</th>\n",
       "      <th>Country</th>\n",
       "      <th>Anonymity</th>\n",
       "      <th>Google</th>\n",
       "      <th>Https</th>\n",
       "      <th>Last Checked</th>\n",
       "    </tr>\n",
       "  </thead>\n",
       "  <tbody>\n",
       "    <tr>\n",
       "      <th>0</th>\n",
       "      <td>216.75.113.182</td>\n",
       "      <td>39602.0</td>\n",
       "      <td>US</td>\n",
       "      <td>United States</td>\n",
       "      <td>elite proxy</td>\n",
       "      <td>no</td>\n",
       "      <td>no</td>\n",
       "      <td>2 minutes ago</td>\n",
       "    </tr>\n",
       "    <tr>\n",
       "      <th>1</th>\n",
       "      <td>176.9.233.90</td>\n",
       "      <td>8080.0</td>\n",
       "      <td>DE</td>\n",
       "      <td>Germany</td>\n",
       "      <td>elite proxy</td>\n",
       "      <td>no</td>\n",
       "      <td>no</td>\n",
       "      <td>2 minutes ago</td>\n",
       "    </tr>\n",
       "    <tr>\n",
       "      <th>2</th>\n",
       "      <td>221.125.138.189</td>\n",
       "      <td>8380.0</td>\n",
       "      <td>HK</td>\n",
       "      <td>Hong Kong</td>\n",
       "      <td>anonymous</td>\n",
       "      <td>no</td>\n",
       "      <td>no</td>\n",
       "      <td>2 minutes ago</td>\n",
       "    </tr>\n",
       "    <tr>\n",
       "      <th>3</th>\n",
       "      <td>186.233.96.246</td>\n",
       "      <td>23500.0</td>\n",
       "      <td>BR</td>\n",
       "      <td>Brazil</td>\n",
       "      <td>elite proxy</td>\n",
       "      <td>no</td>\n",
       "      <td>no</td>\n",
       "      <td>2 minutes ago</td>\n",
       "    </tr>\n",
       "    <tr>\n",
       "      <th>4</th>\n",
       "      <td>8.210.157.49</td>\n",
       "      <td>17309.0</td>\n",
       "      <td>HK</td>\n",
       "      <td>Hong Kong</td>\n",
       "      <td>anonymous</td>\n",
       "      <td>no</td>\n",
       "      <td>yes</td>\n",
       "      <td>2 minutes ago</td>\n",
       "    </tr>\n",
       "  </tbody>\n",
       "</table>\n",
       "</div>"
      ],
      "text/plain": [
       "        IP Address     Port Code        Country    Anonymity Google Https  \\\n",
       "0   216.75.113.182  39602.0   US  United States  elite proxy     no    no   \n",
       "1     176.9.233.90   8080.0   DE        Germany  elite proxy     no    no   \n",
       "2  221.125.138.189   8380.0   HK      Hong Kong    anonymous     no    no   \n",
       "3   186.233.96.246  23500.0   BR         Brazil  elite proxy     no    no   \n",
       "4     8.210.157.49  17309.0   HK      Hong Kong    anonymous     no   yes   \n",
       "\n",
       "    Last Checked  \n",
       "0  2 minutes ago  \n",
       "1  2 minutes ago  \n",
       "2  2 minutes ago  \n",
       "3  2 minutes ago  \n",
       "4  2 minutes ago  "
      ]
     },
     "execution_count": 248,
     "metadata": {},
     "output_type": "execute_result"
    }
   ],
   "source": [
    "table1.head()"
   ]
  },
  {
   "cell_type": "code",
   "execution_count": 249,
   "id": "883a4b9c",
   "metadata": {},
   "outputs": [
    {
     "data": {
      "text/plain": [
       "IP Address       object\n",
       "Port            float64\n",
       "Code             object\n",
       "Country          object\n",
       "Anonymity        object\n",
       "Google           object\n",
       "Https            object\n",
       "Last Checked     object\n",
       "dtype: object"
      ]
     },
     "execution_count": 249,
     "metadata": {},
     "output_type": "execute_result"
    }
   ],
   "source": [
    "table1.dtypes"
   ]
  },
  {
   "cell_type": "code",
   "execution_count": 303,
   "id": "b06ddd31",
   "metadata": {},
   "outputs": [],
   "source": [
    "table1['Port'] = table1['Port'].astype(str)"
   ]
  },
  {
   "cell_type": "code",
   "execution_count": 304,
   "id": "c6a3b22f",
   "metadata": {},
   "outputs": [
    {
     "data": {
      "text/plain": [
       "IP Address       object\n",
       "Port             object\n",
       "Code             object\n",
       "Country          object\n",
       "Anonymity        object\n",
       "Google           object\n",
       "Https            object\n",
       "Last Checked     object\n",
       "Minutes         float64\n",
       "Proxy            object\n",
       "dtype: object"
      ]
     },
     "execution_count": 304,
     "metadata": {},
     "output_type": "execute_result"
    }
   ],
   "source": [
    "table1.dtypes"
   ]
  },
  {
   "cell_type": "code",
   "execution_count": 259,
   "id": "8938b0cd",
   "metadata": {},
   "outputs": [],
   "source": [
    "\"\"\"def cleantext(checked):\n",
    "    try:\n",
    "        if \"seconds\" in checked:\n",
    "            return int(0)\n",
    "        if \"minutes\" in checked:\n",
    "            minute, time, ago = checked.split()\n",
    "            return int(minute)\n",
    "    except AttributeError:\n",
    "        return None  # or some other value\"\"\"\n",
    "#Não deu certo nem a pau"
   ]
  },
  {
   "cell_type": "code",
   "execution_count": 265,
   "id": "08e6c017",
   "metadata": {},
   "outputs": [],
   "source": [
    "def cleantext(checked:str):\n",
    "    try:\n",
    "        if checked.__contains__(\"seconds\"):\n",
    "            return int(0)\n",
    "        if checked.__contains__(\"minutes\"):\n",
    "            minute, time, ago = checked.split()\n",
    "            return int(minute)\n",
    "    except AttributeError:\n",
    "        return None  # or some other value"
   ]
  },
  {
   "cell_type": "code",
   "execution_count": 266,
   "id": "6fcd807f",
   "metadata": {},
   "outputs": [
    {
     "name": "stdout",
     "output_type": "stream",
     "text": [
      "0\n"
     ]
    },
    {
     "data": {
      "text/plain": [
       "int"
      ]
     },
     "execution_count": 266,
     "metadata": {},
     "output_type": "execute_result"
    }
   ],
   "source": [
    "text = '2003 seconds ago'\n",
    "a = cleantext(text)\n",
    "print(a)\n",
    "type(a)"
   ]
  },
  {
   "cell_type": "code",
   "execution_count": 267,
   "id": "a4cf6db9",
   "metadata": {},
   "outputs": [
    {
     "data": {
      "text/plain": [
       "True"
      ]
     },
     "execution_count": 267,
     "metadata": {},
     "output_type": "execute_result"
    }
   ],
   "source": [
    "'seconds' in text"
   ]
  },
  {
   "cell_type": "code",
   "execution_count": 268,
   "id": "960dbfe8",
   "metadata": {},
   "outputs": [
    {
     "data": {
      "text/plain": [
       "Index(['IP Address', 'Port', 'Code', 'Country', 'Anonymity', 'Google', 'Https',\n",
       "       'Last Checked'],\n",
       "      dtype='object')"
      ]
     },
     "execution_count": 268,
     "metadata": {},
     "output_type": "execute_result"
    }
   ],
   "source": [
    "table1.columns"
   ]
  },
  {
   "cell_type": "code",
   "execution_count": 269,
   "id": "44646903",
   "metadata": {},
   "outputs": [],
   "source": [
    "table1['Minutes'] = table1['Last Checked'].apply(cleantext)"
   ]
  },
  {
   "cell_type": "code",
   "execution_count": 270,
   "id": "a66ff878",
   "metadata": {},
   "outputs": [
    {
     "data": {
      "text/html": [
       "<div>\n",
       "<style scoped>\n",
       "    .dataframe tbody tr th:only-of-type {\n",
       "        vertical-align: middle;\n",
       "    }\n",
       "\n",
       "    .dataframe tbody tr th {\n",
       "        vertical-align: top;\n",
       "    }\n",
       "\n",
       "    .dataframe thead th {\n",
       "        text-align: right;\n",
       "    }\n",
       "</style>\n",
       "<table border=\"1\" class=\"dataframe\">\n",
       "  <thead>\n",
       "    <tr style=\"text-align: right;\">\n",
       "      <th></th>\n",
       "      <th>IP Address</th>\n",
       "      <th>Port</th>\n",
       "      <th>Code</th>\n",
       "      <th>Country</th>\n",
       "      <th>Anonymity</th>\n",
       "      <th>Google</th>\n",
       "      <th>Https</th>\n",
       "      <th>Last Checked</th>\n",
       "      <th>Minutes</th>\n",
       "    </tr>\n",
       "  </thead>\n",
       "  <tbody>\n",
       "    <tr>\n",
       "      <th>0</th>\n",
       "      <td>216.75.113.182</td>\n",
       "      <td>39602.0</td>\n",
       "      <td>US</td>\n",
       "      <td>United States</td>\n",
       "      <td>elite proxy</td>\n",
       "      <td>no</td>\n",
       "      <td>no</td>\n",
       "      <td>2 minutes ago</td>\n",
       "      <td>2.0</td>\n",
       "    </tr>\n",
       "    <tr>\n",
       "      <th>1</th>\n",
       "      <td>176.9.233.90</td>\n",
       "      <td>8080.0</td>\n",
       "      <td>DE</td>\n",
       "      <td>Germany</td>\n",
       "      <td>elite proxy</td>\n",
       "      <td>no</td>\n",
       "      <td>no</td>\n",
       "      <td>2 minutes ago</td>\n",
       "      <td>2.0</td>\n",
       "    </tr>\n",
       "    <tr>\n",
       "      <th>2</th>\n",
       "      <td>221.125.138.189</td>\n",
       "      <td>8380.0</td>\n",
       "      <td>HK</td>\n",
       "      <td>Hong Kong</td>\n",
       "      <td>anonymous</td>\n",
       "      <td>no</td>\n",
       "      <td>no</td>\n",
       "      <td>2 minutes ago</td>\n",
       "      <td>2.0</td>\n",
       "    </tr>\n",
       "    <tr>\n",
       "      <th>3</th>\n",
       "      <td>186.233.96.246</td>\n",
       "      <td>23500.0</td>\n",
       "      <td>BR</td>\n",
       "      <td>Brazil</td>\n",
       "      <td>elite proxy</td>\n",
       "      <td>no</td>\n",
       "      <td>no</td>\n",
       "      <td>2 minutes ago</td>\n",
       "      <td>2.0</td>\n",
       "    </tr>\n",
       "    <tr>\n",
       "      <th>4</th>\n",
       "      <td>8.210.157.49</td>\n",
       "      <td>17309.0</td>\n",
       "      <td>HK</td>\n",
       "      <td>Hong Kong</td>\n",
       "      <td>anonymous</td>\n",
       "      <td>no</td>\n",
       "      <td>yes</td>\n",
       "      <td>2 minutes ago</td>\n",
       "      <td>2.0</td>\n",
       "    </tr>\n",
       "  </tbody>\n",
       "</table>\n",
       "</div>"
      ],
      "text/plain": [
       "        IP Address     Port Code        Country    Anonymity Google Https  \\\n",
       "0   216.75.113.182  39602.0   US  United States  elite proxy     no    no   \n",
       "1     176.9.233.90   8080.0   DE        Germany  elite proxy     no    no   \n",
       "2  221.125.138.189   8380.0   HK      Hong Kong    anonymous     no    no   \n",
       "3   186.233.96.246  23500.0   BR         Brazil  elite proxy     no    no   \n",
       "4     8.210.157.49  17309.0   HK      Hong Kong    anonymous     no   yes   \n",
       "\n",
       "    Last Checked  Minutes  \n",
       "0  2 minutes ago      2.0  \n",
       "1  2 minutes ago      2.0  \n",
       "2  2 minutes ago      2.0  \n",
       "3  2 minutes ago      2.0  \n",
       "4  2 minutes ago      2.0  "
      ]
     },
     "execution_count": 270,
     "metadata": {},
     "output_type": "execute_result"
    }
   ],
   "source": [
    "table1.head()"
   ]
  },
  {
   "cell_type": "code",
   "execution_count": 273,
   "id": "ccbbd5ef",
   "metadata": {},
   "outputs": [],
   "source": [
    "table1['Proxy'] = table1['IP Address'] + ':' + table1['Port'].astype(str)"
   ]
  },
  {
   "cell_type": "code",
   "execution_count": 274,
   "id": "7354fc6f",
   "metadata": {},
   "outputs": [
    {
     "data": {
      "text/html": [
       "<div>\n",
       "<style scoped>\n",
       "    .dataframe tbody tr th:only-of-type {\n",
       "        vertical-align: middle;\n",
       "    }\n",
       "\n",
       "    .dataframe tbody tr th {\n",
       "        vertical-align: top;\n",
       "    }\n",
       "\n",
       "    .dataframe thead th {\n",
       "        text-align: right;\n",
       "    }\n",
       "</style>\n",
       "<table border=\"1\" class=\"dataframe\">\n",
       "  <thead>\n",
       "    <tr style=\"text-align: right;\">\n",
       "      <th></th>\n",
       "      <th>IP Address</th>\n",
       "      <th>Port</th>\n",
       "      <th>Code</th>\n",
       "      <th>Country</th>\n",
       "      <th>Anonymity</th>\n",
       "      <th>Google</th>\n",
       "      <th>Https</th>\n",
       "      <th>Last Checked</th>\n",
       "      <th>Minutes</th>\n",
       "      <th>Proxy</th>\n",
       "    </tr>\n",
       "  </thead>\n",
       "  <tbody>\n",
       "    <tr>\n",
       "      <th>0</th>\n",
       "      <td>216.75.113.182</td>\n",
       "      <td>39602.0</td>\n",
       "      <td>US</td>\n",
       "      <td>United States</td>\n",
       "      <td>elite proxy</td>\n",
       "      <td>no</td>\n",
       "      <td>no</td>\n",
       "      <td>2 minutes ago</td>\n",
       "      <td>2.0</td>\n",
       "      <td>216.75.113.182:39602.0</td>\n",
       "    </tr>\n",
       "    <tr>\n",
       "      <th>1</th>\n",
       "      <td>176.9.233.90</td>\n",
       "      <td>8080.0</td>\n",
       "      <td>DE</td>\n",
       "      <td>Germany</td>\n",
       "      <td>elite proxy</td>\n",
       "      <td>no</td>\n",
       "      <td>no</td>\n",
       "      <td>2 minutes ago</td>\n",
       "      <td>2.0</td>\n",
       "      <td>176.9.233.90:8080.0</td>\n",
       "    </tr>\n",
       "    <tr>\n",
       "      <th>2</th>\n",
       "      <td>221.125.138.189</td>\n",
       "      <td>8380.0</td>\n",
       "      <td>HK</td>\n",
       "      <td>Hong Kong</td>\n",
       "      <td>anonymous</td>\n",
       "      <td>no</td>\n",
       "      <td>no</td>\n",
       "      <td>2 minutes ago</td>\n",
       "      <td>2.0</td>\n",
       "      <td>221.125.138.189:8380.0</td>\n",
       "    </tr>\n",
       "    <tr>\n",
       "      <th>3</th>\n",
       "      <td>186.233.96.246</td>\n",
       "      <td>23500.0</td>\n",
       "      <td>BR</td>\n",
       "      <td>Brazil</td>\n",
       "      <td>elite proxy</td>\n",
       "      <td>no</td>\n",
       "      <td>no</td>\n",
       "      <td>2 minutes ago</td>\n",
       "      <td>2.0</td>\n",
       "      <td>186.233.96.246:23500.0</td>\n",
       "    </tr>\n",
       "    <tr>\n",
       "      <th>4</th>\n",
       "      <td>8.210.157.49</td>\n",
       "      <td>17309.0</td>\n",
       "      <td>HK</td>\n",
       "      <td>Hong Kong</td>\n",
       "      <td>anonymous</td>\n",
       "      <td>no</td>\n",
       "      <td>yes</td>\n",
       "      <td>2 minutes ago</td>\n",
       "      <td>2.0</td>\n",
       "      <td>8.210.157.49:17309.0</td>\n",
       "    </tr>\n",
       "  </tbody>\n",
       "</table>\n",
       "</div>"
      ],
      "text/plain": [
       "        IP Address     Port Code        Country    Anonymity Google Https  \\\n",
       "0   216.75.113.182  39602.0   US  United States  elite proxy     no    no   \n",
       "1     176.9.233.90   8080.0   DE        Germany  elite proxy     no    no   \n",
       "2  221.125.138.189   8380.0   HK      Hong Kong    anonymous     no    no   \n",
       "3   186.233.96.246  23500.0   BR         Brazil  elite proxy     no    no   \n",
       "4     8.210.157.49  17309.0   HK      Hong Kong    anonymous     no   yes   \n",
       "\n",
       "    Last Checked  Minutes                   Proxy  \n",
       "0  2 minutes ago      2.0  216.75.113.182:39602.0  \n",
       "1  2 minutes ago      2.0     176.9.233.90:8080.0  \n",
       "2  2 minutes ago      2.0  221.125.138.189:8380.0  \n",
       "3  2 minutes ago      2.0  186.233.96.246:23500.0  \n",
       "4  2 minutes ago      2.0    8.210.157.49:17309.0  "
      ]
     },
     "execution_count": 274,
     "metadata": {},
     "output_type": "execute_result"
    }
   ],
   "source": [
    "table1.head()"
   ]
  },
  {
   "cell_type": "code",
   "execution_count": 279,
   "id": "94679e04",
   "metadata": {},
   "outputs": [
    {
     "data": {
      "text/plain": [
       "0    True\n",
       "1    True\n",
       "2    True\n",
       "3    True\n",
       "4    True\n",
       "Name: Minutes, dtype: bool"
      ]
     },
     "execution_count": 279,
     "metadata": {},
     "output_type": "execute_result"
    }
   ],
   "source": [
    "cond1 = table1['Minutes'] <= 10\n",
    "cond1.head()"
   ]
  },
  {
   "cell_type": "code",
   "execution_count": 281,
   "id": "f92817c7",
   "metadata": {},
   "outputs": [
    {
     "data": {
      "text/plain": [
       "0     True\n",
       "1     True\n",
       "2    False\n",
       "3     True\n",
       "4    False\n",
       "Name: Anonymity, dtype: bool"
      ]
     },
     "execution_count": 281,
     "metadata": {},
     "output_type": "execute_result"
    }
   ],
   "source": [
    "cond2 = table1['Anonymity'] == 'elite proxy'\n",
    "#ab = df['Anonymity'].str.contains(\"elite\")\n",
    "cond2.head()"
   ]
  },
  {
   "cell_type": "code",
   "execution_count": 285,
   "id": "adacc3b6",
   "metadata": {},
   "outputs": [
    {
     "data": {
      "text/html": [
       "<div>\n",
       "<style scoped>\n",
       "    .dataframe tbody tr th:only-of-type {\n",
       "        vertical-align: middle;\n",
       "    }\n",
       "\n",
       "    .dataframe tbody tr th {\n",
       "        vertical-align: top;\n",
       "    }\n",
       "\n",
       "    .dataframe thead th {\n",
       "        text-align: right;\n",
       "    }\n",
       "</style>\n",
       "<table border=\"1\" class=\"dataframe\">\n",
       "  <thead>\n",
       "    <tr style=\"text-align: right;\">\n",
       "      <th></th>\n",
       "      <th>IP Address</th>\n",
       "      <th>Port</th>\n",
       "      <th>Code</th>\n",
       "      <th>Country</th>\n",
       "      <th>Anonymity</th>\n",
       "      <th>Google</th>\n",
       "      <th>Https</th>\n",
       "      <th>Last Checked</th>\n",
       "      <th>Minutes</th>\n",
       "      <th>Proxy</th>\n",
       "    </tr>\n",
       "  </thead>\n",
       "  <tbody>\n",
       "    <tr>\n",
       "      <th>0</th>\n",
       "      <td>216.75.113.182</td>\n",
       "      <td>39602.0</td>\n",
       "      <td>US</td>\n",
       "      <td>United States</td>\n",
       "      <td>elite proxy</td>\n",
       "      <td>no</td>\n",
       "      <td>no</td>\n",
       "      <td>2 minutes ago</td>\n",
       "      <td>2.0</td>\n",
       "      <td>216.75.113.182:39602.0</td>\n",
       "    </tr>\n",
       "    <tr>\n",
       "      <th>1</th>\n",
       "      <td>176.9.233.90</td>\n",
       "      <td>8080.0</td>\n",
       "      <td>DE</td>\n",
       "      <td>Germany</td>\n",
       "      <td>elite proxy</td>\n",
       "      <td>no</td>\n",
       "      <td>no</td>\n",
       "      <td>2 minutes ago</td>\n",
       "      <td>2.0</td>\n",
       "      <td>176.9.233.90:8080.0</td>\n",
       "    </tr>\n",
       "    <tr>\n",
       "      <th>3</th>\n",
       "      <td>186.233.96.246</td>\n",
       "      <td>23500.0</td>\n",
       "      <td>BR</td>\n",
       "      <td>Brazil</td>\n",
       "      <td>elite proxy</td>\n",
       "      <td>no</td>\n",
       "      <td>no</td>\n",
       "      <td>2 minutes ago</td>\n",
       "      <td>2.0</td>\n",
       "      <td>186.233.96.246:23500.0</td>\n",
       "    </tr>\n",
       "    <tr>\n",
       "      <th>5</th>\n",
       "      <td>191.5.0.79</td>\n",
       "      <td>53281.0</td>\n",
       "      <td>BR</td>\n",
       "      <td>Brazil</td>\n",
       "      <td>elite proxy</td>\n",
       "      <td>no</td>\n",
       "      <td>no</td>\n",
       "      <td>2 minutes ago</td>\n",
       "      <td>2.0</td>\n",
       "      <td>191.5.0.79:53281.0</td>\n",
       "    </tr>\n",
       "    <tr>\n",
       "      <th>6</th>\n",
       "      <td>181.129.43.3</td>\n",
       "      <td>8080.0</td>\n",
       "      <td>CO</td>\n",
       "      <td>Colombia</td>\n",
       "      <td>elite proxy</td>\n",
       "      <td>no</td>\n",
       "      <td>no</td>\n",
       "      <td>2 minutes ago</td>\n",
       "      <td>2.0</td>\n",
       "      <td>181.129.43.3:8080.0</td>\n",
       "    </tr>\n",
       "    <tr>\n",
       "      <th>...</th>\n",
       "      <td>...</td>\n",
       "      <td>...</td>\n",
       "      <td>...</td>\n",
       "      <td>...</td>\n",
       "      <td>...</td>\n",
       "      <td>...</td>\n",
       "      <td>...</td>\n",
       "      <td>...</td>\n",
       "      <td>...</td>\n",
       "      <td>...</td>\n",
       "    </tr>\n",
       "    <tr>\n",
       "      <th>91</th>\n",
       "      <td>177.125.169.6</td>\n",
       "      <td>55443.0</td>\n",
       "      <td>BR</td>\n",
       "      <td>Brazil</td>\n",
       "      <td>elite proxy</td>\n",
       "      <td>no</td>\n",
       "      <td>yes</td>\n",
       "      <td>4 minutes ago</td>\n",
       "      <td>4.0</td>\n",
       "      <td>177.125.169.6:55443.0</td>\n",
       "    </tr>\n",
       "    <tr>\n",
       "      <th>93</th>\n",
       "      <td>180.250.65.83</td>\n",
       "      <td>8080.0</td>\n",
       "      <td>ID</td>\n",
       "      <td>Indonesia</td>\n",
       "      <td>elite proxy</td>\n",
       "      <td>no</td>\n",
       "      <td>yes</td>\n",
       "      <td>4 minutes ago</td>\n",
       "      <td>4.0</td>\n",
       "      <td>180.250.65.83:8080.0</td>\n",
       "    </tr>\n",
       "    <tr>\n",
       "      <th>94</th>\n",
       "      <td>190.140.31.22</td>\n",
       "      <td>55866.0</td>\n",
       "      <td>PA</td>\n",
       "      <td>Panama</td>\n",
       "      <td>elite proxy</td>\n",
       "      <td>no</td>\n",
       "      <td>yes</td>\n",
       "      <td>4 minutes ago</td>\n",
       "      <td>4.0</td>\n",
       "      <td>190.140.31.22:55866.0</td>\n",
       "    </tr>\n",
       "    <tr>\n",
       "      <th>95</th>\n",
       "      <td>193.110.115.220</td>\n",
       "      <td>3128.0</td>\n",
       "      <td>UA</td>\n",
       "      <td>Ukraine</td>\n",
       "      <td>elite proxy</td>\n",
       "      <td>no</td>\n",
       "      <td>yes</td>\n",
       "      <td>4 minutes ago</td>\n",
       "      <td>4.0</td>\n",
       "      <td>193.110.115.220:3128.0</td>\n",
       "    </tr>\n",
       "    <tr>\n",
       "      <th>209</th>\n",
       "      <td>119.81.189.194</td>\n",
       "      <td>80.0</td>\n",
       "      <td>HK</td>\n",
       "      <td>Hong Kong</td>\n",
       "      <td>elite proxy</td>\n",
       "      <td>no</td>\n",
       "      <td>yes</td>\n",
       "      <td>5 minutes ago</td>\n",
       "      <td>5.0</td>\n",
       "      <td>119.81.189.194:80.0</td>\n",
       "    </tr>\n",
       "  </tbody>\n",
       "</table>\n",
       "<p>62 rows × 10 columns</p>\n",
       "</div>"
      ],
      "text/plain": [
       "          IP Address     Port Code        Country    Anonymity Google Https  \\\n",
       "0     216.75.113.182  39602.0   US  United States  elite proxy     no    no   \n",
       "1       176.9.233.90   8080.0   DE        Germany  elite proxy     no    no   \n",
       "3     186.233.96.246  23500.0   BR         Brazil  elite proxy     no    no   \n",
       "5         191.5.0.79  53281.0   BR         Brazil  elite proxy     no    no   \n",
       "6       181.129.43.3   8080.0   CO       Colombia  elite proxy     no    no   \n",
       "..               ...      ...  ...            ...          ...    ...   ...   \n",
       "91     177.125.169.6  55443.0   BR         Brazil  elite proxy     no   yes   \n",
       "93     180.250.65.83   8080.0   ID      Indonesia  elite proxy     no   yes   \n",
       "94     190.140.31.22  55866.0   PA         Panama  elite proxy     no   yes   \n",
       "95   193.110.115.220   3128.0   UA        Ukraine  elite proxy     no   yes   \n",
       "209   119.81.189.194     80.0   HK      Hong Kong  elite proxy     no   yes   \n",
       "\n",
       "      Last Checked  Minutes                   Proxy  \n",
       "0    2 minutes ago      2.0  216.75.113.182:39602.0  \n",
       "1    2 minutes ago      2.0     176.9.233.90:8080.0  \n",
       "3    2 minutes ago      2.0  186.233.96.246:23500.0  \n",
       "5    2 minutes ago      2.0      191.5.0.79:53281.0  \n",
       "6    2 minutes ago      2.0     181.129.43.3:8080.0  \n",
       "..             ...      ...                     ...  \n",
       "91   4 minutes ago      4.0   177.125.169.6:55443.0  \n",
       "93   4 minutes ago      4.0    180.250.65.83:8080.0  \n",
       "94   4 minutes ago      4.0   190.140.31.22:55866.0  \n",
       "95   4 minutes ago      4.0  193.110.115.220:3128.0  \n",
       "209  5 minutes ago      5.0     119.81.189.194:80.0  \n",
       "\n",
       "[62 rows x 10 columns]"
      ]
     },
     "execution_count": 285,
     "metadata": {},
     "output_type": "execute_result"
    }
   ],
   "source": [
    "filter_table = table1[cond1 & cond2]\n",
    "filter_table"
   ]
  },
  {
   "cell_type": "code",
   "execution_count": 286,
   "id": "a41ec7ec",
   "metadata": {},
   "outputs": [],
   "source": [
    "list_proxies = filter_table['Proxy']"
   ]
  },
  {
   "cell_type": "code",
   "execution_count": 287,
   "id": "a26affd3",
   "metadata": {},
   "outputs": [
    {
     "name": "stdout",
     "output_type": "stream",
     "text": [
      "0      216.75.113.182:39602.0\n",
      "1         176.9.233.90:8080.0\n",
      "3      186.233.96.246:23500.0\n",
      "5          191.5.0.79:53281.0\n",
      "6         181.129.43.3:8080.0\n",
      "                ...          \n",
      "91      177.125.169.6:55443.0\n",
      "93       180.250.65.83:8080.0\n",
      "94      190.140.31.22:55866.0\n",
      "95     193.110.115.220:3128.0\n",
      "209       119.81.189.194:80.0\n",
      "Name: Proxy, Length: 62, dtype: object\n"
     ]
    }
   ],
   "source": [
    "print(list_proxies)"
   ]
  },
  {
   "cell_type": "code",
   "execution_count": 291,
   "id": "2ceccd9e",
   "metadata": {},
   "outputs": [],
   "source": [
    "proxies = list_proxies.values.tolist()"
   ]
  },
  {
   "cell_type": "code",
   "execution_count": 290,
   "id": "2375eeb1",
   "metadata": {},
   "outputs": [
    {
     "name": "stdout",
     "output_type": "stream",
     "text": [
      "Note: you may need to restart the kernel to use updated packages.Collecting scrapy-rotating-proxies\n",
      "\n",
      "  Downloading scrapy_rotating_proxies-0.6.2-py2.py3-none-any.whl (15 kB)\n",
      "Requirement already satisfied: six in c:\\users\\andrey\\anaconda3\\lib\\site-packages (from scrapy-rotating-proxies) (1.15.0)\n",
      "Requirement already satisfied: attrs>16.0.0 in c:\\users\\andrey\\anaconda3\\lib\\site-packages (from scrapy-rotating-proxies) (20.3.0)\n",
      "Collecting typing\n",
      "  Downloading typing-3.7.4.3.tar.gz (78 kB)\n",
      "Building wheels for collected packages: typing\n",
      "  Building wheel for typing (setup.py): started\n",
      "  Building wheel for typing (setup.py): finished with status 'done'\n",
      "  Created wheel for typing: filename=typing-3.7.4.3-py3-none-any.whl size=26308 sha256=82be4cebcbe04df3c7272b16a9966964e304d162f4e0d3034f6fd5f9b7c786c3\n",
      "  Stored in directory: c:\\users\\andrey\\appdata\\local\\pip\\cache\\wheels\\5e\\5d\\01\\3083e091b57809dad979ea543def62d9d878950e3e74f0c930\n",
      "Successfully built typing\n",
      "Installing collected packages: typing, scrapy-rotating-proxies\n",
      "Successfully installed scrapy-rotating-proxies-0.6.2 typing-3.7.4.3\n"
     ]
    }
   ],
   "source": [
    "#pip install scrapy-rotating-proxies"
   ]
  },
  {
   "cell_type": "code",
   "execution_count": 302,
   "id": "578096bb",
   "metadata": {},
   "outputs": [
    {
     "name": "stdout",
     "output_type": "stream",
     "text": [
      "51.222.21.93:32768.0\n"
     ]
    }
   ],
   "source": [
    "\"\"\"Poderiamos fazer o loop de proxies de forma ordenada na lista, porém dependendo do nível de segurança do servidor \n",
    "onde iremos acessar, ele poderia detectar algum tipo de padrão de sequência de IPs tentando conectar, neste caso\n",
    "escolho um proxy aleatoriamente\"\"\"\n",
    "\n",
    "proxy_now = random.choice(proxies)\n",
    "print(proxy_now)"
   ]
  },
  {
   "cell_type": "code",
   "execution_count": 305,
   "id": "daf34101",
   "metadata": {},
   "outputs": [
    {
     "ename": "AttributeError",
     "evalue": "'str' object has no attribute 'get'",
     "output_type": "error",
     "traceback": [
      "\u001b[1;31m---------------------------------------------------------------------------\u001b[0m",
      "\u001b[1;31mAttributeError\u001b[0m                            Traceback (most recent call last)",
      "\u001b[1;32m<ipython-input-305-fb4e98c1f4c1>\u001b[0m in \u001b[0;36m<module>\u001b[1;34m\u001b[0m\n\u001b[0;32m      1\u001b[0m \u001b[0murl\u001b[0m \u001b[1;33m=\u001b[0m \u001b[1;34m'https://httpbin.org/ip'\u001b[0m\u001b[1;33m\u001b[0m\u001b[1;33m\u001b[0m\u001b[0m\n\u001b[1;32m----> 2\u001b[1;33m \u001b[0mresponse\u001b[0m \u001b[1;33m=\u001b[0m \u001b[0mrequests\u001b[0m\u001b[1;33m.\u001b[0m\u001b[0mget\u001b[0m\u001b[1;33m(\u001b[0m\u001b[0murl\u001b[0m\u001b[1;33m,\u001b[0m\u001b[0mproxies\u001b[0m\u001b[1;33m=\u001b[0m\u001b[0mproxy_now\u001b[0m\u001b[1;33m)\u001b[0m\u001b[1;33m\u001b[0m\u001b[1;33m\u001b[0m\u001b[0m\n\u001b[0m\u001b[0;32m      3\u001b[0m \u001b[0mprint\u001b[0m\u001b[1;33m(\u001b[0m\u001b[0mresponse\u001b[0m\u001b[1;33m.\u001b[0m\u001b[0mjson\u001b[0m\u001b[1;33m(\u001b[0m\u001b[1;33m)\u001b[0m\u001b[1;33m)\u001b[0m\u001b[1;33m\u001b[0m\u001b[1;33m\u001b[0m\u001b[0m\n",
      "\u001b[1;32m~\\anaconda3\\lib\\site-packages\\requests\\api.py\u001b[0m in \u001b[0;36mget\u001b[1;34m(url, params, **kwargs)\u001b[0m\n\u001b[0;32m     74\u001b[0m \u001b[1;33m\u001b[0m\u001b[0m\n\u001b[0;32m     75\u001b[0m     \u001b[0mkwargs\u001b[0m\u001b[1;33m.\u001b[0m\u001b[0msetdefault\u001b[0m\u001b[1;33m(\u001b[0m\u001b[1;34m'allow_redirects'\u001b[0m\u001b[1;33m,\u001b[0m \u001b[1;32mTrue\u001b[0m\u001b[1;33m)\u001b[0m\u001b[1;33m\u001b[0m\u001b[1;33m\u001b[0m\u001b[0m\n\u001b[1;32m---> 76\u001b[1;33m     \u001b[1;32mreturn\u001b[0m \u001b[0mrequest\u001b[0m\u001b[1;33m(\u001b[0m\u001b[1;34m'get'\u001b[0m\u001b[1;33m,\u001b[0m \u001b[0murl\u001b[0m\u001b[1;33m,\u001b[0m \u001b[0mparams\u001b[0m\u001b[1;33m=\u001b[0m\u001b[0mparams\u001b[0m\u001b[1;33m,\u001b[0m \u001b[1;33m**\u001b[0m\u001b[0mkwargs\u001b[0m\u001b[1;33m)\u001b[0m\u001b[1;33m\u001b[0m\u001b[1;33m\u001b[0m\u001b[0m\n\u001b[0m\u001b[0;32m     77\u001b[0m \u001b[1;33m\u001b[0m\u001b[0m\n\u001b[0;32m     78\u001b[0m \u001b[1;33m\u001b[0m\u001b[0m\n",
      "\u001b[1;32m~\\anaconda3\\lib\\site-packages\\requests\\api.py\u001b[0m in \u001b[0;36mrequest\u001b[1;34m(method, url, **kwargs)\u001b[0m\n\u001b[0;32m     59\u001b[0m     \u001b[1;31m# cases, and look like a memory leak in others.\u001b[0m\u001b[1;33m\u001b[0m\u001b[1;33m\u001b[0m\u001b[1;33m\u001b[0m\u001b[0m\n\u001b[0;32m     60\u001b[0m     \u001b[1;32mwith\u001b[0m \u001b[0msessions\u001b[0m\u001b[1;33m.\u001b[0m\u001b[0mSession\u001b[0m\u001b[1;33m(\u001b[0m\u001b[1;33m)\u001b[0m \u001b[1;32mas\u001b[0m \u001b[0msession\u001b[0m\u001b[1;33m:\u001b[0m\u001b[1;33m\u001b[0m\u001b[1;33m\u001b[0m\u001b[0m\n\u001b[1;32m---> 61\u001b[1;33m         \u001b[1;32mreturn\u001b[0m \u001b[0msession\u001b[0m\u001b[1;33m.\u001b[0m\u001b[0mrequest\u001b[0m\u001b[1;33m(\u001b[0m\u001b[0mmethod\u001b[0m\u001b[1;33m=\u001b[0m\u001b[0mmethod\u001b[0m\u001b[1;33m,\u001b[0m \u001b[0murl\u001b[0m\u001b[1;33m=\u001b[0m\u001b[0murl\u001b[0m\u001b[1;33m,\u001b[0m \u001b[1;33m**\u001b[0m\u001b[0mkwargs\u001b[0m\u001b[1;33m)\u001b[0m\u001b[1;33m\u001b[0m\u001b[1;33m\u001b[0m\u001b[0m\n\u001b[0m\u001b[0;32m     62\u001b[0m \u001b[1;33m\u001b[0m\u001b[0m\n\u001b[0;32m     63\u001b[0m \u001b[1;33m\u001b[0m\u001b[0m\n",
      "\u001b[1;32m~\\anaconda3\\lib\\site-packages\\requests\\sessions.py\u001b[0m in \u001b[0;36mrequest\u001b[1;34m(self, method, url, params, data, headers, cookies, files, auth, timeout, allow_redirects, proxies, hooks, stream, verify, cert, json)\u001b[0m\n\u001b[0;32m    530\u001b[0m         \u001b[0mproxies\u001b[0m \u001b[1;33m=\u001b[0m \u001b[0mproxies\u001b[0m \u001b[1;32mor\u001b[0m \u001b[1;33m{\u001b[0m\u001b[1;33m}\u001b[0m\u001b[1;33m\u001b[0m\u001b[1;33m\u001b[0m\u001b[0m\n\u001b[0;32m    531\u001b[0m \u001b[1;33m\u001b[0m\u001b[0m\n\u001b[1;32m--> 532\u001b[1;33m         settings = self.merge_environment_settings(\n\u001b[0m\u001b[0;32m    533\u001b[0m             \u001b[0mprep\u001b[0m\u001b[1;33m.\u001b[0m\u001b[0murl\u001b[0m\u001b[1;33m,\u001b[0m \u001b[0mproxies\u001b[0m\u001b[1;33m,\u001b[0m \u001b[0mstream\u001b[0m\u001b[1;33m,\u001b[0m \u001b[0mverify\u001b[0m\u001b[1;33m,\u001b[0m \u001b[0mcert\u001b[0m\u001b[1;33m\u001b[0m\u001b[1;33m\u001b[0m\u001b[0m\n\u001b[0;32m    534\u001b[0m         )\n",
      "\u001b[1;32m~\\anaconda3\\lib\\site-packages\\requests\\sessions.py\u001b[0m in \u001b[0;36mmerge_environment_settings\u001b[1;34m(self, url, proxies, stream, verify, cert)\u001b[0m\n\u001b[0;32m    708\u001b[0m         \u001b[1;32mif\u001b[0m \u001b[0mself\u001b[0m\u001b[1;33m.\u001b[0m\u001b[0mtrust_env\u001b[0m\u001b[1;33m:\u001b[0m\u001b[1;33m\u001b[0m\u001b[1;33m\u001b[0m\u001b[0m\n\u001b[0;32m    709\u001b[0m             \u001b[1;31m# Set environment's proxies.\u001b[0m\u001b[1;33m\u001b[0m\u001b[1;33m\u001b[0m\u001b[1;33m\u001b[0m\u001b[0m\n\u001b[1;32m--> 710\u001b[1;33m             \u001b[0mno_proxy\u001b[0m \u001b[1;33m=\u001b[0m \u001b[0mproxies\u001b[0m\u001b[1;33m.\u001b[0m\u001b[0mget\u001b[0m\u001b[1;33m(\u001b[0m\u001b[1;34m'no_proxy'\u001b[0m\u001b[1;33m)\u001b[0m \u001b[1;32mif\u001b[0m \u001b[0mproxies\u001b[0m \u001b[1;32mis\u001b[0m \u001b[1;32mnot\u001b[0m \u001b[1;32mNone\u001b[0m \u001b[1;32melse\u001b[0m \u001b[1;32mNone\u001b[0m\u001b[1;33m\u001b[0m\u001b[1;33m\u001b[0m\u001b[0m\n\u001b[0m\u001b[0;32m    711\u001b[0m             \u001b[0menv_proxies\u001b[0m \u001b[1;33m=\u001b[0m \u001b[0mget_environ_proxies\u001b[0m\u001b[1;33m(\u001b[0m\u001b[0murl\u001b[0m\u001b[1;33m,\u001b[0m \u001b[0mno_proxy\u001b[0m\u001b[1;33m=\u001b[0m\u001b[0mno_proxy\u001b[0m\u001b[1;33m)\u001b[0m\u001b[1;33m\u001b[0m\u001b[1;33m\u001b[0m\u001b[0m\n\u001b[0;32m    712\u001b[0m             \u001b[1;32mfor\u001b[0m \u001b[1;33m(\u001b[0m\u001b[0mk\u001b[0m\u001b[1;33m,\u001b[0m \u001b[0mv\u001b[0m\u001b[1;33m)\u001b[0m \u001b[1;32min\u001b[0m \u001b[0menv_proxies\u001b[0m\u001b[1;33m.\u001b[0m\u001b[0mitems\u001b[0m\u001b[1;33m(\u001b[0m\u001b[1;33m)\u001b[0m\u001b[1;33m:\u001b[0m\u001b[1;33m\u001b[0m\u001b[1;33m\u001b[0m\u001b[0m\n",
      "\u001b[1;31mAttributeError\u001b[0m: 'str' object has no attribute 'get'"
     ]
    }
   ],
   "source": [
    "url = 'https://httpbin.org/ip'\n",
    "response = requests.get(url,proxies=proxy_now)\n",
    "print(response.json())"
   ]
  },
  {
   "cell_type": "code",
   "execution_count": null,
   "id": "154fd5be",
   "metadata": {},
   "outputs": [],
   "source": []
  }
 ],
 "metadata": {
  "kernelspec": {
   "display_name": "Python 3",
   "language": "python",
   "name": "python3"
  },
  "language_info": {
   "codemirror_mode": {
    "name": "ipython",
    "version": 3
   },
   "file_extension": ".py",
   "mimetype": "text/x-python",
   "name": "python",
   "nbconvert_exporter": "python",
   "pygments_lexer": "ipython3",
   "version": "3.8.8"
  }
 },
 "nbformat": 4,
 "nbformat_minor": 5
}
