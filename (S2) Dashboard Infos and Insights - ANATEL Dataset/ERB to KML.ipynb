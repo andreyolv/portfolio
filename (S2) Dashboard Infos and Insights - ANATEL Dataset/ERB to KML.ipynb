{
 "cells": [
  {
   "cell_type": "markdown",
   "id": "e4cda532",
   "metadata": {
    "toc": true
   },
   "source": [
    "<h1>Data Science Pipeline Project - Andrey Olv<span class=\"tocSkip\"></span></h1>\n",
    "<div class=\"toc\"><ul class=\"toc-item\"><li><span><a href=\"#Convertendo\" data-toc-modified-id=\"Convertendo-1\"><span class=\"toc-item-num\">1&nbsp;&nbsp;</span>Convertendo</a></span></li></ul></div>"
   ]
  },
  {
   "cell_type": "markdown",
   "id": "efad6591",
   "metadata": {},
   "source": [
    "# Convertendo"
   ]
  },
  {
   "cell_type": "markdown",
   "id": "f5f019d7",
   "metadata": {},
   "source": [
    "https://servicodados.ibge.gov.br/api/docs/localidades?versao=1\n",
    "\n",
    "https://www.ibge.gov.br/geociencias/organizacao-do-territorio/estrutura-territorial/15761-areas-dos-municipios.html?=&t=downloads\n",
    "\n",
    "https://dados.gov.br/dataset/estacoes-licenciadas-a-operar-no-servico-movel-pessoal\n",
    "\n",
    "https://dados.gov.br/dataset/estacoes-licenciadas-a-operar-no-servico-movel-pessoal/resource/b759bfe5-d820-48b0-88b8-7d191862225c"
   ]
  },
  {
   "cell_type": "code",
   "execution_count": 1,
   "id": "0d89223d",
   "metadata": {},
   "outputs": [],
   "source": [
    "# pip install simplekml"
   ]
  },
  {
   "cell_type": "code",
   "execution_count": 2,
   "id": "871f468a",
   "metadata": {},
   "outputs": [],
   "source": [
    "import pandas as pd\n",
    "import simplekml"
   ]
  },
  {
   "cell_type": "markdown",
   "id": "65820fff",
   "metadata": {},
   "source": [
    "Sem definir o encondig, as palavras com acentos não apareciam, ficava bugado. Com o encondig Latino, este problema foi resolvido. Sem definir o separador também estava dando erro. Defini o número de linhas pois a planilha é muito grande."
   ]
  },
  {
   "cell_type": "code",
   "execution_count": 3,
   "id": "b1f8ba8e",
   "metadata": {},
   "outputs": [],
   "source": [
    "df = pd.read_csv(\"Estacoes_Licenciadas_SMP.csv\", sep=';', nrows = 10000, encoding='ISO-8859-1')"
   ]
  },
  {
   "cell_type": "markdown",
   "id": "c3d24c05",
   "metadata": {},
   "source": [
    "Visualizando os dados importados"
   ]
  },
  {
   "cell_type": "code",
   "execution_count": 4,
   "id": "84e245ad",
   "metadata": {},
   "outputs": [
    {
     "data": {
      "text/plain": [
       "(10000, 15)"
      ]
     },
     "execution_count": 4,
     "metadata": {},
     "output_type": "execute_result"
    }
   ],
   "source": [
    "df.head(50)\n",
    "df.shape\n",
    "# df.dtypes"
   ]
  },
  {
   "cell_type": "code",
   "execution_count": 5,
   "id": "68df95c7",
   "metadata": {},
   "outputs": [
    {
     "data": {
      "text/plain": [
       "Prestadora                                                        NaN\n",
       "CNPJ                                                    2421421000111\n",
       "Número da Estação                                              281727\n",
       "Tipo da Estação                                                    FB\n",
       "UF                                                                 AL\n",
       "Código da UF                                                       27\n",
       "Município                                                      Maceió\n",
       "Código do Município                                           2704302\n",
       "Logradouro                  Avenida Doutor Julio Cezar Mendonca Uchoa\n",
       "Latitude                                                            *\n",
       "Longitude                                                           *\n",
       "Frequência Inicial (MHz)                                       2135.0\n",
       "Frequência Final (MHz)                                         2125.0\n",
       "Azimute                                                          70.0\n",
       "Emissão                                                       5M00G9W\n",
       "Name: 2177, dtype: object"
      ]
     },
     "execution_count": 5,
     "metadata": {},
     "output_type": "execute_result"
    }
   ],
   "source": [
    "df.iloc[2177]"
   ]
  },
  {
   "cell_type": "code",
   "execution_count": 6,
   "id": "5d236740",
   "metadata": {},
   "outputs": [],
   "source": [
    "df.drop(df[df['Latitude'] == '*'].index, inplace=True)"
   ]
  },
  {
   "cell_type": "code",
   "execution_count": 7,
   "id": "ba1c4e48",
   "metadata": {},
   "outputs": [
    {
     "data": {
      "text/plain": [
       "(9857, 15)"
      ]
     },
     "execution_count": 7,
     "metadata": {},
     "output_type": "execute_result"
    }
   ],
   "source": [
    "df.shape"
   ]
  },
  {
   "cell_type": "code",
   "execution_count": 8,
   "id": "9bc445aa",
   "metadata": {},
   "outputs": [
    {
     "data": {
      "text/plain": [
       "Prestadora                   object\n",
       "CNPJ                          int64\n",
       "Número da Estação             int64\n",
       "Tipo da Estação              object\n",
       "UF                           object\n",
       "Código da UF                  int64\n",
       "Município                    object\n",
       "Código do Município           int64\n",
       "Logradouro                   object\n",
       "Latitude                     object\n",
       "Longitude                    object\n",
       "Frequência Inicial (MHz)    float64\n",
       "Frequência Final (MHz)      float64\n",
       "Azimute                     float64\n",
       "Emissão                      object\n",
       "dtype: object"
      ]
     },
     "execution_count": 8,
     "metadata": {},
     "output_type": "execute_result"
    }
   ],
   "source": [
    "df.dtypes"
   ]
  },
  {
   "cell_type": "code",
   "execution_count": 9,
   "id": "051500fa",
   "metadata": {},
   "outputs": [],
   "source": [
    "df['Latitude'] = pd.to_numeric(df['Latitude'])\n",
    "df['Longitude'] = pd.to_numeric(df['Longitude'])"
   ]
  },
  {
   "cell_type": "code",
   "execution_count": 10,
   "id": "ad923ade",
   "metadata": {},
   "outputs": [
    {
     "data": {
      "text/plain": [
       "Prestadora                   object\n",
       "CNPJ                          int64\n",
       "Número da Estação             int64\n",
       "Tipo da Estação              object\n",
       "UF                           object\n",
       "Código da UF                  int64\n",
       "Município                    object\n",
       "Código do Município           int64\n",
       "Logradouro                   object\n",
       "Latitude                    float64\n",
       "Longitude                   float64\n",
       "Frequência Inicial (MHz)    float64\n",
       "Frequência Final (MHz)      float64\n",
       "Azimute                     float64\n",
       "Emissão                      object\n",
       "dtype: object"
      ]
     },
     "execution_count": 10,
     "metadata": {},
     "output_type": "execute_result"
    }
   ],
   "source": [
    "df.dtypes"
   ]
  },
  {
   "cell_type": "markdown",
   "id": "f2deba1d",
   "metadata": {},
   "source": [
    "Eliminando as linhas com número de estação duplicada."
   ]
  },
  {
   "cell_type": "code",
   "execution_count": 11,
   "id": "40935045",
   "metadata": {},
   "outputs": [
    {
     "data": {
      "text/html": [
       "<div>\n",
       "<style scoped>\n",
       "    .dataframe tbody tr th:only-of-type {\n",
       "        vertical-align: middle;\n",
       "    }\n",
       "\n",
       "    .dataframe tbody tr th {\n",
       "        vertical-align: top;\n",
       "    }\n",
       "\n",
       "    .dataframe thead th {\n",
       "        text-align: right;\n",
       "    }\n",
       "</style>\n",
       "<table border=\"1\" class=\"dataframe\">\n",
       "  <thead>\n",
       "    <tr style=\"text-align: right;\">\n",
       "      <th></th>\n",
       "      <th>Prestadora</th>\n",
       "      <th>CNPJ</th>\n",
       "      <th>Número da Estação</th>\n",
       "      <th>Tipo da Estação</th>\n",
       "      <th>UF</th>\n",
       "      <th>Código da UF</th>\n",
       "      <th>Município</th>\n",
       "      <th>Código do Município</th>\n",
       "      <th>Logradouro</th>\n",
       "      <th>Latitude</th>\n",
       "      <th>Longitude</th>\n",
       "      <th>Frequência Inicial (MHz)</th>\n",
       "      <th>Frequência Final (MHz)</th>\n",
       "      <th>Azimute</th>\n",
       "      <th>Emissão</th>\n",
       "    </tr>\n",
       "  </thead>\n",
       "  <tbody>\n",
       "    <tr>\n",
       "      <th>0</th>\n",
       "      <td>TIM S/A</td>\n",
       "      <td>2421421000111</td>\n",
       "      <td>1058</td>\n",
       "      <td>FB</td>\n",
       "      <td>AL</td>\n",
       "      <td>27</td>\n",
       "      <td>Flexeiras</td>\n",
       "      <td>2702801</td>\n",
       "      <td>RODOVIA BR 101 NORTE 0 MORRO CORTE NOVO</td>\n",
       "      <td>-9.241111</td>\n",
       "      <td>-35.779472</td>\n",
       "      <td>869.0</td>\n",
       "      <td>880.0</td>\n",
       "      <td>200.0</td>\n",
       "      <td>5M00G7W</td>\n",
       "    </tr>\n",
       "    <tr>\n",
       "      <th>15</th>\n",
       "      <td>TIM S/A</td>\n",
       "      <td>2421421000111</td>\n",
       "      <td>2119</td>\n",
       "      <td>FB</td>\n",
       "      <td>AL</td>\n",
       "      <td>27</td>\n",
       "      <td>Maceió</td>\n",
       "      <td>2704302</td>\n",
       "      <td>RUA SAO FRANCISCO DE ASSIS,1000,JATIUCA</td>\n",
       "      <td>-9.654881</td>\n",
       "      <td>-35.712517</td>\n",
       "      <td>2125.0</td>\n",
       "      <td>2135.0</td>\n",
       "      <td>35.0</td>\n",
       "      <td>5M00G9W</td>\n",
       "    </tr>\n",
       "    <tr>\n",
       "      <th>46</th>\n",
       "      <td>TELEFÔNICA BRASIL S.A.</td>\n",
       "      <td>2558157000162</td>\n",
       "      <td>3549</td>\n",
       "      <td>FB</td>\n",
       "      <td>RS</td>\n",
       "      <td>43</td>\n",
       "      <td>Vacaria</td>\n",
       "      <td>4322509</td>\n",
       "      <td>Av. Julio de Castilhos, ,925,Centro</td>\n",
       "      <td>-28.505547</td>\n",
       "      <td>-50.935831</td>\n",
       "      <td>2155.0</td>\n",
       "      <td>2165.0</td>\n",
       "      <td>160.0</td>\n",
       "      <td>5M00D7W</td>\n",
       "    </tr>\n",
       "    <tr>\n",
       "      <th>80</th>\n",
       "      <td>TELEFÔNICA BRASIL S.A.</td>\n",
       "      <td>2558157000162</td>\n",
       "      <td>3565</td>\n",
       "      <td>FB</td>\n",
       "      <td>RS</td>\n",
       "      <td>43</td>\n",
       "      <td>Rio Grande</td>\n",
       "      <td>4315602</td>\n",
       "      <td>Rua Duque de Caxias,298,Centro</td>\n",
       "      <td>-32.033972</td>\n",
       "      <td>-52.097122</td>\n",
       "      <td>2155.0</td>\n",
       "      <td>2165.0</td>\n",
       "      <td>0.0</td>\n",
       "      <td>5M00G9W</td>\n",
       "    </tr>\n",
       "    <tr>\n",
       "      <th>112</th>\n",
       "      <td>TELEFÔNICA BRASIL S.A.</td>\n",
       "      <td>2558157000162</td>\n",
       "      <td>3620</td>\n",
       "      <td>FB</td>\n",
       "      <td>RS</td>\n",
       "      <td>43</td>\n",
       "      <td>Bagé</td>\n",
       "      <td>4301602</td>\n",
       "      <td>Rua General Osorio,1.724,Centro</td>\n",
       "      <td>-31.320911</td>\n",
       "      <td>-54.109086</td>\n",
       "      <td>1850.0</td>\n",
       "      <td>1860.0</td>\n",
       "      <td>70.0</td>\n",
       "      <td>200KG7W</td>\n",
       "    </tr>\n",
       "    <tr>\n",
       "      <th>...</th>\n",
       "      <td>...</td>\n",
       "      <td>...</td>\n",
       "      <td>...</td>\n",
       "      <td>...</td>\n",
       "      <td>...</td>\n",
       "      <td>...</td>\n",
       "      <td>...</td>\n",
       "      <td>...</td>\n",
       "      <td>...</td>\n",
       "      <td>...</td>\n",
       "      <td>...</td>\n",
       "      <td>...</td>\n",
       "      <td>...</td>\n",
       "      <td>...</td>\n",
       "      <td>...</td>\n",
       "    </tr>\n",
       "    <tr>\n",
       "      <th>9939</th>\n",
       "      <td>AMAZONIA CELULAR S/A</td>\n",
       "      <td>2340278000133</td>\n",
       "      <td>1072099</td>\n",
       "      <td>FB</td>\n",
       "      <td>PA</td>\n",
       "      <td>15</td>\n",
       "      <td>Ananindeua</td>\n",
       "      <td>1500800</td>\n",
       "      <td>RODOVIA DO COQUEIRO, S/N                      ...</td>\n",
       "      <td>-1.384722</td>\n",
       "      <td>-48.410000</td>\n",
       "      <td>890.0</td>\n",
       "      <td>891.5</td>\n",
       "      <td>555.5</td>\n",
       "      <td>40K0F1D</td>\n",
       "    </tr>\n",
       "    <tr>\n",
       "      <th>9943</th>\n",
       "      <td>TIM S/A</td>\n",
       "      <td>2421421000111</td>\n",
       "      <td>1072595</td>\n",
       "      <td>FB</td>\n",
       "      <td>AL</td>\n",
       "      <td>27</td>\n",
       "      <td>Maceió</td>\n",
       "      <td>2704302</td>\n",
       "      <td>AV FERNANDES LIMA,3700             ,.,GRUTA DE...</td>\n",
       "      <td>-9.613889</td>\n",
       "      <td>-35.738056</td>\n",
       "      <td>869.0</td>\n",
       "      <td>880.0</td>\n",
       "      <td>999.9</td>\n",
       "      <td>40K0G3E</td>\n",
       "    </tr>\n",
       "    <tr>\n",
       "      <th>9947</th>\n",
       "      <td>TELEFÔNICA BRASIL S.A.</td>\n",
       "      <td>2558157000162</td>\n",
       "      <td>1080687</td>\n",
       "      <td>FB</td>\n",
       "      <td>MG</td>\n",
       "      <td>31</td>\n",
       "      <td>São Lourenço</td>\n",
       "      <td>3163706</td>\n",
       "      <td>RUA 1 DE ABRIL ,S/N,CENTRO</td>\n",
       "      <td>-22.119722</td>\n",
       "      <td>-45.054722</td>\n",
       "      <td>2155.0</td>\n",
       "      <td>2165.0</td>\n",
       "      <td>340.0</td>\n",
       "      <td>5M00G9W</td>\n",
       "    </tr>\n",
       "    <tr>\n",
       "      <th>9971</th>\n",
       "      <td>TELEFÔNICA BRASIL S.A.</td>\n",
       "      <td>2558157000162</td>\n",
       "      <td>1081551</td>\n",
       "      <td>FB</td>\n",
       "      <td>MG</td>\n",
       "      <td>31</td>\n",
       "      <td>Leopoldina</td>\n",
       "      <td>3138401</td>\n",
       "      <td>MORRO DO CRUZEIRO,S/N,ZONA RURAL</td>\n",
       "      <td>-21.551500</td>\n",
       "      <td>-42.642861</td>\n",
       "      <td>869.0</td>\n",
       "      <td>880.0</td>\n",
       "      <td>NaN</td>\n",
       "      <td>30K0DXW</td>\n",
       "    </tr>\n",
       "    <tr>\n",
       "      <th>9978</th>\n",
       "      <td>TELEFONICA BRASIL S.A.</td>\n",
       "      <td>2558157000162</td>\n",
       "      <td>1083120</td>\n",
       "      <td>FB</td>\n",
       "      <td>MG</td>\n",
       "      <td>31</td>\n",
       "      <td>Itaúna</td>\n",
       "      <td>3133808</td>\n",
       "      <td>FAZENDA RETIRO DAS CONTENDAS (MORRO DO BONFIM)...</td>\n",
       "      <td>-20.055667</td>\n",
       "      <td>-44.582361</td>\n",
       "      <td>2670.0</td>\n",
       "      <td>2690.0</td>\n",
       "      <td>240.0</td>\n",
       "      <td>20M0G7W</td>\n",
       "    </tr>\n",
       "  </tbody>\n",
       "</table>\n",
       "<p>399 rows × 15 columns</p>\n",
       "</div>"
      ],
      "text/plain": [
       "                  Prestadora           CNPJ  Número da Estação  \\\n",
       "0                    TIM S/A  2421421000111               1058   \n",
       "15                   TIM S/A  2421421000111               2119   \n",
       "46    TELEFÔNICA BRASIL S.A.  2558157000162               3549   \n",
       "80    TELEFÔNICA BRASIL S.A.  2558157000162               3565   \n",
       "112   TELEFÔNICA BRASIL S.A.  2558157000162               3620   \n",
       "...                      ...            ...                ...   \n",
       "9939    AMAZONIA CELULAR S/A  2340278000133            1072099   \n",
       "9943                 TIM S/A  2421421000111            1072595   \n",
       "9947  TELEFÔNICA BRASIL S.A.  2558157000162            1080687   \n",
       "9971  TELEFÔNICA BRASIL S.A.  2558157000162            1081551   \n",
       "9978  TELEFONICA BRASIL S.A.  2558157000162            1083120   \n",
       "\n",
       "     Tipo da Estação  UF  Código da UF     Município  Código do Município  \\\n",
       "0                 FB  AL            27     Flexeiras              2702801   \n",
       "15                FB  AL            27        Maceió              2704302   \n",
       "46                FB  RS            43       Vacaria              4322509   \n",
       "80                FB  RS            43    Rio Grande              4315602   \n",
       "112               FB  RS            43          Bagé              4301602   \n",
       "...              ...  ..           ...           ...                  ...   \n",
       "9939              FB  PA            15    Ananindeua              1500800   \n",
       "9943              FB  AL            27        Maceió              2704302   \n",
       "9947              FB  MG            31  São Lourenço              3163706   \n",
       "9971              FB  MG            31    Leopoldina              3138401   \n",
       "9978              FB  MG            31        Itaúna              3133808   \n",
       "\n",
       "                                             Logradouro   Latitude  Longitude  \\\n",
       "0               RODOVIA BR 101 NORTE 0 MORRO CORTE NOVO  -9.241111 -35.779472   \n",
       "15              RUA SAO FRANCISCO DE ASSIS,1000,JATIUCA  -9.654881 -35.712517   \n",
       "46                  Av. Julio de Castilhos, ,925,Centro -28.505547 -50.935831   \n",
       "80                       Rua Duque de Caxias,298,Centro -32.033972 -52.097122   \n",
       "112                     Rua General Osorio,1.724,Centro -31.320911 -54.109086   \n",
       "...                                                 ...        ...        ...   \n",
       "9939  RODOVIA DO COQUEIRO, S/N                      ...  -1.384722 -48.410000   \n",
       "9943  AV FERNANDES LIMA,3700             ,.,GRUTA DE...  -9.613889 -35.738056   \n",
       "9947                         RUA 1 DE ABRIL ,S/N,CENTRO -22.119722 -45.054722   \n",
       "9971                   MORRO DO CRUZEIRO,S/N,ZONA RURAL -21.551500 -42.642861   \n",
       "9978  FAZENDA RETIRO DAS CONTENDAS (MORRO DO BONFIM)... -20.055667 -44.582361   \n",
       "\n",
       "      Frequência Inicial (MHz)  Frequência Final (MHz)  Azimute  Emissão  \n",
       "0                        869.0                   880.0    200.0  5M00G7W  \n",
       "15                      2125.0                  2135.0     35.0  5M00G9W  \n",
       "46                      2155.0                  2165.0    160.0  5M00D7W  \n",
       "80                      2155.0                  2165.0      0.0  5M00G9W  \n",
       "112                     1850.0                  1860.0     70.0  200KG7W  \n",
       "...                        ...                     ...      ...      ...  \n",
       "9939                     890.0                   891.5    555.5  40K0F1D  \n",
       "9943                     869.0                   880.0    999.9  40K0G3E  \n",
       "9947                    2155.0                  2165.0    340.0  5M00G9W  \n",
       "9971                     869.0                   880.0      NaN  30K0DXW  \n",
       "9978                    2670.0                  2690.0    240.0  20M0G7W  \n",
       "\n",
       "[399 rows x 15 columns]"
      ]
     },
     "execution_count": 11,
     "metadata": {},
     "output_type": "execute_result"
    }
   ],
   "source": [
    "df[\"Número da Estação\"].unique()\n",
    "df_unique = df.drop_duplicates(subset = \"Número da Estação\")\n",
    "df_unique"
   ]
  },
  {
   "cell_type": "markdown",
   "id": "80e24c7f",
   "metadata": {},
   "source": [
    "Definindo valores a serem pesquisados:"
   ]
  },
  {
   "cell_type": "code",
   "execution_count": 12,
   "id": "728a2b2c",
   "metadata": {},
   "outputs": [],
   "source": [
    "lat_search = -22.344725\n",
    "long_search = -49.095136\n",
    "raio_search = 50 # in Km"
   ]
  },
  {
   "cell_type": "markdown",
   "id": "52301d75",
   "metadata": {},
   "source": [
    "At the equator for longitude and for latitude anywhere, the following approximations are valid:\n",
    "\n",
    "1° = 111 km  (or 60 nautical miles)\n",
    "0.1° = 11.1 km\n",
    "0.01° = 1.11 km (2 decimals, km accuracy)\n",
    "0.001° = 111 m\n",
    "\n",
    "Fazendo conversções de kilometros para latitude e longitude:"
   ]
  },
  {
   "cell_type": "code",
   "execution_count": 13,
   "id": "44e91e0a",
   "metadata": {},
   "outputs": [],
   "source": [
    "lat_south = lat_search - (raio_search/111)\n",
    "\n",
    "lat_north = lat_search + (raio_search/111)\n",
    "\n",
    "long_west = long_search - (raio_search/111)\n",
    "\n",
    "long_east = long_search + (raio_search/111)"
   ]
  },
  {
   "cell_type": "markdown",
   "id": "6eda61ed",
   "metadata": {},
   "source": [
    "Testando as conversões, estão OK"
   ]
  },
  {
   "cell_type": "code",
   "execution_count": 14,
   "id": "7e4dd693",
   "metadata": {},
   "outputs": [
    {
     "name": "stdout",
     "output_type": "stream",
     "text": [
      "-22.79517545045045\n",
      "-21.89427454954955\n",
      "-49.54558645045045\n",
      "-48.64468554954954\n"
     ]
    }
   ],
   "source": [
    "print(lat_south)\n",
    "print(lat_north)\n",
    "print(long_west)\n",
    "print(long_east)"
   ]
  },
  {
   "cell_type": "markdown",
   "id": "29422cf8",
   "metadata": {},
   "source": [
    "Definindo os limites a serem filtrados para a pesquisa baseado nos valores definidos:"
   ]
  },
  {
   "cell_type": "code",
   "execution_count": 15,
   "id": "71bed053",
   "metadata": {},
   "outputs": [],
   "source": [
    "cond1 = df_unique['Latitude'] > lat_south\n",
    "cond2 = df_unique['Latitude'] < lat_north\n",
    "cond3 = df_unique['Longitude'] > long_west\n",
    "cond4 = df_unique['Longitude'] < long_east"
   ]
  },
  {
   "cell_type": "markdown",
   "id": "8892c521",
   "metadata": {},
   "source": [
    "Filtrando o dataframe segundo as condições baseadas nos valores de pesquisa inseridos."
   ]
  },
  {
   "cell_type": "code",
   "execution_count": 16,
   "id": "3558551b",
   "metadata": {},
   "outputs": [
    {
     "data": {
      "text/html": [
       "<div>\n",
       "<style scoped>\n",
       "    .dataframe tbody tr th:only-of-type {\n",
       "        vertical-align: middle;\n",
       "    }\n",
       "\n",
       "    .dataframe tbody tr th {\n",
       "        vertical-align: top;\n",
       "    }\n",
       "\n",
       "    .dataframe thead th {\n",
       "        text-align: right;\n",
       "    }\n",
       "</style>\n",
       "<table border=\"1\" class=\"dataframe\">\n",
       "  <thead>\n",
       "    <tr style=\"text-align: right;\">\n",
       "      <th></th>\n",
       "      <th>Prestadora</th>\n",
       "      <th>CNPJ</th>\n",
       "      <th>Número da Estação</th>\n",
       "      <th>Tipo da Estação</th>\n",
       "      <th>UF</th>\n",
       "      <th>Código da UF</th>\n",
       "      <th>Município</th>\n",
       "      <th>Código do Município</th>\n",
       "      <th>Logradouro</th>\n",
       "      <th>Latitude</th>\n",
       "      <th>Longitude</th>\n",
       "      <th>Frequência Inicial (MHz)</th>\n",
       "      <th>Frequência Final (MHz)</th>\n",
       "      <th>Azimute</th>\n",
       "      <th>Emissão</th>\n",
       "    </tr>\n",
       "  </thead>\n",
       "  <tbody>\n",
       "    <tr>\n",
       "      <th>296</th>\n",
       "      <td>TELEFÔNICA BRASIL S.A.</td>\n",
       "      <td>2558157000162</td>\n",
       "      <td>8486</td>\n",
       "      <td>FB</td>\n",
       "      <td>SP</td>\n",
       "      <td>35</td>\n",
       "      <td>Agudos</td>\n",
       "      <td>3500709</td>\n",
       "      <td>Avenida Belgrado X Avenida Inglaterra - Centro</td>\n",
       "      <td>-22.471917</td>\n",
       "      <td>-48.965517</td>\n",
       "      <td>1865.0</td>\n",
       "      <td>1870.0</td>\n",
       "      <td>145.0</td>\n",
       "      <td>200KG7W</td>\n",
       "    </tr>\n",
       "    <tr>\n",
       "      <th>320</th>\n",
       "      <td>TELEFÔNICA BRASIL S.A.</td>\n",
       "      <td>2558157000162</td>\n",
       "      <td>8508</td>\n",
       "      <td>FB</td>\n",
       "      <td>SP</td>\n",
       "      <td>35</td>\n",
       "      <td>Bauru</td>\n",
       "      <td>3506003</td>\n",
       "      <td>Avenida Sargento Leôncio Ferreira dos Santos, ...</td>\n",
       "      <td>-22.302383</td>\n",
       "      <td>-49.100178</td>\n",
       "      <td>2155.0</td>\n",
       "      <td>2165.0</td>\n",
       "      <td>20.0</td>\n",
       "      <td>5M00G7W</td>\n",
       "    </tr>\n",
       "    <tr>\n",
       "      <th>371</th>\n",
       "      <td>TELEFÔNICA BRASIL S.A.</td>\n",
       "      <td>2558157000162</td>\n",
       "      <td>8516</td>\n",
       "      <td>FB</td>\n",
       "      <td>SP</td>\n",
       "      <td>35</td>\n",
       "      <td>Bauru</td>\n",
       "      <td>3506003</td>\n",
       "      <td>Avenida Castelo Branco, 18-25 - Vila Ipiranga</td>\n",
       "      <td>-22.344725</td>\n",
       "      <td>-49.095136</td>\n",
       "      <td>2155.0</td>\n",
       "      <td>2165.0</td>\n",
       "      <td>30.0</td>\n",
       "      <td>5M00G7W</td>\n",
       "    </tr>\n",
       "    <tr>\n",
       "      <th>3129</th>\n",
       "      <td>TELEFÔNICA BRASIL S.A.</td>\n",
       "      <td>2558157000162</td>\n",
       "      <td>485330</td>\n",
       "      <td>FB</td>\n",
       "      <td>SP</td>\n",
       "      <td>35</td>\n",
       "      <td>Lençóis Paulista</td>\n",
       "      <td>3526803</td>\n",
       "      <td>Rodovia Marechal Rondon, Km 296 SP 300 - Barra...</td>\n",
       "      <td>-22.624722</td>\n",
       "      <td>-48.769444</td>\n",
       "      <td>2155.0</td>\n",
       "      <td>2165.0</td>\n",
       "      <td>340.0</td>\n",
       "      <td>5M00G7W</td>\n",
       "    </tr>\n",
       "    <tr>\n",
       "      <th>6934</th>\n",
       "      <td>TELEFÔNICA BRASIL S.A.</td>\n",
       "      <td>2558157000162</td>\n",
       "      <td>796786</td>\n",
       "      <td>FB</td>\n",
       "      <td>SP</td>\n",
       "      <td>35</td>\n",
       "      <td>Bariri</td>\n",
       "      <td>3505203</td>\n",
       "      <td>Avenida XV de Novembro, 439 - Centro</td>\n",
       "      <td>-22.075339</td>\n",
       "      <td>-48.742186</td>\n",
       "      <td>2155.0</td>\n",
       "      <td>2165.0</td>\n",
       "      <td>300.0</td>\n",
       "      <td>5M00G7W</td>\n",
       "    </tr>\n",
       "    <tr>\n",
       "      <th>7723</th>\n",
       "      <td>TELEFÔNICA BRASIL S.A.</td>\n",
       "      <td>2558157000162</td>\n",
       "      <td>868299</td>\n",
       "      <td>FB</td>\n",
       "      <td>SP</td>\n",
       "      <td>35</td>\n",
       "      <td>Bauru</td>\n",
       "      <td>3506003</td>\n",
       "      <td>Rua Antônio Gobette, 9-22 - Vila Engler</td>\n",
       "      <td>-22.332928</td>\n",
       "      <td>-49.049194</td>\n",
       "      <td>2155.0</td>\n",
       "      <td>2165.0</td>\n",
       "      <td>90.0</td>\n",
       "      <td>5M00G7W</td>\n",
       "    </tr>\n",
       "    <tr>\n",
       "      <th>8150</th>\n",
       "      <td>TELEFÔNICA BRASIL S.A.</td>\n",
       "      <td>2558157000162</td>\n",
       "      <td>903094</td>\n",
       "      <td>FB</td>\n",
       "      <td>SP</td>\n",
       "      <td>35</td>\n",
       "      <td>Bauru</td>\n",
       "      <td>3506003</td>\n",
       "      <td>Rua Luis Ferrari, 3-4 - Parque das Nações</td>\n",
       "      <td>-22.355792</td>\n",
       "      <td>-49.068569</td>\n",
       "      <td>1865.0</td>\n",
       "      <td>1870.0</td>\n",
       "      <td>220.0</td>\n",
       "      <td>200KG7W</td>\n",
       "    </tr>\n",
       "  </tbody>\n",
       "</table>\n",
       "</div>"
      ],
      "text/plain": [
       "                  Prestadora           CNPJ  Número da Estação  \\\n",
       "296   TELEFÔNICA BRASIL S.A.  2558157000162               8486   \n",
       "320   TELEFÔNICA BRASIL S.A.  2558157000162               8508   \n",
       "371   TELEFÔNICA BRASIL S.A.  2558157000162               8516   \n",
       "3129  TELEFÔNICA BRASIL S.A.  2558157000162             485330   \n",
       "6934  TELEFÔNICA BRASIL S.A.  2558157000162             796786   \n",
       "7723  TELEFÔNICA BRASIL S.A.  2558157000162             868299   \n",
       "8150  TELEFÔNICA BRASIL S.A.  2558157000162             903094   \n",
       "\n",
       "     Tipo da Estação  UF  Código da UF         Município  Código do Município  \\\n",
       "296               FB  SP            35            Agudos              3500709   \n",
       "320               FB  SP            35             Bauru              3506003   \n",
       "371               FB  SP            35             Bauru              3506003   \n",
       "3129              FB  SP            35  Lençóis Paulista              3526803   \n",
       "6934              FB  SP            35            Bariri              3505203   \n",
       "7723              FB  SP            35             Bauru              3506003   \n",
       "8150              FB  SP            35             Bauru              3506003   \n",
       "\n",
       "                                             Logradouro   Latitude  Longitude  \\\n",
       "296      Avenida Belgrado X Avenida Inglaterra - Centro -22.471917 -48.965517   \n",
       "320   Avenida Sargento Leôncio Ferreira dos Santos, ... -22.302383 -49.100178   \n",
       "371       Avenida Castelo Branco, 18-25 - Vila Ipiranga -22.344725 -49.095136   \n",
       "3129  Rodovia Marechal Rondon, Km 296 SP 300 - Barra... -22.624722 -48.769444   \n",
       "6934               Avenida XV de Novembro, 439 - Centro -22.075339 -48.742186   \n",
       "7723            Rua Antônio Gobette, 9-22 - Vila Engler -22.332928 -49.049194   \n",
       "8150          Rua Luis Ferrari, 3-4 - Parque das Nações -22.355792 -49.068569   \n",
       "\n",
       "      Frequência Inicial (MHz)  Frequência Final (MHz)  Azimute  Emissão  \n",
       "296                     1865.0                  1870.0    145.0  200KG7W  \n",
       "320                     2155.0                  2165.0     20.0  5M00G7W  \n",
       "371                     2155.0                  2165.0     30.0  5M00G7W  \n",
       "3129                    2155.0                  2165.0    340.0  5M00G7W  \n",
       "6934                    2155.0                  2165.0    300.0  5M00G7W  \n",
       "7723                    2155.0                  2165.0     90.0  5M00G7W  \n",
       "8150                    1865.0                  1870.0    220.0  200KG7W  "
      ]
     },
     "execution_count": 16,
     "metadata": {},
     "output_type": "execute_result"
    }
   ],
   "source": [
    "df_search = df_unique[cond1 & cond2 & cond3 & cond4]\n",
    "df_search"
   ]
  },
  {
   "cell_type": "code",
   "execution_count": 17,
   "id": "b9ac7262",
   "metadata": {},
   "outputs": [],
   "source": [
    "lat_list = df_search['Latitude'].values.tolist()\n",
    "long_list = df_search['Longitude'].values.tolist()\n",
    "name_list = df_search['Número da Estação'].values.tolist()"
   ]
  },
  {
   "cell_type": "markdown",
   "id": "4b0153d6",
   "metadata": {},
   "source": [
    "Definindo a função que cria o arquivo KML. A função já retorna a chamada para salvar o arquivo na diretório."
   ]
  },
  {
   "cell_type": "code",
   "execution_count": 18,
   "id": "0d9b8940",
   "metadata": {},
   "outputs": [],
   "source": [
    "kml = simplekml.Kml()\n",
    "\n",
    "def search_station():\n",
    "    i = 0\n",
    "    while i < len(lat_list):\n",
    "        lat = lat_list[i]\n",
    "        long = long_list[i]\n",
    "        number = name_list[i]\n",
    "        kml.newpoint(name=str(number), coords=[(long,lat)])  # lon, lat, optional height\n",
    "        i = i+1\n",
    "        \n",
    "    return kml.save(\"EstaçõesPróximas.kml\")"
   ]
  },
  {
   "cell_type": "code",
   "execution_count": 19,
   "id": "9d02ebf9",
   "metadata": {},
   "outputs": [],
   "source": [
    "search_station()"
   ]
  },
  {
   "cell_type": "markdown",
   "id": "0821135d",
   "metadata": {},
   "source": [
    "Aplicando a função para criar o arquivo KML"
   ]
  }
 ],
 "metadata": {
  "kernelspec": {
   "display_name": "Python 3",
   "language": "python",
   "name": "python3"
  },
  "language_info": {
   "codemirror_mode": {
    "name": "ipython",
    "version": 3
   },
   "file_extension": ".py",
   "mimetype": "text/x-python",
   "name": "python",
   "nbconvert_exporter": "python",
   "pygments_lexer": "ipython3",
   "version": "3.8.8"
  },
  "toc": {
   "base_numbering": 1,
   "nav_menu": {},
   "number_sections": true,
   "sideBar": true,
   "skip_h1_title": false,
   "title_cell": "Data Science Pipeline Project - Andrey Olv",
   "title_sidebar": "Contents",
   "toc_cell": true,
   "toc_position": {},
   "toc_section_display": true,
   "toc_window_display": true
  },
  "varInspector": {
   "cols": {
    "lenName": 16,
    "lenType": 16,
    "lenVar": 40
   },
   "kernels_config": {
    "python": {
     "delete_cmd_postfix": "",
     "delete_cmd_prefix": "del ",
     "library": "var_list.py",
     "varRefreshCmd": "print(var_dic_list())"
    },
    "r": {
     "delete_cmd_postfix": ") ",
     "delete_cmd_prefix": "rm(",
     "library": "var_list.r",
     "varRefreshCmd": "cat(var_dic_list()) "
    }
   },
   "types_to_exclude": [
    "module",
    "function",
    "builtin_function_or_method",
    "instance",
    "_Feature"
   ],
   "window_display": false
  }
 },
 "nbformat": 4,
 "nbformat_minor": 5
}
