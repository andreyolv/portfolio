{
 "cells": [
  {
   "cell_type": "markdown",
   "id": "ccc5fded",
   "metadata": {
    "toc": true
   },
   "source": [
    "<h1><span class=\"tocSkip\"></span></h1>\n",
    "<div class=\"toc\"><ul class=\"toc-item\"><li><span><a href=\"#SLP-Dataset-load_data-and-cleaning\" data-toc-modified-id=\"SLP-Dataset-load_data-and-cleaning-1\"><span class=\"toc-item-num\">1&nbsp;&nbsp;</span>SLP Dataset load_data and cleaning</a></span></li></ul></div>"
   ]
  },
  {
   "cell_type": "code",
   "execution_count": 1,
   "id": "ba207a56",
   "metadata": {},
   "outputs": [],
   "source": [
    "import streamlit as st\n",
    "import pandas as pd\n",
    "import simplekml\n",
    "import base64\n",
    "import io"
   ]
  },
  {
   "cell_type": "code",
   "execution_count": 2,
   "id": "3ae50a2a",
   "metadata": {},
   "outputs": [
    {
     "name": "stderr",
     "output_type": "stream",
     "text": [
      "2021-10-07 18:05:14.688 \n",
      "  \u001b[33m\u001b[1mWarning:\u001b[0m to view this Streamlit app on a browser, run it with the following\n",
      "  command:\n",
      "\n",
      "    streamlit run C:\\Users\\Andrey\\anaconda3\\lib\\site-packages\\ipykernel_launcher.py [ARGUMENTS]\n"
     ]
    }
   ],
   "source": [
    "# SIDE BAR INPUTS\n",
    "st.sidebar.header(\"User Input Filters\")\n",
    "\n",
    "# Sidebar - ANATEL Service Selection\n",
    "st.sidebar.subheader('ANATEL Service Selection')\n",
    "services = [\"SLP (Serviço Limitado Privado)\",\n",
    "            \"SMP (Serviço Móvel Pessoal)\"]\n",
    "service_choice = st.sidebar.selectbox('Select your service filtering', services)\n",
    "\n",
    "# Sidebar - CNPJ Input\n",
    "st.sidebar.subheader('Company CNPJ')\n",
    "cnpj_input = st.sidebar.number_input(\"CNPJ input\", 1234567891009)\n",
    "\n",
    "# Sidebar - City Input\n",
    "st.sidebar.subheader('City')\n",
    "city_input = st.sidebar.text_input(\"City input\", \"Curitiba\")\n",
    "\n",
    "# Sidebar - Coordinates Input\n",
    "st.sidebar.subheader('Geographic Coordinates')\n",
    "latitude_input = st.sidebar.number_input(\"Insert Latitude\", 20.48411)\n",
    "longitude_input = st.sidebar.number_input(\"Insert Longitude\", 20.48411)\n",
    "radius_input = st.sidebar.slider(\"Select radius in kilometers\", min_value=0, max_value=120, step=1)\n",
    "\n",
    "# Sidebar - Frequency Input\n",
    "st.sidebar.subheader('Frequency Operation')\n",
    "freq_init_input = st.sidebar.number_input(\"Insert Initial Frequency\", 2000)\n",
    "freq_end_input = st.sidebar.number_input(\"Insert End Frequency\", 2050)"
   ]
  },
  {
   "cell_type": "markdown",
   "id": "219fafc0",
   "metadata": {},
   "source": [
    "# SLP Dataset load_data and cleaning"
   ]
  },
  {
   "cell_type": "code",
   "execution_count": null,
   "id": "2b0fdbb6",
   "metadata": {},
   "outputs": [],
   "source": []
  },
  {
   "cell_type": "code",
   "execution_count": null,
   "id": "6efc2e4c",
   "metadata": {},
   "outputs": [],
   "source": []
  },
  {
   "cell_type": "code",
   "execution_count": null,
   "id": "c0f855c1",
   "metadata": {},
   "outputs": [],
   "source": []
  },
  {
   "cell_type": "code",
   "execution_count": null,
   "id": "82e6cfbf",
   "metadata": {},
   "outputs": [],
   "source": []
  },
  {
   "cell_type": "code",
   "execution_count": null,
   "id": "db4e7a21",
   "metadata": {},
   "outputs": [],
   "source": [
    "# SLP Dataset load_data and cleaning:\n",
    "df_slp = pd.read_csv(\"SLP (Serviço Limitado Privado).csv\", sep=';', nrows=100, encoding='UTF-8')\n",
    "df_slp = df_slp.drop(columns=['Bairro', 'Logradouro', 'Data Inclusão', 'Data Primeiro Licenciamento',\n",
    "                    'Designação Emissão', 'Potência', 'Raio', 'Ganho', 'F/C', '1/2 Potência',\n",
    "                    'Ângulo de Elevação', 'Azimute', 'Polarização', 'Data Último Licenciamento',\n",
    "                    'Aplicação do Serviço', 'Tipo de Identificação'])\n",
    "\n",
    "df_slp.rename(columns={\"CNPJ/CPF\": \"CNPJ\", \"Nome/Razão Social\": \"Empresa\", \"Freq. Transmissão\": \"Frequência\"})\n",
    "\n",
    "df_slp.Latitude.dropna()\n",
    "df_slp.Longitude.dropna()\n",
    "\n",
    "# Converting Geographic Coordinates Format\n",
    "def convert(coordenada):\n",
    "    try:\n",
    "        degree = coordenada[:2]\n",
    "        minutes = coordenada[3:5]\n",
    "        seconds = coordenada[5:]\n",
    "        letra = coordenada[2]\n",
    "\n",
    "        if letra == 'W' or letra == 'S':\n",
    "            signal = -1\n",
    "\n",
    "        if letra == 'O' or letra == 'N':\n",
    "            signal = 1\n",
    "\n",
    "        decimal_degrees = int(degree) + (int(minutes)/60) + (int(seconds)/360000)\n",
    "        final = signal*decimal_degrees\n",
    "\n",
    "        return final\n",
    "\n",
    "    except IndexError:\n",
    "        return 0\n",
    "\n",
    "df_slp['Latitude'] = df_slp.Latitude.apply(convert)\n",
    "df_slp['Longitude'] = df_slp.Longitude.apply(convert)\n",
    "\n",
    "# SMP Dataset load_data and cleaning:\n",
    "df_smp = pd.read_csv(\"SMP (Serviço Móvel Pessoal).csv\", sep=';', nrows=100, encoding='ISO-8859-1')\n",
    "df_smp = df_smp.drop(columns=['Tipo da Estação', 'UF', 'Código do Município', 'Logradouro', 'Azimute',\n",
    "                    'Frequência Inicial (MHz)', 'Emissão', 'Código da UF'])\n",
    "df_smp.rename(columns={\"Prestadora\": \"Empresa\", \"Frequência Final (MHz)\": \"Frequência\"})\n",
    "df_smp['Nome do Serviço'] = \"Serviço Móvel Pessoal\"\n",
    "\n",
    "df_smp.drop(df_smp[df_smp['Latitude'] == '*'].index, inplace=True)\n",
    "\n",
    "# Concatenating the 2 dataframes into 1 dataframe\n",
    "df_unique = pd.concat([df_slp, df_smp])\n",
    "\n",
    "# Manipulating Unique Dataframe\n",
    "df_unique[\"Número da Estação\"].unique()\n",
    "df_unique = df_unique.drop_duplicates(subset = \"Número da Estação\")\n",
    "\n",
    "# Converting Geographic Coordinates Input into Search Range\n",
    "lat_south = latitude_input - (radius_input/111)\n",
    "lat_north = latitude_input + (radius_input/111)\n",
    "long_west = longitude_input - (radius_input/111)\n",
    "long_east = longitude_input + (radius_input/111)\n",
    "\n",
    "# Filtering Dataframe based on user input values\n",
    "con1 = df_unique['CNPJ/CPF'] == cnpj_input\n",
    "con2 = df_unique['Município'] == city_input\n",
    "con3 = df_unique['Latitude'] >> lat_south & df_unique['Latitude'] << lat_north\n",
    "con4 = df_unique['Longitude'] >> long_west & df_unique['Longitude'] << long_east\n",
    "con5 = df_unique['Frequencia'] >> freq_init_input & df_unique['Frequencia'] << freq_final_input\n",
    "\n",
    "df_filtered = df[cond1 & cond2 & cond3 & cond4 & cond5]\n",
    "\n",
    "# Exporting Dataframe to Kml file\n",
    "lat_list = df_filtered['Latitude'].values.tolist()\n",
    "long_list = df_filtered['Longitude'].values.tolist()\n",
    "name_list = df_filtered['Número da Estação'].values.tolist()\n",
    "\n",
    "kml = simplekml.Kml()\n",
    "\n",
    "def export_kml():\n",
    "    i = 0\n",
    "    while i < len(lat_list):\n",
    "        lat = lat_list[i]\n",
    "        long = long_list[i]\n",
    "        number = name_list[i]\n",
    "        kml.newpoint(name=str(number), coords=[(long, lat)])  # lon, lat, optional height\n",
    "        i = i + 1\n",
    "    return kml.save(\"EstaçõesCNPJ.kml\")\n"
   ]
  }
 ],
 "metadata": {
  "kernelspec": {
   "display_name": "Python 3",
   "language": "python",
   "name": "python3"
  },
  "language_info": {
   "codemirror_mode": {
    "name": "ipython",
    "version": 3
   },
   "file_extension": ".py",
   "mimetype": "text/x-python",
   "name": "python",
   "nbconvert_exporter": "python",
   "pygments_lexer": "ipython3",
   "version": "3.8.8"
  },
  "toc": {
   "base_numbering": 1,
   "nav_menu": {},
   "number_sections": true,
   "sideBar": true,
   "skip_h1_title": false,
   "title_cell": "",
   "title_sidebar": "Contents",
   "toc_cell": true,
   "toc_position": {},
   "toc_section_display": true,
   "toc_window_display": true
  },
  "varInspector": {
   "cols": {
    "lenName": 16,
    "lenType": 16,
    "lenVar": 40
   },
   "kernels_config": {
    "python": {
     "delete_cmd_postfix": "",
     "delete_cmd_prefix": "del ",
     "library": "var_list.py",
     "varRefreshCmd": "print(var_dic_list())"
    },
    "r": {
     "delete_cmd_postfix": ") ",
     "delete_cmd_prefix": "rm(",
     "library": "var_list.r",
     "varRefreshCmd": "cat(var_dic_list()) "
    }
   },
   "types_to_exclude": [
    "module",
    "function",
    "builtin_function_or_method",
    "instance",
    "_Feature"
   ],
   "window_display": false
  }
 },
 "nbformat": 4,
 "nbformat_minor": 5
}
