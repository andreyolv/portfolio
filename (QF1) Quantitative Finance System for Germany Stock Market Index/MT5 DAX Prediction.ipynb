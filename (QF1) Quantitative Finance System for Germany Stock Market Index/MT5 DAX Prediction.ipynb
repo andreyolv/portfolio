{
 "cells": [
  {
   "cell_type": "markdown",
   "id": "54cdd846",
   "metadata": {},
   "source": [
    "Instalando bibliotecas novas"
   ]
  },
  {
   "cell_type": "code",
   "execution_count": 1,
   "id": "b91be8ba",
   "metadata": {},
   "outputs": [],
   "source": [
    "#pip install MetaTrader5\n",
    "#pip install mplfinance\n",
    "#pip install pytz"
   ]
  },
  {
   "cell_type": "markdown",
   "id": "81d749c5",
   "metadata": {},
   "source": [
    "Importando bibliotecas"
   ]
  },
  {
   "cell_type": "code",
   "execution_count": 2,
   "id": "de371d5d",
   "metadata": {},
   "outputs": [],
   "source": [
    "from datetime import datetime\n",
    "import matplotlib.pyplot as plt\n",
    "import pandas as pd\n",
    "import mplfinance as mpf\n",
    "import pytz\n",
    "import time\n",
    "from pandas.plotting import register_matplotlib_converters\n",
    "register_matplotlib_converters()\n",
    "import MetaTrader5 as mt5"
   ]
  },
  {
   "cell_type": "markdown",
   "id": "4c86e884",
   "metadata": {},
   "source": [
    "Abre o software MetaTrader5 e loga na última conta já configurada. \n",
    "Pode passar o login, senha e servidor na função caso necessário.\n",
    "Conta demo criada na corretora ActivTrades, https://www.activtrades.com/pt/"
   ]
  },
  {
   "cell_type": "code",
   "execution_count": 5,
   "id": "4c77b9cd",
   "metadata": {},
   "outputs": [
    {
     "name": "stdout",
     "output_type": "stream",
     "text": [
      "Conectado com sucesso\n"
     ]
    }
   ],
   "source": [
    "login = 5568586\n",
    "password = \"DLUZbkul\"\n",
    "server = \"ActivTrades-Server\"\n",
    "\n",
    "if mt5.initialize(login=login, password=password, server=server):\n",
    "    print(\"Conectado com sucesso\")\n",
    "else:\n",
    "    print(\"Falha de inicialização, error code =\",mt5.last_error())"
   ]
  },
  {
   "cell_type": "markdown",
   "id": "529a76f9",
   "metadata": {},
   "source": [
    "Verificando versão do MetaTrader5"
   ]
  },
  {
   "cell_type": "code",
   "execution_count": 6,
   "id": "a8758b64",
   "metadata": {},
   "outputs": [
    {
     "name": "stdout",
     "output_type": "stream",
     "text": [
      "MetaTrader5 package author:  MetaQuotes Software Corp. \n",
      "\n",
      "MetaTrader5 package version:  5.0.34\n"
     ]
    }
   ],
   "source": [
    "print(\"MetaTrader5 package author: \",mt5.__author__,\"\\n\")\n",
    "\n",
    "print(\"MetaTrader5 package version: \",mt5.__version__)"
   ]
  },
  {
   "cell_type": "markdown",
   "id": "b314837c",
   "metadata": {},
   "source": [
    "Verificando informações do terminal do MetaTrader5"
   ]
  },
  {
   "cell_type": "code",
   "execution_count": 7,
   "id": "c332c704",
   "metadata": {},
   "outputs": [
    {
     "name": "stdout",
     "output_type": "stream",
     "text": [
      "terminal_info() as dataframe:\n",
      "                 property                                              value\n",
      "0       community_account                                              False\n",
      "1    community_connection                                              False\n",
      "2               connected                                               True\n",
      "3            dlls_allowed                                              False\n",
      "4           trade_allowed                                              False\n",
      "5       tradeapi_disabled                                              False\n",
      "6           email_enabled                                              False\n",
      "7             ftp_enabled                                              False\n",
      "8   notifications_enabled                                              False\n",
      "9                    mqid                                              False\n",
      "10                  build                                               2982\n",
      "11                maxbars                                             100000\n",
      "12               codepage                                               1252\n",
      "13              ping_last                                             194615\n",
      "14      community_balance                                                0.0\n",
      "15         retransmission                                                0.0\n",
      "16                company                          MetaQuotes Software Corp.\n",
      "17                   name                                       MetaTrader 5\n",
      "18               language                                Portuguese (Brazil)\n",
      "19                   path                      C:\\Program Files\\MetaTrader 5\n",
      "20              data_path  C:\\Users\\Andrey\\AppData\\Roaming\\MetaQuotes\\Ter...\n",
      "21        commondata_path  C:\\Users\\Andrey\\AppData\\Roaming\\MetaQuotes\\Ter...\n"
     ]
    }
   ],
   "source": [
    "terminal_info=mt5.terminal_info()\n",
    "\n",
    "terminal_info_dict = mt5.terminal_info()._asdict()\n",
    "df=pd.DataFrame(list(terminal_info_dict.items()),columns=['property','value'])\n",
    "\n",
    "print(\"terminal_info() as dataframe:\")\n",
    "print(df)"
   ]
  },
  {
   "cell_type": "markdown",
   "id": "261da3be",
   "metadata": {},
   "source": [
    "Verificando informações da conta logada no MetaTrader5"
   ]
  },
  {
   "cell_type": "code",
   "execution_count": 8,
   "id": "9a07ec7c",
   "metadata": {},
   "outputs": [
    {
     "name": "stdout",
     "output_type": "stream",
     "text": [
      "account_info() as dataframe:\n",
      "              property               value\n",
      "0                login             5568586\n",
      "1           trade_mode                   0\n",
      "2             leverage                 400\n",
      "3         limit_orders                 200\n",
      "4       margin_so_mode                   0\n",
      "5        trade_allowed                True\n",
      "6         trade_expert                True\n",
      "7          margin_mode                   0\n",
      "8      currency_digits                   2\n",
      "9           fifo_close               False\n",
      "10             balance               250.0\n",
      "11              credit                 0.0\n",
      "12              profit                 0.0\n",
      "13              equity               250.0\n",
      "14              margin                 0.0\n",
      "15         margin_free               250.0\n",
      "16        margin_level                 0.0\n",
      "17      margin_so_call                50.0\n",
      "18        margin_so_so                30.0\n",
      "19      margin_initial                 0.0\n",
      "20  margin_maintenance                 0.0\n",
      "21              assets                 0.0\n",
      "22         liabilities                 0.0\n",
      "23  commission_blocked                 0.0\n",
      "24                name     Andrey Oliveira\n",
      "25              server  ActivTrades-Server\n",
      "26            currency                 USD\n",
      "27             company     ActivTrades Plc\n"
     ]
    }
   ],
   "source": [
    "account_info=mt5.account_info()\n",
    " \n",
    "account_info_dict = mt5.account_info()._asdict()\n",
    "df=pd.DataFrame(list(account_info_dict.items()),columns=['property','value'])\n",
    "\n",
    "print(\"account_info() as dataframe:\")\n",
    "print(df)"
   ]
  },
  {
   "cell_type": "markdown",
   "id": "8dffb20b",
   "metadata": {},
   "source": [
    "Verificando quantidade de simbolos disponíveis no servidor logado no MT5"
   ]
  },
  {
   "cell_type": "code",
   "execution_count": 9,
   "id": "ea0ec0df",
   "metadata": {},
   "outputs": [
    {
     "name": "stdout",
     "output_type": "stream",
     "text": [
      "Total symbols = 624\n"
     ]
    }
   ],
   "source": [
    "symbols=mt5.symbols_total()\n",
    "if symbols>0:\n",
    "    print(\"Total symbols =\",symbols)\n",
    "else:\n",
    "    print(\"symbols not found\")"
   ]
  },
  {
   "cell_type": "markdown",
   "id": "c02986a9",
   "metadata": {},
   "source": [
    "Adicionando o símbolo do ativo no display do MT5"
   ]
  },
  {
   "cell_type": "code",
   "execution_count": 10,
   "id": "eff19645",
   "metadata": {},
   "outputs": [],
   "source": [
    "selected=mt5.symbol_select(\"Ger30Sep21\",True)"
   ]
  },
  {
   "cell_type": "markdown",
   "id": "6366dec7",
   "metadata": {},
   "source": [
    "Exibindos propriedades relevantes do ativo"
   ]
  },
  {
   "cell_type": "code",
   "execution_count": 11,
   "id": "68bc5008",
   "metadata": {},
   "outputs": [
    {
     "name": "stdout",
     "output_type": "stream",
     "text": [
      "Ger30Sep21: spread = 20   digits = 1\n"
     ]
    }
   ],
   "source": [
    "symbol_info=mt5.symbol_info(\"Ger30Sep21\")\n",
    "\n",
    "print(\"Ger30Sep21: spread =\",symbol_info.spread,\"  digits =\",symbol_info.digits)"
   ]
  },
  {
   "cell_type": "markdown",
   "id": "3d1dd25e",
   "metadata": {},
   "source": [
    "Verificando a quantidade de ordens executadas num período de tempo"
   ]
  },
  {
   "cell_type": "code",
   "execution_count": 12,
   "id": "3b729c9b",
   "metadata": {},
   "outputs": [
    {
     "name": "stdout",
     "output_type": "stream",
     "text": [
      "Ordens Quantity(2021-07-01 00:00:00, 2021-07-03 16:37:46.629360, group=\"*Ger*\")=0\n"
     ]
    }
   ],
   "source": [
    "from_date=datetime(2021,7,1) #format (year, mounth, day)\n",
    "to_date=datetime.now()\n",
    "\n",
    "history_orders=mt5.history_orders_get(from_date, to_date, group=\"*Ger*\")\n",
    "\n",
    "print(\"Ordens Quantity({}, {}, group=\\\"*Ger*\\\")={}\".format(from_date,to_date,len(history_orders)))\n"
   ]
  },
  {
   "cell_type": "markdown",
   "id": "427735a0",
   "metadata": {},
   "source": [
    "Verificando as histórico de ordens nuno formato de dataframe (TESTAR QUANDO EXISTIREM ORDENS)"
   ]
  },
  {
   "cell_type": "code",
   "execution_count": 13,
   "id": "a3db7181",
   "metadata": {},
   "outputs": [
    {
     "name": "stdout",
     "output_type": "stream",
     "text": [
      "Sem ordens neste período\n"
     ]
    }
   ],
   "source": [
    "from_date=datetime(2021,7,1) #format (year, mounth, day)\n",
    "to_date=datetime.now()\n",
    "\n",
    "deals = mt5.history_deals_get(from_date, to_date, group=\"*Ger*\")\n",
    "\n",
    "if len(deals) > 0:\n",
    "    df=pd.DataFrame(list(deals),columns=deals[0]._asdict().keys())\n",
    "    df['time'] = pd.to_datetime(df['time'], unit='s')\n",
    "    print(df)\n",
    "\n",
    "else:\n",
    "    print(\"Sem ordens neste período\")"
   ]
  },
  {
   "cell_type": "markdown",
   "id": "a69faafd",
   "metadata": {},
   "source": [
    "Explorando dataframe do histórico de ordens"
   ]
  },
  {
   "cell_type": "code",
   "execution_count": 14,
   "id": "fdbaa7b2",
   "metadata": {},
   "outputs": [],
   "source": [
    "#df.columns\n",
    "#df = df.drop(columns=['magic', 'fee', 'comment', 'external_id'])\n",
    "#df.columns"
   ]
  },
  {
   "cell_type": "markdown",
   "id": "8601c448",
   "metadata": {},
   "source": [
    "Extraindo um dataframe com preços de candlesticks"
   ]
  },
  {
   "cell_type": "code",
   "execution_count": 15,
   "id": "4dae97ab",
   "metadata": {},
   "outputs": [
    {
     "name": "stdout",
     "output_type": "stream",
     "text": [
      "                  time     open     high      low    close  tick_volume  \\\n",
      "0  2021-07-02 05:20:00  15625.0  15625.0  15617.5  15621.0           42   \n",
      "1  2021-07-02 05:30:00  15621.0  15621.0  15613.5  15615.5           91   \n",
      "2  2021-07-02 05:40:00  15615.5  15619.0  15614.5  15615.5           58   \n",
      "3  2021-07-02 05:50:00  15616.5  15616.5  15607.5  15610.5           67   \n",
      "4  2021-07-02 06:00:00  15612.0  15615.5  15610.5  15611.0           64   \n",
      "..                 ...      ...      ...      ...      ...          ...   \n",
      "95 2021-07-02 21:10:00  15640.5  15644.5  15638.5  15643.0          289   \n",
      "96 2021-07-02 21:20:00  15643.0  15645.5  15641.5  15643.5          111   \n",
      "97 2021-07-02 21:30:00  15643.0  15647.0  15639.5  15643.5          237   \n",
      "98 2021-07-02 21:40:00  15643.5  15652.5  15638.5  15648.0          258   \n",
      "99 2021-07-02 21:50:00  15649.0  15654.0  15643.5  15647.0          355   \n",
      "\n",
      "    spread  real_volume  \n",
      "0       10            0  \n",
      "1       10            0  \n",
      "2       10            0  \n",
      "3       10            0  \n",
      "4       10            0  \n",
      "..     ...          ...  \n",
      "95      10            0  \n",
      "96      10            0  \n",
      "97      10            0  \n",
      "98      10            0  \n",
      "99      10            0  \n",
      "\n",
      "[100 rows x 8 columns]\n"
     ]
    }
   ],
   "source": [
    "rates = mt5.copy_rates_from_pos(\"Ger30Sep21\", mt5.TIMEFRAME_M10, 0, 100)\n",
    "rates_frame = pd.DataFrame(rates)\n",
    "\n",
    "rates_frame['time']=pd.to_datetime(rates_frame['time'], unit='s')\n",
    "print(rates_frame) "
   ]
  },
  {
   "cell_type": "markdown",
   "id": "9837d4fb",
   "metadata": {},
   "source": [
    "Verificando quantidade de ordens abertas (TESTAR COM UMA ORDEM ABERTA)"
   ]
  },
  {
   "cell_type": "code",
   "execution_count": 16,
   "id": "854828a0",
   "metadata": {},
   "outputs": [
    {
     "name": "stdout",
     "output_type": "stream",
     "text": [
      "Sem ordens abertas\n"
     ]
    }
   ],
   "source": [
    "orders=mt5.orders_total()\n",
    "if orders > 0:\n",
    "    print(\"Total orders=\",orders)\n",
    "else:\n",
    "    print(\"Sem ordens abertas\")"
   ]
  },
  {
   "cell_type": "markdown",
   "id": "f090bc4e",
   "metadata": {},
   "source": [
    "Verificando quantidade de posições abertas (similar ao acima) (TESTAR COM UMA ORDEM ABERTA)"
   ]
  },
  {
   "cell_type": "code",
   "execution_count": 17,
   "id": "a8507dab",
   "metadata": {},
   "outputs": [
    {
     "name": "stdout",
     "output_type": "stream",
     "text": [
      "Sem posições abertas\n"
     ]
    }
   ],
   "source": [
    "# check the presence of open positions\n",
    "positions_total=mt5.positions_total()\n",
    "\n",
    "if positions_total > 0:\n",
    "    print(\"Total positions=\",positions_total)\n",
    "else:\n",
    "    print(\"Sem posições abertas\")"
   ]
  },
  {
   "cell_type": "markdown",
   "id": "cb4294ab",
   "metadata": {},
   "source": [
    "Exibe um dataframe com as ordens abertas (TESTAR COM HISTÓRICO DE ORDENS)"
   ]
  },
  {
   "cell_type": "code",
   "execution_count": 18,
   "id": "e183f2b8",
   "metadata": {},
   "outputs": [
    {
     "name": "stdout",
     "output_type": "stream",
     "text": [
      "No positions with group=\"*Ger*\", error code=(1, 'Success')\n"
     ]
    }
   ],
   "source": [
    "ger_positions=mt5.positions_get(group=\"*Ger*\")\n",
    "\n",
    "if len(ger_positions)>0:\n",
    "    print(\"positions_get(group=\\\"*Ger*\\\")={}\".format(len(ger_positions)))\n",
    "    \n",
    "    df=pd.DataFrame(list(usd_positions),columns=usd_positions[0]._asdict().keys())\n",
    "    df['time'] = pd.to_datetime(df['time'], unit='s')\n",
    "    df.drop(['time_update', 'time_msc', 'time_update_msc', 'external_id'], axis=1, inplace=True)\n",
    "    print(df)\n",
    "\n",
    "else:\n",
    "    print(\"No positions with group=\\\"*Ger*\\\", error code={}\".format(mt5.last_error())) "
   ]
  },
  {
   "cell_type": "markdown",
   "id": "d45d281e",
   "metadata": {},
   "source": [
    "Exibe um dataframe com as ordens abertas (TESTAR COM HISTORICO DE ORDENS)"
   ]
  },
  {
   "cell_type": "code",
   "execution_count": 19,
   "id": "fe329593",
   "metadata": {},
   "outputs": [
    {
     "name": "stdout",
     "output_type": "stream",
     "text": [
      "No orders with group=\"*Ger*\", error code=(1, 'Success')\n"
     ]
    }
   ],
   "source": [
    "ger_orders=mt5.orders_get(group=\"*Ger*\")\n",
    "\n",
    "if len(ger_orders)>0:\n",
    "    print(\"orders_get(group=\\\"*Ger*\\\")={}\".format(len(ger_orders)))\n",
    "    \n",
    "    df=pd.DataFrame(list(ger_orders),columns=ger_orders[0]._asdict().keys())\n",
    "    df.drop(['time_done', 'time_done_msc', 'position_id', 'position_by_id', 'reason', 'volume_initial', 'price_stoplimit'], axis=1, inplace=True)\n",
    "    df['time_setup'] = pd.to_datetime(df['time_setup'], unit='s')\n",
    "    print(df)\n",
    "\n",
    "else:\n",
    "    print(\"No orders with group=\\\"*Ger*\\\", error code={}\".format(mt5.last_error()))    "
   ]
  },
  {
   "cell_type": "markdown",
   "id": "7bebb855",
   "metadata": {},
   "source": [
    "Verificando quantidade de margem para possível operação"
   ]
  },
  {
   "cell_type": "code",
   "execution_count": 20,
   "id": "d6f6a134",
   "metadata": {},
   "outputs": [
    {
     "name": "stdout",
     "output_type": "stream",
     "text": [
      "Ger30Sep21 buy 0.01 lot margin: 11.61 USD\n"
     ]
    }
   ],
   "source": [
    "symbol= \"Ger30Sep21\"\n",
    "\n",
    "account_currency = \"USD\"\n",
    "action=mt5.ORDER_TYPE_BUY\n",
    "lot=0.01\n",
    "    \n",
    "ask=mt5.symbol_info_tick(symbol).ask\n",
    "\n",
    "margin=mt5.order_calc_margin(action,symbol,lot,ask)\n",
    "    \n",
    "print(\"{} buy {} lot margin: {} {}\".format(symbol,lot,margin,account_currency))"
   ]
  },
  {
   "cell_type": "markdown",
   "id": "53d83518",
   "metadata": {},
   "source": [
    "Extraindo dataframe com informações do tick do ativo"
   ]
  },
  {
   "cell_type": "code",
   "execution_count": 21,
   "id": "cbfb7718",
   "metadata": {},
   "outputs": [
    {
     "name": "stdout",
     "output_type": "stream",
     "text": [
      "                  time      bid      ask  last  volume       time_msc  flags  \\\n",
      "0  2021-06-03 12:51:10  15489.5  15495.0   0.0       0  1622724670642    134   \n",
      "1  2021-06-03 12:51:10  15490.0  15495.0   0.0       0  1622724670657    130   \n",
      "2  2021-06-03 12:51:10  15491.0  15495.0   0.0       0  1622724670933    130   \n",
      "3  2021-06-03 12:51:11  15491.0  15496.0   0.0       0  1622724671029      4   \n",
      "4  2021-06-03 12:51:11  15491.0  15495.0   0.0       0  1622724671214      4   \n",
      "5  2021-06-03 12:51:11  15491.0  15496.0   0.0       0  1622724671308      4   \n",
      "6  2021-06-03 12:51:12  15492.0  15496.5   0.0       0  1622724672973    134   \n",
      "7  2021-06-03 12:51:13  15491.0  15496.5   0.0       0  1622724673213    130   \n",
      "8  2021-06-03 12:51:13  15491.0  15495.5   0.0       0  1622724673390      4   \n",
      "9  2021-06-03 12:51:13  15491.0  15496.5   0.0       0  1622724673452      4   \n",
      "10 2021-06-03 12:51:15  15490.5  15495.0   0.0       0  1622724675168    134   \n",
      "11 2021-06-03 12:51:19  15492.5  15495.5   0.0       0  1622724679935    134   \n",
      "12 2021-06-03 12:51:19  15490.5  15494.5   0.0       0  1622724679935    134   \n",
      "13 2021-06-03 12:51:19  15492.5  15495.5   0.0       0  1622724679935    134   \n",
      "14 2021-06-03 12:51:20  15490.5  15494.5   0.0       0  1622724680424    134   \n",
      "15 2021-06-03 12:51:20  15492.5  15495.5   0.0       0  1622724680487    134   \n",
      "16 2021-06-03 12:51:21  15492.5  15496.5   0.0       0  1622724681039      4   \n",
      "17 2021-06-03 12:51:22  15492.0  15495.5   0.0       0  1622724682235    134   \n",
      "18 2021-06-03 12:51:22  15490.5  15495.0   0.0       0  1622724682235    134   \n",
      "19 2021-06-03 12:51:22  15490.5  15496.0   0.0       0  1622724682235      4   \n",
      "20 2021-06-03 12:51:27  15491.5  15496.0   0.0       0  1622724687783    130   \n",
      "21 2021-06-03 12:51:27  15490.5  15496.0   0.0       0  1622724687783    130   \n",
      "22 2021-06-03 12:51:27  15492.0  15496.5   0.0       0  1622724687783    134   \n",
      "23 2021-06-03 12:51:27  15490.5  15496.0   0.0       0  1622724687845    134   \n",
      "24 2021-06-03 12:51:28  15492.0  15496.5   0.0       0  1622724688023    134   \n",
      "25 2021-06-03 12:51:30  15492.0  15497.0   0.0       0  1622724690655      4   \n",
      "26 2021-06-03 12:51:30  15493.0  15497.0   0.0       0  1622724690739    130   \n",
      "27 2021-06-03 12:51:31  15492.0  15497.0   0.0       0  1622724691603    130   \n",
      "28 2021-06-03 12:51:32  15492.5  15496.5   0.0       0  1622724692424    134   \n",
      "29 2021-06-03 12:51:32  15492.5  15497.5   0.0       0  1622724692424      4   \n",
      "\n",
      "    volume_real  \n",
      "0           0.0  \n",
      "1           0.0  \n",
      "2           0.0  \n",
      "3           0.0  \n",
      "4           0.0  \n",
      "5           0.0  \n",
      "6           0.0  \n",
      "7           0.0  \n",
      "8           0.0  \n",
      "9           0.0  \n",
      "10          0.0  \n",
      "11          0.0  \n",
      "12          0.0  \n",
      "13          0.0  \n",
      "14          0.0  \n",
      "15          0.0  \n",
      "16          0.0  \n",
      "17          0.0  \n",
      "18          0.0  \n",
      "19          0.0  \n",
      "20          0.0  \n",
      "21          0.0  \n",
      "22          0.0  \n",
      "23          0.0  \n",
      "24          0.0  \n",
      "25          0.0  \n",
      "26          0.0  \n",
      "27          0.0  \n",
      "28          0.0  \n",
      "29          0.0  \n"
     ]
    }
   ],
   "source": [
    "# set time zone to UTC\n",
    "timezone = pytz.timezone(\"Etc/UTC\")\n",
    "\n",
    "# create 'datetime' object in UTC time zone to avoid the implementation of a local time zone offset\n",
    "utc_from = datetime(2020, 7, 1, tzinfo=timezone)\n",
    "\n",
    "ticks = mt5.copy_ticks_from(\"Ger30Sep21\", utc_from, 1000, mt5.COPY_TICKS_ALL)\n",
    " \n",
    "ticks_frame = pd.DataFrame(ticks)\n",
    "ticks_frame['time']=pd.to_datetime(ticks_frame['time'], unit='s')\n",
    " \n",
    "print(ticks_frame.head(30))"
   ]
  },
  {
   "cell_type": "markdown",
   "id": "4e187814",
   "metadata": {},
   "source": [
    "Enviando ordem para MT5 (TESTAR COM MERCADO ABERTO)"
   ]
  },
  {
   "cell_type": "code",
   "execution_count": 22,
   "id": "c3762cfb",
   "metadata": {},
   "outputs": [
    {
     "name": "stdout",
     "output_type": "stream",
     "text": [
      "   retcode=10027\n",
      "   deal=0\n",
      "   order=0\n",
      "   volume=0.0\n",
      "   price=0.0\n",
      "   bid=0.0\n",
      "   ask=0.0\n",
      "   comment=AutoTrading disabled by client\n",
      "   request_id=0\n",
      "   retcode_external=0\n",
      "   request=TradeRequest(action=1, magic=234000, order=0, symbol='Ger30Sep21', volume=0.01, price=15649.0, stoplimit=0.0, sl=15639.0, tp=15659.0, deviation=10, type=0, type_filling=2, type_time=0, expiration=0, comment='python script', position=0, position_by=0)\n"
     ]
    }
   ],
   "source": [
    "# prepare the request structure\n",
    "symbol=\"Ger30Sep21\"\n",
    "symbol_info = mt5.symbol_info(symbol)\n",
    "point=mt5.symbol_info(symbol).point\n",
    "request = {\n",
    "    \"action\": mt5.TRADE_ACTION_DEAL,\n",
    "    \"symbol\": symbol,\n",
    "    \"volume\": 0.01,\n",
    "    \"type\": mt5.ORDER_TYPE_BUY,\n",
    "    \"price\": mt5.symbol_info_tick(symbol).ask,\n",
    "    \"sl\": mt5.symbol_info_tick(symbol).ask-100*point,\n",
    "    \"tp\": mt5.symbol_info_tick(symbol).ask+100*point,\n",
    "    \"deviation\": 10,\n",
    "    \"magic\": 234000,\n",
    "    \"comment\": \"python script\",\n",
    "    \"type_time\": mt5.ORDER_TIME_GTC,\n",
    "    \"type_filling\": mt5.ORDER_FILLING_RETURN,\n",
    "}\n",
    "result = mt5.order_send(request)\n",
    "\n",
    "# request the result as a dictionary and display it element by element\n",
    "result_dict=result._asdict()\n",
    "for field in result_dict.keys():\n",
    "   print(\"   {}={}\".format(field,result_dict[field]))"
   ]
  },
  {
   "cell_type": "code",
   "execution_count": 23,
   "id": "d12da77e",
   "metadata": {},
   "outputs": [],
   "source": [
    "# https://www.mql5.com/en/docs/integration/python_metatrader5/mt5ordersend_py"
   ]
  },
  {
   "cell_type": "markdown",
   "id": "fc5e7eca",
   "metadata": {},
   "source": [
    "Plotando gráfico de com High e Low Price"
   ]
  },
  {
   "cell_type": "code",
   "execution_count": 24,
   "id": "4eed1748",
   "metadata": {},
   "outputs": [
    {
     "data": {
      "image/png": "[encoded data removed]",
      "text/plain": [
       "<Figure size 1080x720 with 1 Axes>"
      ]
     },
     "metadata": {
      "needs_background": "light"
     },
     "output_type": "display_data"
    }
   ],
   "source": [
    "# request 1000 ticks from Ger30\n",
    "# ger_ticks = mt5.copy_ticks_from(\"Ger30Jun21\", datetime(2021,6,6,), 100, mt5.COPY_TICKS_ALL)\n",
    "\n",
    "# get bars from different symbols in a number of ways\n",
    "ger_bars = mt5.copy_rates_from_pos(\"Ger30Sep21\", mt5.TIMEFRAME_M1, 0, 1000)\n",
    " \n",
    "#PLOT\n",
    "# create DataFrame out of the obtained data\n",
    "bars_frame = pd.DataFrame(ger_bars)\n",
    "\n",
    "# convert time in seconds into the datetime format\n",
    "bars_frame['time']=pd.to_datetime(bars_frame['time'], unit='s')\n",
    "#bars_frame.head()\n",
    "\n",
    "# display bars on the chart\n",
    "plt.figure(figsize=(15, 10))\n",
    "plt.plot(bars_frame['time'], bars_frame['high'], 'r-', label='High Price')\n",
    "plt.plot(bars_frame['time'], bars_frame['low'], 'b-', label='Low Price')\n",
    "\n",
    "# display the legends\n",
    "plt.legend(loc='upper left')\n",
    " \n",
    "# add the header\n",
    "plt.title('Ger Bars 5M', size=30)\n",
    " \n",
    "# display the chart\n",
    "plt.show()"
   ]
  },
  {
   "cell_type": "markdown",
   "id": "54410ca7",
   "metadata": {},
   "source": [
    "Plotando gráfico de Candlestick"
   ]
  },
  {
   "cell_type": "code",
   "execution_count": 96,
   "id": "5a798dd5",
   "metadata": {},
   "outputs": [
    {
     "data": {
      "text/html": [
       "<div>\n",
       "<style scoped>\n",
       "    .dataframe tbody tr th:only-of-type {\n",
       "        vertical-align: middle;\n",
       "    }\n",
       "\n",
       "    .dataframe tbody tr th {\n",
       "        vertical-align: top;\n",
       "    }\n",
       "\n",
       "    .dataframe thead th {\n",
       "        text-align: right;\n",
       "    }\n",
       "</style>\n",
       "<table border=\"1\" class=\"dataframe\">\n",
       "  <thead>\n",
       "    <tr style=\"text-align: right;\">\n",
       "      <th></th>\n",
       "      <th>time</th>\n",
       "      <th>open</th>\n",
       "      <th>high</th>\n",
       "      <th>low</th>\n",
       "      <th>close</th>\n",
       "      <th>tick_volume</th>\n",
       "      <th>spread</th>\n",
       "      <th>real_volume</th>\n",
       "    </tr>\n",
       "  </thead>\n",
       "  <tbody>\n",
       "    <tr>\n",
       "      <th>0</th>\n",
       "      <td>2021-07-02 20:20:00</td>\n",
       "      <td>15644.5</td>\n",
       "      <td>15645.0</td>\n",
       "      <td>15643.5</td>\n",
       "      <td>15645.0</td>\n",
       "      <td>9</td>\n",
       "      <td>10</td>\n",
       "      <td>0</td>\n",
       "    </tr>\n",
       "    <tr>\n",
       "      <th>1</th>\n",
       "      <td>2021-07-02 20:21:00</td>\n",
       "      <td>15644.5</td>\n",
       "      <td>15645.5</td>\n",
       "      <td>15643.5</td>\n",
       "      <td>15645.5</td>\n",
       "      <td>12</td>\n",
       "      <td>10</td>\n",
       "      <td>0</td>\n",
       "    </tr>\n",
       "    <tr>\n",
       "      <th>2</th>\n",
       "      <td>2021-07-02 20:22:00</td>\n",
       "      <td>15643.5</td>\n",
       "      <td>15646.5</td>\n",
       "      <td>15643.5</td>\n",
       "      <td>15646.5</td>\n",
       "      <td>16</td>\n",
       "      <td>10</td>\n",
       "      <td>0</td>\n",
       "    </tr>\n",
       "    <tr>\n",
       "      <th>3</th>\n",
       "      <td>2021-07-02 20:23:00</td>\n",
       "      <td>15646.0</td>\n",
       "      <td>15648.0</td>\n",
       "      <td>15645.5</td>\n",
       "      <td>15646.5</td>\n",
       "      <td>10</td>\n",
       "      <td>10</td>\n",
       "      <td>0</td>\n",
       "    </tr>\n",
       "    <tr>\n",
       "      <th>4</th>\n",
       "      <td>2021-07-02 20:24:00</td>\n",
       "      <td>15647.0</td>\n",
       "      <td>15647.0</td>\n",
       "      <td>15645.5</td>\n",
       "      <td>15645.5</td>\n",
       "      <td>3</td>\n",
       "      <td>10</td>\n",
       "      <td>0</td>\n",
       "    </tr>\n",
       "  </tbody>\n",
       "</table>\n",
       "</div>"
      ],
      "text/plain": [
       "                 time     open     high      low    close  tick_volume  \\\n",
       "0 2021-07-02 20:20:00  15644.5  15645.0  15643.5  15645.0            9   \n",
       "1 2021-07-02 20:21:00  15644.5  15645.5  15643.5  15645.5           12   \n",
       "2 2021-07-02 20:22:00  15643.5  15646.5  15643.5  15646.5           16   \n",
       "3 2021-07-02 20:23:00  15646.0  15648.0  15645.5  15646.5           10   \n",
       "4 2021-07-02 20:24:00  15647.0  15647.0  15645.5  15645.5            3   \n",
       "\n",
       "   spread  real_volume  \n",
       "0      10            0  \n",
       "1      10            0  \n",
       "2      10            0  \n",
       "3      10            0  \n",
       "4      10            0  "
      ]
     },
     "execution_count": 96,
     "metadata": {},
     "output_type": "execute_result"
    }
   ],
   "source": [
    "ger_bars = mt5.copy_rates_from_pos(\"Ger30Sep21\", mt5.TIMEFRAME_M1, 0, 100)\n",
    "bars_frame = pd.DataFrame(ger_bars)\n",
    "bars_frame['time']=pd.to_datetime(bars_frame['time'], unit='s')\n",
    "bars_frame.head()\n",
    "#bars_frame.dtypes\n",
    "#bars_frame.rename(columns={\"time\": \"Date\"})"
   ]
  },
  {
   "cell_type": "code",
   "execution_count": 99,
   "id": "dc65c51f",
   "metadata": {},
   "outputs": [
    {
     "data": {
      "text/html": [
       "<div>\n",
       "<style scoped>\n",
       "    .dataframe tbody tr th:only-of-type {\n",
       "        vertical-align: middle;\n",
       "    }\n",
       "\n",
       "    .dataframe tbody tr th {\n",
       "        vertical-align: top;\n",
       "    }\n",
       "\n",
       "    .dataframe thead th {\n",
       "        text-align: right;\n",
       "    }\n",
       "</style>\n",
       "<table border=\"1\" class=\"dataframe\">\n",
       "  <thead>\n",
       "    <tr style=\"text-align: right;\">\n",
       "      <th></th>\n",
       "      <th>open</th>\n",
       "      <th>high</th>\n",
       "      <th>low</th>\n",
       "      <th>close</th>\n",
       "      <th>tick_volume</th>\n",
       "      <th>spread</th>\n",
       "      <th>real_volume</th>\n",
       "    </tr>\n",
       "    <tr>\n",
       "      <th>time</th>\n",
       "      <th></th>\n",
       "      <th></th>\n",
       "      <th></th>\n",
       "      <th></th>\n",
       "      <th></th>\n",
       "      <th></th>\n",
       "      <th></th>\n",
       "    </tr>\n",
       "  </thead>\n",
       "  <tbody>\n",
       "    <tr>\n",
       "      <th>2021-07-02 20:20:00</th>\n",
       "      <td>15644.5</td>\n",
       "      <td>15645.0</td>\n",
       "      <td>15643.5</td>\n",
       "      <td>15645.0</td>\n",
       "      <td>9</td>\n",
       "      <td>10</td>\n",
       "      <td>0</td>\n",
       "    </tr>\n",
       "    <tr>\n",
       "      <th>2021-07-02 20:21:00</th>\n",
       "      <td>15644.5</td>\n",
       "      <td>15645.5</td>\n",
       "      <td>15643.5</td>\n",
       "      <td>15645.5</td>\n",
       "      <td>12</td>\n",
       "      <td>10</td>\n",
       "      <td>0</td>\n",
       "    </tr>\n",
       "    <tr>\n",
       "      <th>2021-07-02 20:22:00</th>\n",
       "      <td>15643.5</td>\n",
       "      <td>15646.5</td>\n",
       "      <td>15643.5</td>\n",
       "      <td>15646.5</td>\n",
       "      <td>16</td>\n",
       "      <td>10</td>\n",
       "      <td>0</td>\n",
       "    </tr>\n",
       "    <tr>\n",
       "      <th>2021-07-02 20:23:00</th>\n",
       "      <td>15646.0</td>\n",
       "      <td>15648.0</td>\n",
       "      <td>15645.5</td>\n",
       "      <td>15646.5</td>\n",
       "      <td>10</td>\n",
       "      <td>10</td>\n",
       "      <td>0</td>\n",
       "    </tr>\n",
       "    <tr>\n",
       "      <th>2021-07-02 20:24:00</th>\n",
       "      <td>15647.0</td>\n",
       "      <td>15647.0</td>\n",
       "      <td>15645.5</td>\n",
       "      <td>15645.5</td>\n",
       "      <td>3</td>\n",
       "      <td>10</td>\n",
       "      <td>0</td>\n",
       "    </tr>\n",
       "  </tbody>\n",
       "</table>\n",
       "</div>"
      ],
      "text/plain": [
       "                        open     high      low    close  tick_volume  spread  \\\n",
       "time                                                                           \n",
       "2021-07-02 20:20:00  15644.5  15645.0  15643.5  15645.0            9      10   \n",
       "2021-07-02 20:21:00  15644.5  15645.5  15643.5  15645.5           12      10   \n",
       "2021-07-02 20:22:00  15643.5  15646.5  15643.5  15646.5           16      10   \n",
       "2021-07-02 20:23:00  15646.0  15648.0  15645.5  15646.5           10      10   \n",
       "2021-07-02 20:24:00  15647.0  15647.0  15645.5  15645.5            3      10   \n",
       "\n",
       "                     real_volume  \n",
       "time                              \n",
       "2021-07-02 20:20:00            0  \n",
       "2021-07-02 20:21:00            0  \n",
       "2021-07-02 20:22:00            0  \n",
       "2021-07-02 20:23:00            0  \n",
       "2021-07-02 20:24:00            0  "
      ]
     },
     "execution_count": 99,
     "metadata": {},
     "output_type": "execute_result"
    }
   ],
   "source": [
    "bars_frame.set_index('time', inplace=True)\n",
    "bars_frame.head()"
   ]
  },
  {
   "cell_type": "markdown",
   "id": "fec411a1",
   "metadata": {},
   "source": [
    "Ótima biblioteca https://github.com/matplotlib/mplfinance\n",
    "Essa biblioteca precisa do dataframe com a data no indice do dataframe, por isso a transformação acima."
   ]
  },
  {
   "cell_type": "code",
   "execution_count": 100,
   "id": "4d550854",
   "metadata": {
    "scrolled": true
   },
   "outputs": [
    {
     "data": {
      "image/png": "[encoded data removed]",
      "text/plain": [
       "<Figure size 800x575 with 2 Axes>"
      ]
     },
     "metadata": {},
     "output_type": "display_data"
    }
   ],
   "source": [
    "mpf.plot(bars_frame, type=\"candle\")"
   ]
  },
  {
   "cell_type": "markdown",
   "id": "b9e81e58",
   "metadata": {},
   "source": [
    "Alterando algumas configurações de plotagem da biblioteca MPL Finance com nova plotagem com visual melhor."
   ]
  },
  {
   "cell_type": "code",
   "execution_count": 106,
   "id": "61bfea35",
   "metadata": {},
   "outputs": [
    {
     "data": {
      "image/png": "[encoded data removed]",
      "text/plain": [
       "<Figure size 800x575 with 2 Axes>"
      ]
     },
     "metadata": {},
     "output_type": "display_data"
    }
   ],
   "source": [
    "colors = mpf.make_marketcolors(up=\"#00ff00\", down=\"#ff0000\", wick=\"inherit\", edge=\"inherit\", volume=\"in\")\n",
    "mpf_style = mpf.make_mpf_style(base_mpf_style='nightclouds', marketcolors=colors)\n",
    "\n",
    "mpf.plot(bars_frame, type=\"candle\", style=mpf_style)"
   ]
  },
  {
   "cell_type": "code",
   "execution_count": null,
   "id": "f9f377ad",
   "metadata": {},
   "outputs": [],
   "source": []
  },
  {
   "cell_type": "code",
   "execution_count": null,
   "id": "0b49a392",
   "metadata": {},
   "outputs": [],
   "source": []
  },
  {
   "cell_type": "markdown",
   "id": "7f962e62",
   "metadata": {},
   "source": [
    "Desligando conexão com MT5"
   ]
  },
  {
   "cell_type": "code",
   "execution_count": 13,
   "id": "d9400ac4",
   "metadata": {},
   "outputs": [
    {
     "data": {
      "text/plain": [
       "True"
      ]
     },
     "execution_count": 13,
     "metadata": {},
     "output_type": "execute_result"
    }
   ],
   "source": [
    "mt5.shutdown()"
   ]
  }
 ],
 "metadata": {
  "kernelspec": {
   "display_name": "Python 3",
   "language": "python",
   "name": "python3"
  },
  "language_info": {
   "codemirror_mode": {
    "name": "ipython",
    "version": 3
   },
   "file_extension": ".py",
   "mimetype": "text/x-python",
   "name": "python",
   "nbconvert_exporter": "python",
   "pygments_lexer": "ipython3",
   "version": "3.8.8"
  }
 },
 "nbformat": 4,
 "nbformat_minor": 5
}
