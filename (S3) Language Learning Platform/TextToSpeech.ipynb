{
 "cells": [
  {
   "cell_type": "markdown",
   "id": "c402cb3d",
   "metadata": {},
   "source": [
    "## Business Understanding"
   ]
  },
  {
   "cell_type": "markdown",
   "id": "c2c114a5",
   "metadata": {},
   "source": [
    "10000 characters per month free with a good human voice"
   ]
  },
  {
   "cell_type": "markdown",
   "id": "108268f5",
   "metadata": {},
   "source": [
    "### Installing libraries"
   ]
  },
  {
   "cell_type": "code",
   "execution_count": 2,
   "id": "50dd5aae",
   "metadata": {},
   "outputs": [],
   "source": [
    "# !pip install -U deep-translator\n",
    "# !pip install gTTS\n",
    "# !pip install ibm_watson"
   ]
  },
  {
   "cell_type": "markdown",
   "id": "90a7634e",
   "metadata": {},
   "source": [
    "### Importing libraries"
   ]
  },
  {
   "cell_type": "code",
   "execution_count": 3,
   "id": "45758166",
   "metadata": {},
   "outputs": [],
   "source": [
    "# General\n",
    "import pandas as pd\n",
    "\n",
    "# Translation\n",
    "from deep_translator import GoogleTranslator\n",
    "\n",
    "# gTTS\n",
    "from gtts import gTTS \n",
    "\n",
    "# IBM Watson\n",
    "from ibm_watson import TextToSpeechV1\n",
    "from ibm_cloud_sdk_core.authenticators import IAMAuthenticator"
   ]
  },
  {
   "cell_type": "markdown",
   "id": "c70c3d6a",
   "metadata": {},
   "source": [
    "### Loading dataset"
   ]
  },
  {
   "cell_type": "code",
   "execution_count": 4,
   "id": "532eae0a",
   "metadata": {},
   "outputs": [],
   "source": [
    "df = pd.read_excel(\"Glo1 ONE - ALL.xlsx\")"
   ]
  },
  {
   "cell_type": "markdown",
   "id": "cfde9444",
   "metadata": {},
   "source": [
    "### Basic exploration"
   ]
  },
  {
   "cell_type": "code",
   "execution_count": 5,
   "id": "a1f051b8",
   "metadata": {},
   "outputs": [
    {
     "data": {
      "text/plain": [
       "<bound method NDFrame.head of                                  O tempo está bom hoje  \\\n",
       "0                                      Eu não sou rico   \n",
       "1                                   Esta mala é pesada   \n",
       "2                              Estas malas são pesadas   \n",
       "3                             Olha, aquele é meu amigo   \n",
       "4         Eu e meu irmão somos bons jogadores de tênis   \n",
       "..                                                 ...   \n",
       "994     Nós fomos lá durante as férias dois anos atrás   \n",
       "995                                  Você se divertiu?   \n",
       "996                Nós nos divertimos. Foi maravilhoso   \n",
       "997                            O que sua namorada faz?   \n",
       "998  Ela é pintora. Ela ganhou muitos prêmios por s...   \n",
       "\n",
       "                              The weather's nice today  \\\n",
       "0                                         I'm not rich   \n",
       "1                                     This bag's heavy   \n",
       "2                                 These bags are heavy   \n",
       "3                              Look, there's my friend   \n",
       "4             My brother and I are good tennis players   \n",
       "..                                                 ...   \n",
       "994        We went there on vacation two (2) years ago   \n",
       "995                          Did you have a good time?   \n",
       "996              We had a great time. It was wonderful   \n",
       "997                      What does your girlfriend do?   \n",
       "998  She's a painter. She's won many prizes for her...   \n",
       "\n",
       "                                El tiempo es bueno hoy  \\\n",
       "0                                     [Yo] no soy rico   \n",
       "1                                 Esta bolsa es pesada   \n",
       "2                             Estas bolsas son pesadas   \n",
       "3                              Mira, ahí está mi amigo   \n",
       "4      Mi hermano y yo somos buenos jugadores de tenis   \n",
       "..                                                 ...   \n",
       "994  [Nosotros] fuimos allí de vacaciones hace dos ...   \n",
       "995                     ¿Lo pasasteis bien [vosotros]?   \n",
       "996    [Nosotros] lo pasamos muy bien. Fue maravilloso   \n",
       "997                                ¿Qué hace tu novia?   \n",
       "998  Ella es pintora. Ha ganado muchos premios con ...   \n",
       "\n",
       "                              Il fait beau aujourd'hui  \\\n",
       "0                                 Je ne suis pas riche   \n",
       "1                                     Ce sac est lourd   \n",
       "2                                 Ces sacs sont lourds   \n",
       "3                               Regarde, voilà mon ami   \n",
       "4    Mon frère et moi sommes de bons joueurs de tennis   \n",
       "..                                                 ...   \n",
       "994  Nous sommes allés (allées) en vacances là-bas ...   \n",
       "995                          As-tu passé du bon temps?   \n",
       "996    Nous avons eu du bon temps. C'était merveilleux   \n",
       "997                      Qu'est-ce que ta copine fait?   \n",
       "998  Elle est peintre. Elle a gagné plusieurs prix ...   \n",
       "\n",
       "                                 Oggi il tempo è bello  \\\n",
       "0                                       Non sono ricco   \n",
       "1                               Questa borsa è pesante   \n",
       "2                            Queste borse sono pesanti   \n",
       "3                             Guarda, c'è il mio amico   \n",
       "4    Mio fratello ed io siamo bravi a giocare a tennis   \n",
       "..                                                 ...   \n",
       "994             Ci siamo andati in vacanza due anni fa   \n",
       "995                                Vi siete divertiti?   \n",
       "996       Ci siamo divertiti molto. È stato fantastico   \n",
       "997                        Che cosa fa la tua ragazza?   \n",
       "998  È una pittrice. Ha vinto molti premi per le su...   \n",
       "\n",
       "                            Das Wetter heute ist schön  Unnamed: 6  \\\n",
       "0                                  Ich bin nicht reich         NaN   \n",
       "1                                Die Tasche ist schwer         NaN   \n",
       "2                              Die Taschen sind schwer         NaN   \n",
       "3    Guck, da ist mein Freund > Guck, da ist ein Fr...         NaN   \n",
       "4          Mein Bruder und ich sind gute Tennisspieler         NaN   \n",
       "..                                                 ...         ...   \n",
       "994          Wir waren vor zwei Jahren zum Urlaub dort         NaN   \n",
       "995                                      War es schön?         NaN   \n",
       "996    Es hat uns sehr gut gefallen. Es war sehr schön         NaN   \n",
       "997                Was macht deine Freundin beruflich?         NaN   \n",
       "998  Sie ist Künstlerin. Sie viele Preise mit ihren...         NaN   \n",
       "\n",
       "     Unnamed: 7  üöäß  \n",
       "0           NaN   NaN  \n",
       "1           NaN   NaN  \n",
       "2           NaN   NaN  \n",
       "3           NaN   NaN  \n",
       "4           NaN   NaN  \n",
       "..          ...   ...  \n",
       "994         NaN   NaN  \n",
       "995         NaN   NaN  \n",
       "996         NaN   NaN  \n",
       "997         NaN   NaN  \n",
       "998         NaN   NaN  \n",
       "\n",
       "[999 rows x 9 columns]>"
      ]
     },
     "execution_count": 5,
     "metadata": {},
     "output_type": "execute_result"
    }
   ],
   "source": [
    "df.head"
   ]
  },
  {
   "cell_type": "code",
   "execution_count": 6,
   "id": "c0d6f7f4",
   "metadata": {},
   "outputs": [
    {
     "data": {
      "text/html": [
       "<div>\n",
       "<style scoped>\n",
       "    .dataframe tbody tr th:only-of-type {\n",
       "        vertical-align: middle;\n",
       "    }\n",
       "\n",
       "    .dataframe tbody tr th {\n",
       "        vertical-align: top;\n",
       "    }\n",
       "\n",
       "    .dataframe thead th {\n",
       "        text-align: right;\n",
       "    }\n",
       "</style>\n",
       "<table border=\"1\" class=\"dataframe\">\n",
       "  <thead>\n",
       "    <tr style=\"text-align: right;\">\n",
       "      <th></th>\n",
       "      <th>Portuguese</th>\n",
       "      <th>English</th>\n",
       "      <th>Spanish</th>\n",
       "      <th>French</th>\n",
       "      <th>Italian</th>\n",
       "      <th>German</th>\n",
       "    </tr>\n",
       "  </thead>\n",
       "  <tbody>\n",
       "    <tr>\n",
       "      <th>0</th>\n",
       "      <td>Eu não sou rico</td>\n",
       "      <td>I'm not rich</td>\n",
       "      <td>[Yo] no soy rico</td>\n",
       "      <td>Je ne suis pas riche</td>\n",
       "      <td>Non sono ricco</td>\n",
       "      <td>Ich bin nicht reich</td>\n",
       "    </tr>\n",
       "    <tr>\n",
       "      <th>1</th>\n",
       "      <td>Esta mala é pesada</td>\n",
       "      <td>This bag's heavy</td>\n",
       "      <td>Esta bolsa es pesada</td>\n",
       "      <td>Ce sac est lourd</td>\n",
       "      <td>Questa borsa è pesante</td>\n",
       "      <td>Die Tasche ist schwer</td>\n",
       "    </tr>\n",
       "    <tr>\n",
       "      <th>2</th>\n",
       "      <td>Estas malas são pesadas</td>\n",
       "      <td>These bags are heavy</td>\n",
       "      <td>Estas bolsas son pesadas</td>\n",
       "      <td>Ces sacs sont lourds</td>\n",
       "      <td>Queste borse sono pesanti</td>\n",
       "      <td>Die Taschen sind schwer</td>\n",
       "    </tr>\n",
       "    <tr>\n",
       "      <th>3</th>\n",
       "      <td>Olha, aquele é meu amigo</td>\n",
       "      <td>Look, there's my friend</td>\n",
       "      <td>Mira, ahí está mi amigo</td>\n",
       "      <td>Regarde, voilà mon ami</td>\n",
       "      <td>Guarda, c'è il mio amico</td>\n",
       "      <td>Guck, da ist mein Freund &gt; Guck, da ist ein Fr...</td>\n",
       "    </tr>\n",
       "    <tr>\n",
       "      <th>4</th>\n",
       "      <td>Eu e meu irmão somos bons jogadores de tênis</td>\n",
       "      <td>My brother and I are good tennis players</td>\n",
       "      <td>Mi hermano y yo somos buenos jugadores de tenis</td>\n",
       "      <td>Mon frère et moi sommes de bons joueurs de tennis</td>\n",
       "      <td>Mio fratello ed io siamo bravi a giocare a tennis</td>\n",
       "      <td>Mein Bruder und ich sind gute Tennisspieler</td>\n",
       "    </tr>\n",
       "    <tr>\n",
       "      <th>5</th>\n",
       "      <td>Sua mãe está em casa. Ele está na escola</td>\n",
       "      <td>His mother's at home. He's at school</td>\n",
       "      <td>Su madre está en casa. Él está en el escuela</td>\n",
       "      <td>Sa mère est à la maison. Il est à l'école</td>\n",
       "      <td>Sua madre è a casa. Lui è a scuola</td>\n",
       "      <td>Seine Mutter ist zu Hause. Er ist in der Schule</td>\n",
       "    </tr>\n",
       "    <tr>\n",
       "      <th>6</th>\n",
       "      <td>Suas crianças estão na escola</td>\n",
       "      <td>Her children are at school</td>\n",
       "      <td>Sus hijos están en el escula</td>\n",
       "      <td>Ses enfants sont à l'école</td>\n",
       "      <td>I suoi figli sono a scuola</td>\n",
       "      <td>Ihre Kinder sind in der Schule</td>\n",
       "    </tr>\n",
       "    <tr>\n",
       "      <th>7</th>\n",
       "      <td>Eu sou motorista de táxi</td>\n",
       "      <td>I'm a taxi drive</td>\n",
       "      <td>[Yo] soy taxista</td>\n",
       "      <td>Je suis chauffeur de taxi</td>\n",
       "      <td>Sono un tassista (Faccio il tassista)</td>\n",
       "      <td>Ich bin ein Taxifahrer</td>\n",
       "    </tr>\n",
       "    <tr>\n",
       "      <th>8</th>\n",
       "      <td>Minha irmã é enfermeira</td>\n",
       "      <td>My sister's a nurse</td>\n",
       "      <td>Mi hermana es enfermera</td>\n",
       "      <td>Ma sœur est infirmière</td>\n",
       "      <td>Mia sorella è un'infermiera</td>\n",
       "      <td>Meine Schwester ist Krankenschwester</td>\n",
       "    </tr>\n",
       "    <tr>\n",
       "      <th>9</th>\n",
       "      <td>Ele está doente. Ele está na cama</td>\n",
       "      <td>He's sick. He's in bed</td>\n",
       "      <td>Él está enfermo. Él está en la cama</td>\n",
       "      <td>Il est malade. Il est au lit</td>\n",
       "      <td>È malato. È a letto</td>\n",
       "      <td>Er ist krank. Er liegt im Bett</td>\n",
       "    </tr>\n",
       "  </tbody>\n",
       "</table>\n",
       "</div>"
      ],
      "text/plain": [
       "                                     Portuguese  \\\n",
       "0                               Eu não sou rico   \n",
       "1                            Esta mala é pesada   \n",
       "2                       Estas malas são pesadas   \n",
       "3                      Olha, aquele é meu amigo   \n",
       "4  Eu e meu irmão somos bons jogadores de tênis   \n",
       "5      Sua mãe está em casa. Ele está na escola   \n",
       "6                 Suas crianças estão na escola   \n",
       "7                      Eu sou motorista de táxi   \n",
       "8                       Minha irmã é enfermeira   \n",
       "9             Ele está doente. Ele está na cama   \n",
       "\n",
       "                                    English  \\\n",
       "0                              I'm not rich   \n",
       "1                          This bag's heavy   \n",
       "2                      These bags are heavy   \n",
       "3                   Look, there's my friend   \n",
       "4  My brother and I are good tennis players   \n",
       "5      His mother's at home. He's at school   \n",
       "6                Her children are at school   \n",
       "7                          I'm a taxi drive   \n",
       "8                       My sister's a nurse   \n",
       "9                    He's sick. He's in bed   \n",
       "\n",
       "                                           Spanish  \\\n",
       "0                                 [Yo] no soy rico   \n",
       "1                             Esta bolsa es pesada   \n",
       "2                         Estas bolsas son pesadas   \n",
       "3                          Mira, ahí está mi amigo   \n",
       "4  Mi hermano y yo somos buenos jugadores de tenis   \n",
       "5     Su madre está en casa. Él está en el escuela   \n",
       "6                     Sus hijos están en el escula   \n",
       "7                                 [Yo] soy taxista   \n",
       "8                          Mi hermana es enfermera   \n",
       "9              Él está enfermo. Él está en la cama   \n",
       "\n",
       "                                              French  \\\n",
       "0                               Je ne suis pas riche   \n",
       "1                                   Ce sac est lourd   \n",
       "2                               Ces sacs sont lourds   \n",
       "3                             Regarde, voilà mon ami   \n",
       "4  Mon frère et moi sommes de bons joueurs de tennis   \n",
       "5          Sa mère est à la maison. Il est à l'école   \n",
       "6                         Ses enfants sont à l'école   \n",
       "7                          Je suis chauffeur de taxi   \n",
       "8                             Ma sœur est infirmière   \n",
       "9                       Il est malade. Il est au lit   \n",
       "\n",
       "                                             Italian  \\\n",
       "0                                     Non sono ricco   \n",
       "1                             Questa borsa è pesante   \n",
       "2                          Queste borse sono pesanti   \n",
       "3                           Guarda, c'è il mio amico   \n",
       "4  Mio fratello ed io siamo bravi a giocare a tennis   \n",
       "5                 Sua madre è a casa. Lui è a scuola   \n",
       "6                         I suoi figli sono a scuola   \n",
       "7              Sono un tassista (Faccio il tassista)   \n",
       "8                        Mia sorella è un'infermiera   \n",
       "9                                È malato. È a letto   \n",
       "\n",
       "                                              German  \n",
       "0                                Ich bin nicht reich  \n",
       "1                              Die Tasche ist schwer  \n",
       "2                            Die Taschen sind schwer  \n",
       "3  Guck, da ist mein Freund > Guck, da ist ein Fr...  \n",
       "4        Mein Bruder und ich sind gute Tennisspieler  \n",
       "5    Seine Mutter ist zu Hause. Er ist in der Schule  \n",
       "6                     Ihre Kinder sind in der Schule  \n",
       "7                             Ich bin ein Taxifahrer  \n",
       "8               Meine Schwester ist Krankenschwester  \n",
       "9                     Er ist krank. Er liegt im Bett  "
      ]
     },
     "execution_count": 6,
     "metadata": {},
     "output_type": "execute_result"
    }
   ],
   "source": [
    "cols = [6, 7, 8]\n",
    "df.drop(df.columns[cols],axis=1,inplace=True)\n",
    "df.columns = ['Portuguese', 'English', 'Spanish', 'French', 'Italian', 'German']\n",
    "df.head(10)"
   ]
  },
  {
   "cell_type": "code",
   "execution_count": 7,
   "id": "54b16b26",
   "metadata": {},
   "outputs": [
    {
     "data": {
      "text/plain": [
       "(999, 6)"
      ]
     },
     "execution_count": 7,
     "metadata": {},
     "output_type": "execute_result"
    }
   ],
   "source": [
    "df.shape"
   ]
  },
  {
   "cell_type": "code",
   "execution_count": 8,
   "id": "583ddecd",
   "metadata": {},
   "outputs": [
    {
     "data": {
      "text/plain": [
       "Portuguese    object\n",
       "English       object\n",
       "Spanish       object\n",
       "French        object\n",
       "Italian       object\n",
       "German        object\n",
       "dtype: object"
      ]
     },
     "execution_count": 8,
     "metadata": {},
     "output_type": "execute_result"
    }
   ],
   "source": [
    "df.dtypes"
   ]
  },
  {
   "cell_type": "markdown",
   "id": "22085bd7",
   "metadata": {},
   "source": [
    "### Testing gTTS"
   ]
  },
  {
   "cell_type": "code",
   "execution_count": 6,
   "id": "743eafc1",
   "metadata": {},
   "outputs": [],
   "source": [
    "text = \"Global warming is the long-term rise in the average temperature of the Earth’s climate system\""
   ]
  },
  {
   "cell_type": "code",
   "execution_count": 7,
   "id": "c5118cda",
   "metadata": {},
   "outputs": [],
   "source": [
    "speech = gTTS(text = text, lang = 'en', slow = False)"
   ]
  },
  {
   "cell_type": "code",
   "execution_count": 9,
   "id": "13c43c29",
   "metadata": {},
   "outputs": [],
   "source": [
    "speech.save(\"text.mp3\")"
   ]
  },
  {
   "cell_type": "markdown",
   "id": "5b92a53f",
   "metadata": {},
   "source": [
    "### Testing IBW Watson"
   ]
  },
  {
   "cell_type": "code",
   "execution_count": 15,
   "id": "241d158d",
   "metadata": {},
   "outputs": [],
   "source": [
    "from myIBMcredentials import apikey, url\n",
    "\n",
    "apikey = apikey()\n",
    "url = url()"
   ]
  },
  {
   "cell_type": "code",
   "execution_count": 16,
   "id": "97a599c6",
   "metadata": {},
   "outputs": [],
   "source": [
    "# Setup Service\n",
    "authenticator = IAMAuthenticator(apikey)\n",
    "tts = TextToSpeechV1(authenticator=authenticator)\n",
    "tts.set_service_url(url)"
   ]
  },
  {
   "cell_type": "code",
   "execution_count": 17,
   "id": "60ecb58b",
   "metadata": {},
   "outputs": [],
   "source": [
    "text = \"Global warming is the long-term rise in the average temperature of the Earth’s climate system\""
   ]
  },
  {
   "cell_type": "code",
   "execution_count": 18,
   "id": "01cbfb1b",
   "metadata": {},
   "outputs": [],
   "source": [
    "with open('./winston.mp3', 'wb') as audio_file:\n",
    "    res = tts.synthesize(text, accept='audio/mp3', voice='en-GB_JamesV3Voice').get_result()\n",
    "    audio_file.write(res.content)"
   ]
  }
 ],
 "metadata": {
  "kernelspec": {
   "display_name": "Python 3 (ipykernel)",
   "language": "python",
   "name": "python3"
  },
  "language_info": {
   "codemirror_mode": {
    "name": "ipython",
    "version": 3
   },
   "file_extension": ".py",
   "mimetype": "text/x-python",
   "name": "python",
   "nbconvert_exporter": "python",
   "pygments_lexer": "ipython3",
   "version": "3.9.7"
  }
 },
 "nbformat": 4,
 "nbformat_minor": 5
}
